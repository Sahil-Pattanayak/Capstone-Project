{
  "nbformat": 4,
  "nbformat_minor": 0,
  "metadata": {
    "colab": {
      "provenance": []
    },
    "kernelspec": {
      "name": "python3",
      "display_name": "Python 3"
    },
    "language_info": {
      "name": "python"
    },
    "widgets": {
      "application/vnd.jupyter.widget-state+json": {
        "c264b8cb0a304e02a22c8773a227ec23": {
          "model_module": "@jupyter-widgets/controls",
          "model_name": "VBoxModel",
          "model_module_version": "1.5.0",
          "state": {
            "_dom_classes": [
              "widget-interact"
            ],
            "_model_module": "@jupyter-widgets/controls",
            "_model_module_version": "1.5.0",
            "_model_name": "VBoxModel",
            "_view_count": null,
            "_view_module": "@jupyter-widgets/controls",
            "_view_module_version": "1.5.0",
            "_view_name": "VBoxView",
            "box_style": "",
            "children": [
              "IPY_MODEL_6b20f96ee8e24b73998be48c0d2d2e6d",
              "IPY_MODEL_c164f73a05c24cd1862a05a63d2dc866",
              "IPY_MODEL_182f34db4ebb41eea1cf5efaae4b5999"
            ],
            "layout": "IPY_MODEL_6d7c8f935c38485aa5c696eb64c6f5b4"
          }
        },
        "6b20f96ee8e24b73998be48c0d2d2e6d": {
          "model_module": "@jupyter-widgets/controls",
          "model_name": "DropdownModel",
          "model_module_version": "1.5.0",
          "state": {
            "_dom_classes": [],
            "_model_module": "@jupyter-widgets/controls",
            "_model_module_version": "1.5.0",
            "_model_name": "DropdownModel",
            "_options_labels": [
              "All Sites",
              "CCAFS LC-40",
              "VAFB SLC-4E",
              "KSC LC-39A",
              "CCAFS SLC-40"
            ],
            "_view_count": null,
            "_view_module": "@jupyter-widgets/controls",
            "_view_module_version": "1.5.0",
            "_view_name": "DropdownView",
            "description": "Launch Site:",
            "description_tooltip": null,
            "disabled": false,
            "index": 0,
            "layout": "IPY_MODEL_cf39d35949ba4dd0a28c3a73e0cd5c98",
            "style": "IPY_MODEL_8c923f58c6b84b4e973aee331627edf1"
          }
        },
        "c164f73a05c24cd1862a05a63d2dc866": {
          "model_module": "@jupyter-widgets/controls",
          "model_name": "IntRangeSliderModel",
          "model_module_version": "1.5.0",
          "state": {
            "_dom_classes": [],
            "_model_module": "@jupyter-widgets/controls",
            "_model_module_version": "1.5.0",
            "_model_name": "IntRangeSliderModel",
            "_view_count": null,
            "_view_module": "@jupyter-widgets/controls",
            "_view_module_version": "1.5.0",
            "_view_name": "IntRangeSliderView",
            "continuous_update": false,
            "description": "Payload range:",
            "description_tooltip": null,
            "disabled": false,
            "layout": "IPY_MODEL_f06a98e29027416bbab98491e8d16d07",
            "max": 9600,
            "min": 0,
            "orientation": "horizontal",
            "readout": true,
            "readout_format": "d",
            "step": 1000,
            "style": "IPY_MODEL_746559e722304442bf3e883284b4bfe2",
            "value": [
              0,
              3000
            ]
          }
        },
        "182f34db4ebb41eea1cf5efaae4b5999": {
          "model_module": "@jupyter-widgets/output",
          "model_name": "OutputModel",
          "model_module_version": "1.0.0",
          "state": {
            "_dom_classes": [],
            "_model_module": "@jupyter-widgets/output",
            "_model_module_version": "1.0.0",
            "_model_name": "OutputModel",
            "_view_count": null,
            "_view_module": "@jupyter-widgets/output",
            "_view_module_version": "1.0.0",
            "_view_name": "OutputView",
            "layout": "IPY_MODEL_abb75f25f9ca44ceb37e12eb83828929",
            "msg_id": "",
            "outputs": [
              {
                "output_type": "display_data",
                "data": {
                  "text/html": "<html>\n<head><meta charset=\"utf-8\" /></head>\n<body>\n    <div>            <script src=\"https://cdnjs.cloudflare.com/ajax/libs/mathjax/2.7.5/MathJax.js?config=TeX-AMS-MML_SVG\"></script><script type=\"text/javascript\">if (window.MathJax && window.MathJax.Hub && window.MathJax.Hub.Config) {window.MathJax.Hub.Config({SVG: {font: \"STIX-Web\"}});}</script>                <script type=\"text/javascript\">window.PlotlyConfig = {MathJaxConfig: 'local'};</script>\n        <script charset=\"utf-8\" src=\"https://cdn.plot.ly/plotly-2.35.0.min.js\"></script>                <div id=\"3f2338cf-0b49-4781-bc09-86541b3efb37\" class=\"plotly-graph-div\" style=\"height:525px; width:100%;\"></div>            <script type=\"text/javascript\">                                    window.PLOTLYENV=window.PLOTLYENV || {};                                    if (document.getElementById(\"3f2338cf-0b49-4781-bc09-86541b3efb37\")) {                    Plotly.newPlot(                        \"3f2338cf-0b49-4781-bc09-86541b3efb37\",                        [{\"domain\":{\"x\":[0.0,1.0],\"y\":[0.0,1.0]},\"hovertemplate\":\"Launch Site=%{label}\\u003cbr\\u003eclass=%{value}\\u003cextra\\u003e\\u003c\\u002fextra\\u003e\",\"labels\":[\"CCAFS LC-40\",\"CCAFS LC-40\",\"CCAFS LC-40\",\"CCAFS LC-40\",\"CCAFS LC-40\",\"CCAFS LC-40\",\"CCAFS LC-40\",\"CCAFS LC-40\",\"CCAFS LC-40\",\"CCAFS LC-40\",\"CCAFS LC-40\",\"CCAFS LC-40\",\"CCAFS LC-40\",\"CCAFS LC-40\",\"CCAFS LC-40\",\"CCAFS LC-40\",\"CCAFS LC-40\",\"CCAFS LC-40\",\"CCAFS LC-40\",\"CCAFS LC-40\",\"CCAFS LC-40\",\"CCAFS LC-40\",\"CCAFS LC-40\",\"CCAFS LC-40\",\"CCAFS LC-40\",\"CCAFS LC-40\",\"VAFB SLC-4E\",\"VAFB SLC-4E\",\"VAFB SLC-4E\",\"VAFB SLC-4E\",\"VAFB SLC-4E\",\"VAFB SLC-4E\",\"VAFB SLC-4E\",\"VAFB SLC-4E\",\"VAFB SLC-4E\",\"VAFB SLC-4E\",\"KSC LC-39A\",\"KSC LC-39A\",\"KSC LC-39A\",\"KSC LC-39A\",\"KSC LC-39A\",\"KSC LC-39A\",\"KSC LC-39A\",\"KSC LC-39A\",\"KSC LC-39A\",\"KSC LC-39A\",\"KSC LC-39A\",\"KSC LC-39A\",\"KSC LC-39A\",\"CCAFS SLC-40\",\"CCAFS SLC-40\",\"CCAFS SLC-40\",\"CCAFS SLC-40\",\"CCAFS SLC-40\",\"CCAFS SLC-40\",\"CCAFS SLC-40\"],\"legendgroup\":\"\",\"name\":\"\",\"showlegend\":true,\"values\":[0,0,0,0,0,0,0,0,0,0,0,0,0,0,0,0,0,1,1,0,1,1,1,0,1,1,0,0,1,1,1,1,0,0,0,0,1,0,1,1,0,1,1,0,1,1,1,1,1,1,1,0,0,0,1,0],\"type\":\"pie\"}],                        {\"template\":{\"data\":{\"histogram2dcontour\":[{\"type\":\"histogram2dcontour\",\"colorbar\":{\"outlinewidth\":0,\"ticks\":\"\"},\"colorscale\":[[0.0,\"#0d0887\"],[0.1111111111111111,\"#46039f\"],[0.2222222222222222,\"#7201a8\"],[0.3333333333333333,\"#9c179e\"],[0.4444444444444444,\"#bd3786\"],[0.5555555555555556,\"#d8576b\"],[0.6666666666666666,\"#ed7953\"],[0.7777777777777778,\"#fb9f3a\"],[0.8888888888888888,\"#fdca26\"],[1.0,\"#f0f921\"]]}],\"choropleth\":[{\"type\":\"choropleth\",\"colorbar\":{\"outlinewidth\":0,\"ticks\":\"\"}}],\"histogram2d\":[{\"type\":\"histogram2d\",\"colorbar\":{\"outlinewidth\":0,\"ticks\":\"\"},\"colorscale\":[[0.0,\"#0d0887\"],[0.1111111111111111,\"#46039f\"],[0.2222222222222222,\"#7201a8\"],[0.3333333333333333,\"#9c179e\"],[0.4444444444444444,\"#bd3786\"],[0.5555555555555556,\"#d8576b\"],[0.6666666666666666,\"#ed7953\"],[0.7777777777777778,\"#fb9f3a\"],[0.8888888888888888,\"#fdca26\"],[1.0,\"#f0f921\"]]}],\"heatmap\":[{\"type\":\"heatmap\",\"colorbar\":{\"outlinewidth\":0,\"ticks\":\"\"},\"colorscale\":[[0.0,\"#0d0887\"],[0.1111111111111111,\"#46039f\"],[0.2222222222222222,\"#7201a8\"],[0.3333333333333333,\"#9c179e\"],[0.4444444444444444,\"#bd3786\"],[0.5555555555555556,\"#d8576b\"],[0.6666666666666666,\"#ed7953\"],[0.7777777777777778,\"#fb9f3a\"],[0.8888888888888888,\"#fdca26\"],[1.0,\"#f0f921\"]]}],\"heatmapgl\":[{\"type\":\"heatmapgl\",\"colorbar\":{\"outlinewidth\":0,\"ticks\":\"\"},\"colorscale\":[[0.0,\"#0d0887\"],[0.1111111111111111,\"#46039f\"],[0.2222222222222222,\"#7201a8\"],[0.3333333333333333,\"#9c179e\"],[0.4444444444444444,\"#bd3786\"],[0.5555555555555556,\"#d8576b\"],[0.6666666666666666,\"#ed7953\"],[0.7777777777777778,\"#fb9f3a\"],[0.8888888888888888,\"#fdca26\"],[1.0,\"#f0f921\"]]}],\"contourcarpet\":[{\"type\":\"contourcarpet\",\"colorbar\":{\"outlinewidth\":0,\"ticks\":\"\"}}],\"contour\":[{\"type\":\"contour\",\"colorbar\":{\"outlinewidth\":0,\"ticks\":\"\"},\"colorscale\":[[0.0,\"#0d0887\"],[0.1111111111111111,\"#46039f\"],[0.2222222222222222,\"#7201a8\"],[0.3333333333333333,\"#9c179e\"],[0.4444444444444444,\"#bd3786\"],[0.5555555555555556,\"#d8576b\"],[0.6666666666666666,\"#ed7953\"],[0.7777777777777778,\"#fb9f3a\"],[0.8888888888888888,\"#fdca26\"],[1.0,\"#f0f921\"]]}],\"surface\":[{\"type\":\"surface\",\"colorbar\":{\"outlinewidth\":0,\"ticks\":\"\"},\"colorscale\":[[0.0,\"#0d0887\"],[0.1111111111111111,\"#46039f\"],[0.2222222222222222,\"#7201a8\"],[0.3333333333333333,\"#9c179e\"],[0.4444444444444444,\"#bd3786\"],[0.5555555555555556,\"#d8576b\"],[0.6666666666666666,\"#ed7953\"],[0.7777777777777778,\"#fb9f3a\"],[0.8888888888888888,\"#fdca26\"],[1.0,\"#f0f921\"]]}],\"mesh3d\":[{\"type\":\"mesh3d\",\"colorbar\":{\"outlinewidth\":0,\"ticks\":\"\"}}],\"scatter\":[{\"fillpattern\":{\"fillmode\":\"overlay\",\"size\":10,\"solidity\":0.2},\"type\":\"scatter\"}],\"parcoords\":[{\"type\":\"parcoords\",\"line\":{\"colorbar\":{\"outlinewidth\":0,\"ticks\":\"\"}}}],\"scatterpolargl\":[{\"type\":\"scatterpolargl\",\"marker\":{\"colorbar\":{\"outlinewidth\":0,\"ticks\":\"\"}}}],\"bar\":[{\"error_x\":{\"color\":\"#2a3f5f\"},\"error_y\":{\"color\":\"#2a3f5f\"},\"marker\":{\"line\":{\"color\":\"#E5ECF6\",\"width\":0.5},\"pattern\":{\"fillmode\":\"overlay\",\"size\":10,\"solidity\":0.2}},\"type\":\"bar\"}],\"scattergeo\":[{\"type\":\"scattergeo\",\"marker\":{\"colorbar\":{\"outlinewidth\":0,\"ticks\":\"\"}}}],\"scatterpolar\":[{\"type\":\"scatterpolar\",\"marker\":{\"colorbar\":{\"outlinewidth\":0,\"ticks\":\"\"}}}],\"histogram\":[{\"marker\":{\"pattern\":{\"fillmode\":\"overlay\",\"size\":10,\"solidity\":0.2}},\"type\":\"histogram\"}],\"scattergl\":[{\"type\":\"scattergl\",\"marker\":{\"colorbar\":{\"outlinewidth\":0,\"ticks\":\"\"}}}],\"scatter3d\":[{\"type\":\"scatter3d\",\"line\":{\"colorbar\":{\"outlinewidth\":0,\"ticks\":\"\"}},\"marker\":{\"colorbar\":{\"outlinewidth\":0,\"ticks\":\"\"}}}],\"scattermapbox\":[{\"type\":\"scattermapbox\",\"marker\":{\"colorbar\":{\"outlinewidth\":0,\"ticks\":\"\"}}}],\"scatterternary\":[{\"type\":\"scatterternary\",\"marker\":{\"colorbar\":{\"outlinewidth\":0,\"ticks\":\"\"}}}],\"scattercarpet\":[{\"type\":\"scattercarpet\",\"marker\":{\"colorbar\":{\"outlinewidth\":0,\"ticks\":\"\"}}}],\"carpet\":[{\"aaxis\":{\"endlinecolor\":\"#2a3f5f\",\"gridcolor\":\"white\",\"linecolor\":\"white\",\"minorgridcolor\":\"white\",\"startlinecolor\":\"#2a3f5f\"},\"baxis\":{\"endlinecolor\":\"#2a3f5f\",\"gridcolor\":\"white\",\"linecolor\":\"white\",\"minorgridcolor\":\"white\",\"startlinecolor\":\"#2a3f5f\"},\"type\":\"carpet\"}],\"table\":[{\"cells\":{\"fill\":{\"color\":\"#EBF0F8\"},\"line\":{\"color\":\"white\"}},\"header\":{\"fill\":{\"color\":\"#C8D4E3\"},\"line\":{\"color\":\"white\"}},\"type\":\"table\"}],\"barpolar\":[{\"marker\":{\"line\":{\"color\":\"#E5ECF6\",\"width\":0.5},\"pattern\":{\"fillmode\":\"overlay\",\"size\":10,\"solidity\":0.2}},\"type\":\"barpolar\"}],\"pie\":[{\"automargin\":true,\"type\":\"pie\"}]},\"layout\":{\"autotypenumbers\":\"strict\",\"colorway\":[\"#636efa\",\"#EF553B\",\"#00cc96\",\"#ab63fa\",\"#FFA15A\",\"#19d3f3\",\"#FF6692\",\"#B6E880\",\"#FF97FF\",\"#FECB52\"],\"font\":{\"color\":\"#2a3f5f\"},\"hovermode\":\"closest\",\"hoverlabel\":{\"align\":\"left\"},\"paper_bgcolor\":\"white\",\"plot_bgcolor\":\"#E5ECF6\",\"polar\":{\"bgcolor\":\"#E5ECF6\",\"angularaxis\":{\"gridcolor\":\"white\",\"linecolor\":\"white\",\"ticks\":\"\"},\"radialaxis\":{\"gridcolor\":\"white\",\"linecolor\":\"white\",\"ticks\":\"\"}},\"ternary\":{\"bgcolor\":\"#E5ECF6\",\"aaxis\":{\"gridcolor\":\"white\",\"linecolor\":\"white\",\"ticks\":\"\"},\"baxis\":{\"gridcolor\":\"white\",\"linecolor\":\"white\",\"ticks\":\"\"},\"caxis\":{\"gridcolor\":\"white\",\"linecolor\":\"white\",\"ticks\":\"\"}},\"coloraxis\":{\"colorbar\":{\"outlinewidth\":0,\"ticks\":\"\"}},\"colorscale\":{\"sequential\":[[0.0,\"#0d0887\"],[0.1111111111111111,\"#46039f\"],[0.2222222222222222,\"#7201a8\"],[0.3333333333333333,\"#9c179e\"],[0.4444444444444444,\"#bd3786\"],[0.5555555555555556,\"#d8576b\"],[0.6666666666666666,\"#ed7953\"],[0.7777777777777778,\"#fb9f3a\"],[0.8888888888888888,\"#fdca26\"],[1.0,\"#f0f921\"]],\"sequentialminus\":[[0.0,\"#0d0887\"],[0.1111111111111111,\"#46039f\"],[0.2222222222222222,\"#7201a8\"],[0.3333333333333333,\"#9c179e\"],[0.4444444444444444,\"#bd3786\"],[0.5555555555555556,\"#d8576b\"],[0.6666666666666666,\"#ed7953\"],[0.7777777777777778,\"#fb9f3a\"],[0.8888888888888888,\"#fdca26\"],[1.0,\"#f0f921\"]],\"diverging\":[[0,\"#8e0152\"],[0.1,\"#c51b7d\"],[0.2,\"#de77ae\"],[0.3,\"#f1b6da\"],[0.4,\"#fde0ef\"],[0.5,\"#f7f7f7\"],[0.6,\"#e6f5d0\"],[0.7,\"#b8e186\"],[0.8,\"#7fbc41\"],[0.9,\"#4d9221\"],[1,\"#276419\"]]},\"xaxis\":{\"gridcolor\":\"white\",\"linecolor\":\"white\",\"ticks\":\"\",\"title\":{\"standoff\":15},\"zerolinecolor\":\"white\",\"automargin\":true,\"zerolinewidth\":2},\"yaxis\":{\"gridcolor\":\"white\",\"linecolor\":\"white\",\"ticks\":\"\",\"title\":{\"standoff\":15},\"zerolinecolor\":\"white\",\"automargin\":true,\"zerolinewidth\":2},\"scene\":{\"xaxis\":{\"backgroundcolor\":\"#E5ECF6\",\"gridcolor\":\"white\",\"linecolor\":\"white\",\"showbackground\":true,\"ticks\":\"\",\"zerolinecolor\":\"white\",\"gridwidth\":2},\"yaxis\":{\"backgroundcolor\":\"#E5ECF6\",\"gridcolor\":\"white\",\"linecolor\":\"white\",\"showbackground\":true,\"ticks\":\"\",\"zerolinecolor\":\"white\",\"gridwidth\":2},\"zaxis\":{\"backgroundcolor\":\"#E5ECF6\",\"gridcolor\":\"white\",\"linecolor\":\"white\",\"showbackground\":true,\"ticks\":\"\",\"zerolinecolor\":\"white\",\"gridwidth\":2}},\"shapedefaults\":{\"line\":{\"color\":\"#2a3f5f\"}},\"annotationdefaults\":{\"arrowcolor\":\"#2a3f5f\",\"arrowhead\":0,\"arrowwidth\":1},\"geo\":{\"bgcolor\":\"white\",\"landcolor\":\"#E5ECF6\",\"subunitcolor\":\"white\",\"showland\":true,\"showlakes\":true,\"lakecolor\":\"white\"},\"title\":{\"x\":0.05},\"mapbox\":{\"style\":\"light\"}}},\"legend\":{\"tracegroupgap\":0},\"title\":{\"text\":\"Total Success Launches By Site\"}},                        {\"responsive\": true}                    ).then(function(){\n                            \nvar gd = document.getElementById('3f2338cf-0b49-4781-bc09-86541b3efb37');\nvar x = new MutationObserver(function (mutations, observer) {{\n        var display = window.getComputedStyle(gd).display;\n        if (!display || display === 'none') {{\n            console.log([gd, 'removed!']);\n            Plotly.purge(gd);\n            observer.disconnect();\n        }}\n}});\n\n// Listen for the removal of the full notebook cells\nvar notebookContainer = gd.closest('#notebook-container');\nif (notebookContainer) {{\n    x.observe(notebookContainer, {childList: true});\n}}\n\n// Listen for the clearing of the current output cell\nvar outputEl = gd.closest('.output');\nif (outputEl) {{\n    x.observe(outputEl, {childList: true});\n}}\n\n                        })                };                            </script>        </div>\n</body>\n</html>"
                },
                "metadata": {}
              },
              {
                "output_type": "display_data",
                "data": {
                  "text/html": "<html>\n<head><meta charset=\"utf-8\" /></head>\n<body>\n    <div>            <script src=\"https://cdnjs.cloudflare.com/ajax/libs/mathjax/2.7.5/MathJax.js?config=TeX-AMS-MML_SVG\"></script><script type=\"text/javascript\">if (window.MathJax && window.MathJax.Hub && window.MathJax.Hub.Config) {window.MathJax.Hub.Config({SVG: {font: \"STIX-Web\"}});}</script>                <script type=\"text/javascript\">window.PlotlyConfig = {MathJaxConfig: 'local'};</script>\n        <script charset=\"utf-8\" src=\"https://cdn.plot.ly/plotly-2.35.0.min.js\"></script>                <div id=\"a364b474-f05a-4bda-9f68-590da5f0e6d3\" class=\"plotly-graph-div\" style=\"height:525px; width:100%;\"></div>            <script type=\"text/javascript\">                                    window.PLOTLYENV=window.PLOTLYENV || {};                                    if (document.getElementById(\"a364b474-f05a-4bda-9f68-590da5f0e6d3\")) {                    Plotly.newPlot(                        \"a364b474-f05a-4bda-9f68-590da5f0e6d3\",                        [{\"hovertemplate\":\"Booster Version=F9 v1.0  B0005\\u003cbr\\u003ePayload Mass (kg)=%{x}\\u003cbr\\u003eclass=%{y}\\u003cextra\\u003e\\u003c\\u002fextra\\u003e\",\"legendgroup\":\"F9 v1.0  B0005\",\"marker\":{\"color\":\"#636efa\",\"symbol\":\"circle\"},\"mode\":\"markers\",\"name\":\"F9 v1.0  B0005\",\"orientation\":\"v\",\"showlegend\":true,\"x\":[525.0],\"xaxis\":\"x\",\"y\":[0],\"yaxis\":\"y\",\"type\":\"scatter\"},{\"hovertemplate\":\"Booster Version=F9 v1.0  B0006\\u003cbr\\u003ePayload Mass (kg)=%{x}\\u003cbr\\u003eclass=%{y}\\u003cextra\\u003e\\u003c\\u002fextra\\u003e\",\"legendgroup\":\"F9 v1.0  B0006\",\"marker\":{\"color\":\"#EF553B\",\"symbol\":\"circle\"},\"mode\":\"markers\",\"name\":\"F9 v1.0  B0006\",\"orientation\":\"v\",\"showlegend\":true,\"x\":[500.0],\"xaxis\":\"x\",\"y\":[0],\"yaxis\":\"y\",\"type\":\"scatter\"},{\"hovertemplate\":\"Booster Version=F9 v1.0  B0007\\u003cbr\\u003ePayload Mass (kg)=%{x}\\u003cbr\\u003eclass=%{y}\\u003cextra\\u003e\\u003c\\u002fextra\\u003e\",\"legendgroup\":\"F9 v1.0  B0007\",\"marker\":{\"color\":\"#00cc96\",\"symbol\":\"circle\"},\"mode\":\"markers\",\"name\":\"F9 v1.0  B0007\",\"orientation\":\"v\",\"showlegend\":true,\"x\":[677.0],\"xaxis\":\"x\",\"y\":[0],\"yaxis\":\"y\",\"type\":\"scatter\"},{\"hovertemplate\":\"Booster Version=F9 v1.1\\u003cbr\\u003ePayload Mass (kg)=%{x}\\u003cbr\\u003eclass=%{y}\\u003cextra\\u003e\\u003c\\u002fextra\\u003e\",\"legendgroup\":\"F9 v1.1\",\"marker\":{\"color\":\"#ab63fa\",\"symbol\":\"circle\"},\"mode\":\"markers\",\"name\":\"F9 v1.1\",\"orientation\":\"v\",\"showlegend\":true,\"x\":[2296.0,1316.0],\"xaxis\":\"x\",\"y\":[0,0],\"yaxis\":\"y\",\"type\":\"scatter\"},{\"hovertemplate\":\"Booster Version=F9 v1.1 B1010\\u003cbr\\u003ePayload Mass (kg)=%{x}\\u003cbr\\u003eclass=%{y}\\u003cextra\\u003e\\u003c\\u002fextra\\u003e\",\"legendgroup\":\"F9 v1.1 B1010\",\"marker\":{\"color\":\"#FFA15A\",\"symbol\":\"circle\"},\"mode\":\"markers\",\"name\":\"F9 v1.1 B1010\",\"orientation\":\"v\",\"showlegend\":true,\"x\":[2216.0],\"xaxis\":\"x\",\"y\":[0],\"yaxis\":\"y\",\"type\":\"scatter\"},{\"hovertemplate\":\"Booster Version=F9 v1.1 B1012\\u003cbr\\u003ePayload Mass (kg)=%{x}\\u003cbr\\u003eclass=%{y}\\u003cextra\\u003e\\u003c\\u002fextra\\u003e\",\"legendgroup\":\"F9 v1.1 B1012\",\"marker\":{\"color\":\"#19d3f3\",\"symbol\":\"circle\"},\"mode\":\"markers\",\"name\":\"F9 v1.1 B1012\",\"orientation\":\"v\",\"showlegend\":true,\"x\":[2395.0],\"xaxis\":\"x\",\"y\":[0],\"yaxis\":\"y\",\"type\":\"scatter\"},{\"hovertemplate\":\"Booster Version=F9 v1.1 B1013\\u003cbr\\u003ePayload Mass (kg)=%{x}\\u003cbr\\u003eclass=%{y}\\u003cextra\\u003e\\u003c\\u002fextra\\u003e\",\"legendgroup\":\"F9 v1.1 B1013\",\"marker\":{\"color\":\"#FF6692\",\"symbol\":\"circle\"},\"mode\":\"markers\",\"name\":\"F9 v1.1 B1013\",\"orientation\":\"v\",\"showlegend\":true,\"x\":[570.0],\"xaxis\":\"x\",\"y\":[0],\"yaxis\":\"y\",\"type\":\"scatter\"},{\"hovertemplate\":\"Booster Version=F9 v1.1 B1015\\u003cbr\\u003ePayload Mass (kg)=%{x}\\u003cbr\\u003eclass=%{y}\\u003cextra\\u003e\\u003c\\u002fextra\\u003e\",\"legendgroup\":\"F9 v1.1 B1015\",\"marker\":{\"color\":\"#B6E880\",\"symbol\":\"circle\"},\"mode\":\"markers\",\"name\":\"F9 v1.1 B1015\",\"orientation\":\"v\",\"showlegend\":true,\"x\":[1898.0],\"xaxis\":\"x\",\"y\":[0],\"yaxis\":\"y\",\"type\":\"scatter\"},{\"hovertemplate\":\"Booster Version=F9 v1.1 B1018\\u003cbr\\u003ePayload Mass (kg)=%{x}\\u003cbr\\u003eclass=%{y}\\u003cextra\\u003e\\u003c\\u002fextra\\u003e\",\"legendgroup\":\"F9 v1.1 B1018\",\"marker\":{\"color\":\"#FF97FF\",\"symbol\":\"circle\"},\"mode\":\"markers\",\"name\":\"F9 v1.1 B1018\",\"orientation\":\"v\",\"showlegend\":true,\"x\":[1952.0],\"xaxis\":\"x\",\"y\":[1],\"yaxis\":\"y\",\"type\":\"scatter\"},{\"hovertemplate\":\"Booster Version=F9 FT B1019\\u003cbr\\u003ePayload Mass (kg)=%{x}\\u003cbr\\u003eclass=%{y}\\u003cextra\\u003e\\u003c\\u002fextra\\u003e\",\"legendgroup\":\"F9 FT B1019\",\"marker\":{\"color\":\"#FECB52\",\"symbol\":\"circle\"},\"mode\":\"markers\",\"name\":\"F9 FT B1019\",\"orientation\":\"v\",\"showlegend\":true,\"x\":[2034.0],\"xaxis\":\"x\",\"y\":[1],\"yaxis\":\"y\",\"type\":\"scatter\"},{\"hovertemplate\":\"Booster Version=F9 FT B1025.1\\u003cbr\\u003ePayload Mass (kg)=%{x}\\u003cbr\\u003eclass=%{y}\\u003cextra\\u003e\\u003c\\u002fextra\\u003e\",\"legendgroup\":\"F9 FT B1025.1\",\"marker\":{\"color\":\"#636efa\",\"symbol\":\"circle\"},\"mode\":\"markers\",\"name\":\"F9 FT B1025.1\",\"orientation\":\"v\",\"showlegend\":true,\"x\":[2257.0],\"xaxis\":\"x\",\"y\":[1],\"yaxis\":\"y\",\"type\":\"scatter\"},{\"hovertemplate\":\"Booster Version=F9 v1.1  B1003\\u003cbr\\u003ePayload Mass (kg)=%{x}\\u003cbr\\u003eclass=%{y}\\u003cextra\\u003e\\u003c\\u002fextra\\u003e\",\"legendgroup\":\"F9 v1.1  B1003\",\"marker\":{\"color\":\"#EF553B\",\"symbol\":\"circle\"},\"mode\":\"markers\",\"name\":\"F9 v1.1  B1003\",\"orientation\":\"v\",\"showlegend\":true,\"x\":[500.0],\"xaxis\":\"x\",\"y\":[0],\"yaxis\":\"y\",\"type\":\"scatter\"},{\"hovertemplate\":\"Booster Version=F9 v1.1 B1017\\u003cbr\\u003ePayload Mass (kg)=%{x}\\u003cbr\\u003eclass=%{y}\\u003cextra\\u003e\\u003c\\u002fextra\\u003e\",\"legendgroup\":\"F9 v1.1 B1017\",\"marker\":{\"color\":\"#00cc96\",\"symbol\":\"circle\"},\"mode\":\"markers\",\"name\":\"F9 v1.1 B1017\",\"orientation\":\"v\",\"showlegend\":true,\"x\":[553.0],\"xaxis\":\"x\",\"y\":[0],\"yaxis\":\"y\",\"type\":\"scatter\"},{\"hovertemplate\":\"Booster Version=F9 FT B1038.1\\u003cbr\\u003ePayload Mass (kg)=%{x}\\u003cbr\\u003eclass=%{y}\\u003cextra\\u003e\\u003c\\u002fextra\\u003e\",\"legendgroup\":\"F9 FT B1038.1\",\"marker\":{\"color\":\"#ab63fa\",\"symbol\":\"circle\"},\"mode\":\"markers\",\"name\":\"F9 FT B1038.1\",\"orientation\":\"v\",\"showlegend\":true,\"x\":[475.0],\"xaxis\":\"x\",\"y\":[1],\"yaxis\":\"y\",\"type\":\"scatter\"},{\"hovertemplate\":\"Booster Version=F9 FT  B1038.2\\u003cbr\\u003ePayload Mass (kg)=%{x}\\u003cbr\\u003eclass=%{y}\\u003cextra\\u003e\\u003c\\u002fextra\\u003e\",\"legendgroup\":\"F9 FT  B1038.2\",\"marker\":{\"color\":\"#FFA15A\",\"symbol\":\"circle\"},\"mode\":\"markers\",\"name\":\"F9 FT  B1038.2\",\"orientation\":\"v\",\"showlegend\":true,\"x\":[2150.0],\"xaxis\":\"x\",\"y\":[0],\"yaxis\":\"y\",\"type\":\"scatter\"},{\"hovertemplate\":\"Booster Version=F9 FT B1031.1\\u003cbr\\u003ePayload Mass (kg)=%{x}\\u003cbr\\u003eclass=%{y}\\u003cextra\\u003e\\u003c\\u002fextra\\u003e\",\"legendgroup\":\"F9 FT B1031.1\",\"marker\":{\"color\":\"#19d3f3\",\"symbol\":\"circle\"},\"mode\":\"markers\",\"name\":\"F9 FT B1031.1\",\"orientation\":\"v\",\"showlegend\":true,\"x\":[2490.0],\"xaxis\":\"x\",\"y\":[1],\"yaxis\":\"y\",\"type\":\"scatter\"},{\"hovertemplate\":\"Booster Version=F9 FT B1035.1\\u003cbr\\u003ePayload Mass (kg)=%{x}\\u003cbr\\u003eclass=%{y}\\u003cextra\\u003e\\u003c\\u002fextra\\u003e\",\"legendgroup\":\"F9 FT B1035.1\",\"marker\":{\"color\":\"#FF6692\",\"symbol\":\"circle\"},\"mode\":\"markers\",\"name\":\"F9 FT B1035.1\",\"orientation\":\"v\",\"showlegend\":true,\"x\":[2708.0],\"xaxis\":\"x\",\"y\":[1],\"yaxis\":\"y\",\"type\":\"scatter\"},{\"hovertemplate\":\"Booster Version=F9 FT  B1035.2\\u003cbr\\u003ePayload Mass (kg)=%{x}\\u003cbr\\u003eclass=%{y}\\u003cextra\\u003e\\u003c\\u002fextra\\u003e\",\"legendgroup\":\"F9 FT  B1035.2\",\"marker\":{\"color\":\"#B6E880\",\"symbol\":\"circle\"},\"mode\":\"markers\",\"name\":\"F9 FT  B1035.2\",\"orientation\":\"v\",\"showlegend\":true,\"x\":[2205.0],\"xaxis\":\"x\",\"y\":[1],\"yaxis\":\"y\",\"type\":\"scatter\"},{\"hovertemplate\":\"Booster Version=F9 B4  B1039.2\\u003cbr\\u003ePayload Mass (kg)=%{x}\\u003cbr\\u003eclass=%{y}\\u003cextra\\u003e\\u003c\\u002fextra\\u003e\",\"legendgroup\":\"F9 B4  B1039.2\",\"marker\":{\"color\":\"#FF97FF\",\"symbol\":\"circle\"},\"mode\":\"markers\",\"name\":\"F9 B4  B1039.2\",\"orientation\":\"v\",\"showlegend\":true,\"x\":[2647.0],\"xaxis\":\"x\",\"y\":[0],\"yaxis\":\"y\",\"type\":\"scatter\"},{\"hovertemplate\":\"Booster Version=F9 B4 B1045.1\\u003cbr\\u003ePayload Mass (kg)=%{x}\\u003cbr\\u003eclass=%{y}\\u003cextra\\u003e\\u003c\\u002fextra\\u003e\",\"legendgroup\":\"F9 B4 B1045.1\",\"marker\":{\"color\":\"#FECB52\",\"symbol\":\"circle\"},\"mode\":\"markers\",\"name\":\"F9 B4 B1045.1\",\"orientation\":\"v\",\"showlegend\":true,\"x\":[362.0],\"xaxis\":\"x\",\"y\":[1],\"yaxis\":\"y\",\"type\":\"scatter\"}],                        {\"template\":{\"data\":{\"histogram2dcontour\":[{\"type\":\"histogram2dcontour\",\"colorbar\":{\"outlinewidth\":0,\"ticks\":\"\"},\"colorscale\":[[0.0,\"#0d0887\"],[0.1111111111111111,\"#46039f\"],[0.2222222222222222,\"#7201a8\"],[0.3333333333333333,\"#9c179e\"],[0.4444444444444444,\"#bd3786\"],[0.5555555555555556,\"#d8576b\"],[0.6666666666666666,\"#ed7953\"],[0.7777777777777778,\"#fb9f3a\"],[0.8888888888888888,\"#fdca26\"],[1.0,\"#f0f921\"]]}],\"choropleth\":[{\"type\":\"choropleth\",\"colorbar\":{\"outlinewidth\":0,\"ticks\":\"\"}}],\"histogram2d\":[{\"type\":\"histogram2d\",\"colorbar\":{\"outlinewidth\":0,\"ticks\":\"\"},\"colorscale\":[[0.0,\"#0d0887\"],[0.1111111111111111,\"#46039f\"],[0.2222222222222222,\"#7201a8\"],[0.3333333333333333,\"#9c179e\"],[0.4444444444444444,\"#bd3786\"],[0.5555555555555556,\"#d8576b\"],[0.6666666666666666,\"#ed7953\"],[0.7777777777777778,\"#fb9f3a\"],[0.8888888888888888,\"#fdca26\"],[1.0,\"#f0f921\"]]}],\"heatmap\":[{\"type\":\"heatmap\",\"colorbar\":{\"outlinewidth\":0,\"ticks\":\"\"},\"colorscale\":[[0.0,\"#0d0887\"],[0.1111111111111111,\"#46039f\"],[0.2222222222222222,\"#7201a8\"],[0.3333333333333333,\"#9c179e\"],[0.4444444444444444,\"#bd3786\"],[0.5555555555555556,\"#d8576b\"],[0.6666666666666666,\"#ed7953\"],[0.7777777777777778,\"#fb9f3a\"],[0.8888888888888888,\"#fdca26\"],[1.0,\"#f0f921\"]]}],\"heatmapgl\":[{\"type\":\"heatmapgl\",\"colorbar\":{\"outlinewidth\":0,\"ticks\":\"\"},\"colorscale\":[[0.0,\"#0d0887\"],[0.1111111111111111,\"#46039f\"],[0.2222222222222222,\"#7201a8\"],[0.3333333333333333,\"#9c179e\"],[0.4444444444444444,\"#bd3786\"],[0.5555555555555556,\"#d8576b\"],[0.6666666666666666,\"#ed7953\"],[0.7777777777777778,\"#fb9f3a\"],[0.8888888888888888,\"#fdca26\"],[1.0,\"#f0f921\"]]}],\"contourcarpet\":[{\"type\":\"contourcarpet\",\"colorbar\":{\"outlinewidth\":0,\"ticks\":\"\"}}],\"contour\":[{\"type\":\"contour\",\"colorbar\":{\"outlinewidth\":0,\"ticks\":\"\"},\"colorscale\":[[0.0,\"#0d0887\"],[0.1111111111111111,\"#46039f\"],[0.2222222222222222,\"#7201a8\"],[0.3333333333333333,\"#9c179e\"],[0.4444444444444444,\"#bd3786\"],[0.5555555555555556,\"#d8576b\"],[0.6666666666666666,\"#ed7953\"],[0.7777777777777778,\"#fb9f3a\"],[0.8888888888888888,\"#fdca26\"],[1.0,\"#f0f921\"]]}],\"surface\":[{\"type\":\"surface\",\"colorbar\":{\"outlinewidth\":0,\"ticks\":\"\"},\"colorscale\":[[0.0,\"#0d0887\"],[0.1111111111111111,\"#46039f\"],[0.2222222222222222,\"#7201a8\"],[0.3333333333333333,\"#9c179e\"],[0.4444444444444444,\"#bd3786\"],[0.5555555555555556,\"#d8576b\"],[0.6666666666666666,\"#ed7953\"],[0.7777777777777778,\"#fb9f3a\"],[0.8888888888888888,\"#fdca26\"],[1.0,\"#f0f921\"]]}],\"mesh3d\":[{\"type\":\"mesh3d\",\"colorbar\":{\"outlinewidth\":0,\"ticks\":\"\"}}],\"scatter\":[{\"fillpattern\":{\"fillmode\":\"overlay\",\"size\":10,\"solidity\":0.2},\"type\":\"scatter\"}],\"parcoords\":[{\"type\":\"parcoords\",\"line\":{\"colorbar\":{\"outlinewidth\":0,\"ticks\":\"\"}}}],\"scatterpolargl\":[{\"type\":\"scatterpolargl\",\"marker\":{\"colorbar\":{\"outlinewidth\":0,\"ticks\":\"\"}}}],\"bar\":[{\"error_x\":{\"color\":\"#2a3f5f\"},\"error_y\":{\"color\":\"#2a3f5f\"},\"marker\":{\"line\":{\"color\":\"#E5ECF6\",\"width\":0.5},\"pattern\":{\"fillmode\":\"overlay\",\"size\":10,\"solidity\":0.2}},\"type\":\"bar\"}],\"scattergeo\":[{\"type\":\"scattergeo\",\"marker\":{\"colorbar\":{\"outlinewidth\":0,\"ticks\":\"\"}}}],\"scatterpolar\":[{\"type\":\"scatterpolar\",\"marker\":{\"colorbar\":{\"outlinewidth\":0,\"ticks\":\"\"}}}],\"histogram\":[{\"marker\":{\"pattern\":{\"fillmode\":\"overlay\",\"size\":10,\"solidity\":0.2}},\"type\":\"histogram\"}],\"scattergl\":[{\"type\":\"scattergl\",\"marker\":{\"colorbar\":{\"outlinewidth\":0,\"ticks\":\"\"}}}],\"scatter3d\":[{\"type\":\"scatter3d\",\"line\":{\"colorbar\":{\"outlinewidth\":0,\"ticks\":\"\"}},\"marker\":{\"colorbar\":{\"outlinewidth\":0,\"ticks\":\"\"}}}],\"scattermapbox\":[{\"type\":\"scattermapbox\",\"marker\":{\"colorbar\":{\"outlinewidth\":0,\"ticks\":\"\"}}}],\"scatterternary\":[{\"type\":\"scatterternary\",\"marker\":{\"colorbar\":{\"outlinewidth\":0,\"ticks\":\"\"}}}],\"scattercarpet\":[{\"type\":\"scattercarpet\",\"marker\":{\"colorbar\":{\"outlinewidth\":0,\"ticks\":\"\"}}}],\"carpet\":[{\"aaxis\":{\"endlinecolor\":\"#2a3f5f\",\"gridcolor\":\"white\",\"linecolor\":\"white\",\"minorgridcolor\":\"white\",\"startlinecolor\":\"#2a3f5f\"},\"baxis\":{\"endlinecolor\":\"#2a3f5f\",\"gridcolor\":\"white\",\"linecolor\":\"white\",\"minorgridcolor\":\"white\",\"startlinecolor\":\"#2a3f5f\"},\"type\":\"carpet\"}],\"table\":[{\"cells\":{\"fill\":{\"color\":\"#EBF0F8\"},\"line\":{\"color\":\"white\"}},\"header\":{\"fill\":{\"color\":\"#C8D4E3\"},\"line\":{\"color\":\"white\"}},\"type\":\"table\"}],\"barpolar\":[{\"marker\":{\"line\":{\"color\":\"#E5ECF6\",\"width\":0.5},\"pattern\":{\"fillmode\":\"overlay\",\"size\":10,\"solidity\":0.2}},\"type\":\"barpolar\"}],\"pie\":[{\"automargin\":true,\"type\":\"pie\"}]},\"layout\":{\"autotypenumbers\":\"strict\",\"colorway\":[\"#636efa\",\"#EF553B\",\"#00cc96\",\"#ab63fa\",\"#FFA15A\",\"#19d3f3\",\"#FF6692\",\"#B6E880\",\"#FF97FF\",\"#FECB52\"],\"font\":{\"color\":\"#2a3f5f\"},\"hovermode\":\"closest\",\"hoverlabel\":{\"align\":\"left\"},\"paper_bgcolor\":\"white\",\"plot_bgcolor\":\"#E5ECF6\",\"polar\":{\"bgcolor\":\"#E5ECF6\",\"angularaxis\":{\"gridcolor\":\"white\",\"linecolor\":\"white\",\"ticks\":\"\"},\"radialaxis\":{\"gridcolor\":\"white\",\"linecolor\":\"white\",\"ticks\":\"\"}},\"ternary\":{\"bgcolor\":\"#E5ECF6\",\"aaxis\":{\"gridcolor\":\"white\",\"linecolor\":\"white\",\"ticks\":\"\"},\"baxis\":{\"gridcolor\":\"white\",\"linecolor\":\"white\",\"ticks\":\"\"},\"caxis\":{\"gridcolor\":\"white\",\"linecolor\":\"white\",\"ticks\":\"\"}},\"coloraxis\":{\"colorbar\":{\"outlinewidth\":0,\"ticks\":\"\"}},\"colorscale\":{\"sequential\":[[0.0,\"#0d0887\"],[0.1111111111111111,\"#46039f\"],[0.2222222222222222,\"#7201a8\"],[0.3333333333333333,\"#9c179e\"],[0.4444444444444444,\"#bd3786\"],[0.5555555555555556,\"#d8576b\"],[0.6666666666666666,\"#ed7953\"],[0.7777777777777778,\"#fb9f3a\"],[0.8888888888888888,\"#fdca26\"],[1.0,\"#f0f921\"]],\"sequentialminus\":[[0.0,\"#0d0887\"],[0.1111111111111111,\"#46039f\"],[0.2222222222222222,\"#7201a8\"],[0.3333333333333333,\"#9c179e\"],[0.4444444444444444,\"#bd3786\"],[0.5555555555555556,\"#d8576b\"],[0.6666666666666666,\"#ed7953\"],[0.7777777777777778,\"#fb9f3a\"],[0.8888888888888888,\"#fdca26\"],[1.0,\"#f0f921\"]],\"diverging\":[[0,\"#8e0152\"],[0.1,\"#c51b7d\"],[0.2,\"#de77ae\"],[0.3,\"#f1b6da\"],[0.4,\"#fde0ef\"],[0.5,\"#f7f7f7\"],[0.6,\"#e6f5d0\"],[0.7,\"#b8e186\"],[0.8,\"#7fbc41\"],[0.9,\"#4d9221\"],[1,\"#276419\"]]},\"xaxis\":{\"gridcolor\":\"white\",\"linecolor\":\"white\",\"ticks\":\"\",\"title\":{\"standoff\":15},\"zerolinecolor\":\"white\",\"automargin\":true,\"zerolinewidth\":2},\"yaxis\":{\"gridcolor\":\"white\",\"linecolor\":\"white\",\"ticks\":\"\",\"title\":{\"standoff\":15},\"zerolinecolor\":\"white\",\"automargin\":true,\"zerolinewidth\":2},\"scene\":{\"xaxis\":{\"backgroundcolor\":\"#E5ECF6\",\"gridcolor\":\"white\",\"linecolor\":\"white\",\"showbackground\":true,\"ticks\":\"\",\"zerolinecolor\":\"white\",\"gridwidth\":2},\"yaxis\":{\"backgroundcolor\":\"#E5ECF6\",\"gridcolor\":\"white\",\"linecolor\":\"white\",\"showbackground\":true,\"ticks\":\"\",\"zerolinecolor\":\"white\",\"gridwidth\":2},\"zaxis\":{\"backgroundcolor\":\"#E5ECF6\",\"gridcolor\":\"white\",\"linecolor\":\"white\",\"showbackground\":true,\"ticks\":\"\",\"zerolinecolor\":\"white\",\"gridwidth\":2}},\"shapedefaults\":{\"line\":{\"color\":\"#2a3f5f\"}},\"annotationdefaults\":{\"arrowcolor\":\"#2a3f5f\",\"arrowhead\":0,\"arrowwidth\":1},\"geo\":{\"bgcolor\":\"white\",\"landcolor\":\"#E5ECF6\",\"subunitcolor\":\"white\",\"showland\":true,\"showlakes\":true,\"lakecolor\":\"white\"},\"title\":{\"x\":0.05},\"mapbox\":{\"style\":\"light\"}}},\"xaxis\":{\"anchor\":\"y\",\"domain\":[0.0,1.0],\"title\":{\"text\":\"Payload Mass (kg)\"}},\"yaxis\":{\"anchor\":\"x\",\"domain\":[0.0,1.0],\"title\":{\"text\":\"class\"}},\"legend\":{\"title\":{\"text\":\"Booster Version\"},\"tracegroupgap\":0},\"title\":{\"text\":\"Correlation between Payload and Success for all Sites\"}},                        {\"responsive\": true}                    ).then(function(){\n                            \nvar gd = document.getElementById('a364b474-f05a-4bda-9f68-590da5f0e6d3');\nvar x = new MutationObserver(function (mutations, observer) {{\n        var display = window.getComputedStyle(gd).display;\n        if (!display || display === 'none') {{\n            console.log([gd, 'removed!']);\n            Plotly.purge(gd);\n            observer.disconnect();\n        }}\n}});\n\n// Listen for the removal of the full notebook cells\nvar notebookContainer = gd.closest('#notebook-container');\nif (notebookContainer) {{\n    x.observe(notebookContainer, {childList: true});\n}}\n\n// Listen for the clearing of the current output cell\nvar outputEl = gd.closest('.output');\nif (outputEl) {{\n    x.observe(outputEl, {childList: true});\n}}\n\n                        })                };                            </script>        </div>\n</body>\n</html>"
                },
                "metadata": {}
              }
            ]
          }
        },
        "6d7c8f935c38485aa5c696eb64c6f5b4": {
          "model_module": "@jupyter-widgets/base",
          "model_name": "LayoutModel",
          "model_module_version": "1.2.0",
          "state": {
            "_model_module": "@jupyter-widgets/base",
            "_model_module_version": "1.2.0",
            "_model_name": "LayoutModel",
            "_view_count": null,
            "_view_module": "@jupyter-widgets/base",
            "_view_module_version": "1.2.0",
            "_view_name": "LayoutView",
            "align_content": null,
            "align_items": null,
            "align_self": null,
            "border": null,
            "bottom": null,
            "display": null,
            "flex": null,
            "flex_flow": null,
            "grid_area": null,
            "grid_auto_columns": null,
            "grid_auto_flow": null,
            "grid_auto_rows": null,
            "grid_column": null,
            "grid_gap": null,
            "grid_row": null,
            "grid_template_areas": null,
            "grid_template_columns": null,
            "grid_template_rows": null,
            "height": null,
            "justify_content": null,
            "justify_items": null,
            "left": null,
            "margin": null,
            "max_height": null,
            "max_width": null,
            "min_height": null,
            "min_width": null,
            "object_fit": null,
            "object_position": null,
            "order": null,
            "overflow": null,
            "overflow_x": null,
            "overflow_y": null,
            "padding": null,
            "right": null,
            "top": null,
            "visibility": null,
            "width": null
          }
        },
        "cf39d35949ba4dd0a28c3a73e0cd5c98": {
          "model_module": "@jupyter-widgets/base",
          "model_name": "LayoutModel",
          "model_module_version": "1.2.0",
          "state": {
            "_model_module": "@jupyter-widgets/base",
            "_model_module_version": "1.2.0",
            "_model_name": "LayoutModel",
            "_view_count": null,
            "_view_module": "@jupyter-widgets/base",
            "_view_module_version": "1.2.0",
            "_view_name": "LayoutView",
            "align_content": null,
            "align_items": null,
            "align_self": null,
            "border": null,
            "bottom": null,
            "display": null,
            "flex": null,
            "flex_flow": null,
            "grid_area": null,
            "grid_auto_columns": null,
            "grid_auto_flow": null,
            "grid_auto_rows": null,
            "grid_column": null,
            "grid_gap": null,
            "grid_row": null,
            "grid_template_areas": null,
            "grid_template_columns": null,
            "grid_template_rows": null,
            "height": null,
            "justify_content": null,
            "justify_items": null,
            "left": null,
            "margin": null,
            "max_height": null,
            "max_width": null,
            "min_height": null,
            "min_width": null,
            "object_fit": null,
            "object_position": null,
            "order": null,
            "overflow": null,
            "overflow_x": null,
            "overflow_y": null,
            "padding": null,
            "right": null,
            "top": null,
            "visibility": null,
            "width": null
          }
        },
        "8c923f58c6b84b4e973aee331627edf1": {
          "model_module": "@jupyter-widgets/controls",
          "model_name": "DescriptionStyleModel",
          "model_module_version": "1.5.0",
          "state": {
            "_model_module": "@jupyter-widgets/controls",
            "_model_module_version": "1.5.0",
            "_model_name": "DescriptionStyleModel",
            "_view_count": null,
            "_view_module": "@jupyter-widgets/base",
            "_view_module_version": "1.2.0",
            "_view_name": "StyleView",
            "description_width": ""
          }
        },
        "f06a98e29027416bbab98491e8d16d07": {
          "model_module": "@jupyter-widgets/base",
          "model_name": "LayoutModel",
          "model_module_version": "1.2.0",
          "state": {
            "_model_module": "@jupyter-widgets/base",
            "_model_module_version": "1.2.0",
            "_model_name": "LayoutModel",
            "_view_count": null,
            "_view_module": "@jupyter-widgets/base",
            "_view_module_version": "1.2.0",
            "_view_name": "LayoutView",
            "align_content": null,
            "align_items": null,
            "align_self": null,
            "border": null,
            "bottom": null,
            "display": null,
            "flex": null,
            "flex_flow": null,
            "grid_area": null,
            "grid_auto_columns": null,
            "grid_auto_flow": null,
            "grid_auto_rows": null,
            "grid_column": null,
            "grid_gap": null,
            "grid_row": null,
            "grid_template_areas": null,
            "grid_template_columns": null,
            "grid_template_rows": null,
            "height": null,
            "justify_content": null,
            "justify_items": null,
            "left": null,
            "margin": null,
            "max_height": null,
            "max_width": null,
            "min_height": null,
            "min_width": null,
            "object_fit": null,
            "object_position": null,
            "order": null,
            "overflow": null,
            "overflow_x": null,
            "overflow_y": null,
            "padding": null,
            "right": null,
            "top": null,
            "visibility": null,
            "width": null
          }
        },
        "746559e722304442bf3e883284b4bfe2": {
          "model_module": "@jupyter-widgets/controls",
          "model_name": "SliderStyleModel",
          "model_module_version": "1.5.0",
          "state": {
            "_model_module": "@jupyter-widgets/controls",
            "_model_module_version": "1.5.0",
            "_model_name": "SliderStyleModel",
            "_view_count": null,
            "_view_module": "@jupyter-widgets/base",
            "_view_module_version": "1.2.0",
            "_view_name": "StyleView",
            "description_width": "",
            "handle_color": null
          }
        },
        "abb75f25f9ca44ceb37e12eb83828929": {
          "model_module": "@jupyter-widgets/base",
          "model_name": "LayoutModel",
          "model_module_version": "1.2.0",
          "state": {
            "_model_module": "@jupyter-widgets/base",
            "_model_module_version": "1.2.0",
            "_model_name": "LayoutModel",
            "_view_count": null,
            "_view_module": "@jupyter-widgets/base",
            "_view_module_version": "1.2.0",
            "_view_name": "LayoutView",
            "align_content": null,
            "align_items": null,
            "align_self": null,
            "border": null,
            "bottom": null,
            "display": null,
            "flex": null,
            "flex_flow": null,
            "grid_area": null,
            "grid_auto_columns": null,
            "grid_auto_flow": null,
            "grid_auto_rows": null,
            "grid_column": null,
            "grid_gap": null,
            "grid_row": null,
            "grid_template_areas": null,
            "grid_template_columns": null,
            "grid_template_rows": null,
            "height": null,
            "justify_content": null,
            "justify_items": null,
            "left": null,
            "margin": null,
            "max_height": null,
            "max_width": null,
            "min_height": null,
            "min_width": null,
            "object_fit": null,
            "object_position": null,
            "order": null,
            "overflow": null,
            "overflow_x": null,
            "overflow_y": null,
            "padding": null,
            "right": null,
            "top": null,
            "visibility": null,
            "width": null
          }
        }
      }
    }
  },
  "cells": [
    {
      "cell_type": "markdown",
      "source": [
        "# **MODULE 1 // UAI 1 // COLLECTING THE DATA**\n"
      ],
      "metadata": {
        "id": "HSxrHES1TMmm"
      }
    },
    {
      "cell_type": "code",
      "execution_count": null,
      "metadata": {
        "id": "WMQtNdFyPseH"
      },
      "outputs": [],
      "source": [
        "import requests\n",
        "import pandas as pd\n",
        "import numpy as np\n",
        "import datetime\n",
        "\n",
        "pd.set_option('display.max_columns', None)\n",
        "pd.set_option('display.max_colwidth', None)\n",
        "\n",
        "def getBoosterVersion(data):\n",
        "    for x in data['rocket']:\n",
        "       if x:\n",
        "        response = requests.get(\"https://api.spacexdata.com/v4/rockets/\"+str(x)).json()\n",
        "        BoosterVersion.append(response['name'])\n",
        "\n",
        "def getLaunchSite(data):\n",
        "    for x in data['launchpad']:\n",
        "       if x:\n",
        "         response = requests.get(\"https://api.spacexdata.com/v4/launchpads/\"+str(x)).json()\n",
        "         Longitude.append(response['longitude'])\n",
        "         Latitude.append(response['latitude'])\n",
        "         LaunchSite.append(response['name'])\n",
        "\n",
        "def getPayloadData(data):\n",
        "    for load in data['payloads']:\n",
        "       if load:\n",
        "        response = requests.get(\"https://api.spacexdata.com/v4/payloads/\"+load).json()\n",
        "        PayloadMass.append(response['mass_kg'])\n",
        "        Orbit.append(response['orbit'])\n",
        "\n",
        "def getCoreData(data):\n",
        "    for core in data['cores']:\n",
        "            if core['core'] != None:\n",
        "                response = requests.get(\"https://api.spacexdata.com/v4/cores/\"+core['core']).json()\n",
        "                Block.append(response['block'])\n",
        "                ReusedCount.append(response['reuse_count'])\n",
        "                Serial.append(response['serial'])\n",
        "            else:\n",
        "                Block.append(None)\n",
        "                ReusedCount.append(None)\n",
        "                Serial.append(None)\n",
        "            Outcome.append(str(core['landing_success'])+' '+str(core['landing_type']))\n",
        "            Flights.append(core['flight'])\n",
        "            GridFins.append(core['gridfins'])\n",
        "            Reused.append(core['reused'])\n",
        "            Legs.append(core['legs'])\n",
        "            LandingPad.append(core['landpad'])\n",
        "\n"
      ]
    },
    {
      "cell_type": "code",
      "source": [
        "spacex_url=\"https://api.spacexdata.com/v4/launches/past\"\n",
        "response = requests.get(spacex_url)\n",
        "\n",
        "static_json_url='https://cf-courses-data.s3.us.cloud-object-storage.appdomain.cloud/IBM-DS0321EN-SkillsNetwork/datasets/API_call_spacex_api.json'\n",
        "\n",
        "# Using json_normalize method to convert the json result into a dataframe\n",
        "response = requests.get(static_json_url)\n",
        "data = pd.json_normalize(response.json())\n",
        "\n",
        "print(data.head())\n",
        "\n"
      ],
      "metadata": {
        "colab": {
          "base_uri": "https://localhost:8080/"
        },
        "id": "cpKEN77eP6M3",
        "outputId": "8ce9b757-81f0-4d63-e111-ae2537d8bf64"
      },
      "execution_count": null,
      "outputs": [
        {
          "output_type": "stream",
          "name": "stdout",
          "text": [
            "       static_fire_date_utc  static_fire_date_unix    tbd    net  window  \\\n",
            "0  2006-03-17T00:00:00.000Z           1.142554e+09  False  False     0.0   \n",
            "1                      None                    NaN  False  False     0.0   \n",
            "2                      None                    NaN  False  False     0.0   \n",
            "3  2008-09-20T00:00:00.000Z           1.221869e+09  False  False     0.0   \n",
            "4                      None                    NaN  False  False     0.0   \n",
            "\n",
            "                     rocket  success  \\\n",
            "0  5e9d0d95eda69955f709d1eb    False   \n",
            "1  5e9d0d95eda69955f709d1eb    False   \n",
            "2  5e9d0d95eda69955f709d1eb    False   \n",
            "3  5e9d0d95eda69955f709d1eb     True   \n",
            "4  5e9d0d95eda69955f709d1eb     True   \n",
            "\n",
            "                                                                                                                                                                                details  \\\n",
            "0                                                                                                                                      Engine failure at 33 seconds and loss of vehicle   \n",
            "1  Successful first stage burn and transition to second stage, maximum altitude 289 km, Premature engine shutdown at T+7 min 30 s, Failed to reach orbit, Failed to recover first stage   \n",
            "2                                                                                                                  Residual stage 1 thrust led to collision between stage 1 and stage 2   \n",
            "3                        Ratsat was carried to orbit on the first successful orbital launch of any privately funded and developed, liquid-propelled carrier rocket, the SpaceX Falcon 1   \n",
            "4                                                                                                                                                                                  None   \n",
            "\n",
            "  crew ships capsules                                              payloads  \\\n",
            "0   []    []       []                            [5eb0e4b5b6c3bb0006eeb1e1]   \n",
            "1   []    []       []                            [5eb0e4b6b6c3bb0006eeb1e2]   \n",
            "2   []    []       []  [5eb0e4b6b6c3bb0006eeb1e3, 5eb0e4b6b6c3bb0006eeb1e4]   \n",
            "3   []    []       []                            [5eb0e4b7b6c3bb0006eeb1e5]   \n",
            "4   []    []       []                            [5eb0e4b7b6c3bb0006eeb1e6]   \n",
            "\n",
            "                  launchpad  auto_update  \\\n",
            "0  5e9e4502f5090995de566f86         True   \n",
            "1  5e9e4502f5090995de566f86         True   \n",
            "2  5e9e4502f5090995de566f86         True   \n",
            "3  5e9e4502f5090995de566f86         True   \n",
            "4  5e9e4502f5090995de566f86         True   \n",
            "\n",
            "                                                                                                            failures  \\\n",
            "0                                                [{'time': 33, 'altitude': None, 'reason': 'merlin engine failure'}]   \n",
            "1            [{'time': 301, 'altitude': 289, 'reason': 'harmonic oscillation leading to premature engine shutdown'}]   \n",
            "2  [{'time': 140, 'altitude': 35, 'reason': 'residual stage-1 thrust led to collision between stage 1 and stage 2'}]   \n",
            "3                                                                                                                 []   \n",
            "4                                                                                                                 []   \n",
            "\n",
            "   flight_number         name                  date_utc   date_unix  \\\n",
            "0              1    FalconSat  2006-03-24T22:30:00.000Z  1143239400   \n",
            "1              2      DemoSat  2007-03-21T01:10:00.000Z  1174439400   \n",
            "2              3  Trailblazer  2008-08-03T03:34:00.000Z  1217734440   \n",
            "3              4       RatSat  2008-09-28T23:15:00.000Z  1222643700   \n",
            "4              5     RazakSat  2009-07-13T03:35:00.000Z  1247456100   \n",
            "\n",
            "                  date_local date_precision  upcoming  \\\n",
            "0  2006-03-25T10:30:00+12:00           hour     False   \n",
            "1  2007-03-21T13:10:00+12:00           hour     False   \n",
            "2  2008-08-03T15:34:00+12:00           hour     False   \n",
            "3  2008-09-28T11:15:00+12:00           hour     False   \n",
            "4  2009-07-13T15:35:00+12:00           hour     False   \n",
            "\n",
            "                                                                                                                                                                                              cores  \\\n",
            "0  [{'core': '5e9e289df35918033d3b2623', 'flight': 1, 'gridfins': False, 'legs': False, 'reused': False, 'landing_attempt': False, 'landing_success': None, 'landing_type': None, 'landpad': None}]   \n",
            "1  [{'core': '5e9e289ef35918416a3b2624', 'flight': 1, 'gridfins': False, 'legs': False, 'reused': False, 'landing_attempt': False, 'landing_success': None, 'landing_type': None, 'landpad': None}]   \n",
            "2  [{'core': '5e9e289ef3591814873b2625', 'flight': 1, 'gridfins': False, 'legs': False, 'reused': False, 'landing_attempt': False, 'landing_success': None, 'landing_type': None, 'landpad': None}]   \n",
            "3  [{'core': '5e9e289ef3591855dc3b2626', 'flight': 1, 'gridfins': False, 'legs': False, 'reused': False, 'landing_attempt': False, 'landing_success': None, 'landing_type': None, 'landpad': None}]   \n",
            "4  [{'core': '5e9e289ef359184f103b2627', 'flight': 1, 'gridfins': False, 'legs': False, 'reused': False, 'landing_attempt': False, 'landing_success': None, 'landing_type': None, 'landpad': None}]   \n",
            "\n",
            "                         id fairings.reused fairings.recovery_attempt  \\\n",
            "0  5eb87cd9ffd86e000604b32a           False                     False   \n",
            "1  5eb87cdaffd86e000604b32b           False                     False   \n",
            "2  5eb87cdbffd86e000604b32c           False                     False   \n",
            "3  5eb87cdbffd86e000604b32d           False                     False   \n",
            "4  5eb87cdcffd86e000604b32e           False                     False   \n",
            "\n",
            "  fairings.recovered fairings.ships  \\\n",
            "0              False             []   \n",
            "1              False             []   \n",
            "2              False             []   \n",
            "3              False             []   \n",
            "4              False             []   \n",
            "\n",
            "                                 links.patch.small  \\\n",
            "0  https://images2.imgbox.com/3c/0e/T8iJcSN3_o.png   \n",
            "1  https://images2.imgbox.com/4f/e3/I0lkuJ2e_o.png   \n",
            "2  https://images2.imgbox.com/3d/86/cnu0pan8_o.png   \n",
            "3  https://images2.imgbox.com/e9/c9/T8CfiSYb_o.png   \n",
            "4  https://images2.imgbox.com/a7/ba/NBZSw3Ho_o.png   \n",
            "\n",
            "                                 links.patch.large links.reddit.campaign  \\\n",
            "0  https://images2.imgbox.com/40/e3/GypSkayF_o.png                  None   \n",
            "1  https://images2.imgbox.com/be/e7/iNqsqVYM_o.png                  None   \n",
            "2  https://images2.imgbox.com/4b/bd/d8UxLh4q_o.png                  None   \n",
            "3  https://images2.imgbox.com/e0/a7/FNjvKlXW_o.png                  None   \n",
            "4  https://images2.imgbox.com/8d/fc/0qdZMWWx_o.png                  None   \n",
            "\n",
            "  links.reddit.launch links.reddit.media links.reddit.recovery  \\\n",
            "0                None               None                  None   \n",
            "1                None               None                  None   \n",
            "2                None               None                  None   \n",
            "3                None               None                  None   \n",
            "4                None               None                  None   \n",
            "\n",
            "  links.flickr.small links.flickr.original  \\\n",
            "0                 []                    []   \n",
            "1                 []                    []   \n",
            "2                 []                    []   \n",
            "3                 []                    []   \n",
            "4                 []                    []   \n",
            "\n",
            "                                                                                           links.presskit  \\\n",
            "0                                                                                                    None   \n",
            "1                                                                                                    None   \n",
            "2                                                                                                    None   \n",
            "3                                                                                                    None   \n",
            "4  http://www.spacex.com/press/2012/12/19/spacexs-falcon-1-successfully-delivers-razaksat-satellite-orbit   \n",
            "\n",
            "                                 links.webcast links.youtube_id  \\\n",
            "0  https://www.youtube.com/watch?v=0a_00nJ_Y88      0a_00nJ_Y88   \n",
            "1  https://www.youtube.com/watch?v=Lk4zQ2wP-Nc      Lk4zQ2wP-Nc   \n",
            "2  https://www.youtube.com/watch?v=v0w9p3U8860      v0w9p3U8860   \n",
            "3  https://www.youtube.com/watch?v=dLQ2tZEH6G0      dLQ2tZEH6G0   \n",
            "4  https://www.youtube.com/watch?v=yTaIDooc8Og      yTaIDooc8Og   \n",
            "\n",
            "                                                                  links.article  \\\n",
            "0  https://www.space.com/2196-spacex-inaugural-falcon-1-rocket-lost-launch.html   \n",
            "1      https://www.space.com/3590-spacex-falcon-1-rocket-fails-reach-orbit.html   \n",
            "2       http://www.spacex.com/news/2013/02/11/falcon-1-flight-3-mission-summary   \n",
            "3                                          https://en.wikipedia.org/wiki/Ratsat   \n",
            "4                       http://www.spacex.com/news/2013/02/12/falcon-1-flight-5   \n",
            "\n",
            "                                         links.wikipedia  fairings  \n",
            "0                  https://en.wikipedia.org/wiki/DemoSat       NaN  \n",
            "1                  https://en.wikipedia.org/wiki/DemoSat       NaN  \n",
            "2  https://en.wikipedia.org/wiki/Trailblazer_(satellite)       NaN  \n",
            "3                   https://en.wikipedia.org/wiki/Ratsat       NaN  \n",
            "4                 https://en.wikipedia.org/wiki/RazakSAT       NaN  \n"
          ]
        }
      ]
    },
    {
      "cell_type": "code",
      "source": [
        "data = data[['rocket', 'payloads', 'launchpad', 'cores', 'flight_number', 'date_utc']]\n",
        "data = data[data['cores'].map(len)==1]\n",
        "data = data[data['payloads'].map(len)==1]\n",
        "data['cores'] = data['cores'].map(lambda x : x[0])\n",
        "data['payloads'] = data['payloads'].map(lambda x : x[0])\n",
        "data['date'] = pd.to_datetime(data['date_utc']).dt.date\n",
        "data = data[data['date'] <= datetime.date(2020, 11, 13)]\n",
        "\n",
        "BoosterVersion = []\n",
        "PayloadMass = []\n",
        "Orbit = []\n",
        "LaunchSite = []\n",
        "Outcome = []\n",
        "Flights = []\n",
        "GridFins = []\n",
        "Reused = []\n",
        "Legs = []\n",
        "LandingPad = []\n",
        "Block = []\n",
        "ReusedCount = []\n",
        "Serial = []\n",
        "Longitude = []\n",
        "Latitude = []\n",
        "\n",
        "getBoosterVersion(data)\n",
        "getLaunchSite(data)\n",
        "getPayloadData(data)\n",
        "getCoreData(data)\n",
        "\n"
      ],
      "metadata": {
        "id": "YMtMA7tCP6xF"
      },
      "execution_count": null,
      "outputs": []
    },
    {
      "cell_type": "code",
      "source": [
        "launch_dict = {'FlightNumber': list(data['flight_number']),\n",
        "'Date': list(data['date']),\n",
        "'BoosterVersion':BoosterVersion,\n",
        "'PayloadMass':PayloadMass,\n",
        "'Orbit':Orbit,\n",
        "'LaunchSite':LaunchSite,\n",
        "'Outcome':Outcome,\n",
        "'Flights':Flights,\n",
        "'GridFins':GridFins,\n",
        "'Reused':Reused,\n",
        "'Legs':Legs,\n",
        "'LandingPad':LandingPad,\n",
        "'Block':Block,\n",
        "'ReusedCount':ReusedCount,\n",
        "'Serial':Serial,\n",
        "'Longitude': Longitude,\n",
        "'Latitude': Latitude}\n"
      ],
      "metadata": {
        "id": "Kf5jgP-tQfIu"
      },
      "execution_count": null,
      "outputs": []
    },
    {
      "cell_type": "code",
      "source": [
        "# Creating a data from launch_dict\n",
        "df = pd.DataFrame(launch_dict)\n",
        "\n",
        "# Filtering the data dataframe to only include Falcon 9 launches\n",
        "data_falcon9 = df[df['BoosterVersion'] != 'Falcon 1']\n",
        "\n",
        "data_falcon9.loc[:,'FlightNumber'] = list(range(1, data_falcon9.shape[0]+1))\n",
        "\n",
        "# Calculating the mean value of PayloadMass column\n",
        "payload_mass_mean = data_falcon9['PayloadMass'].mean()\n",
        "payload_mass_mean"
      ],
      "metadata": {
        "colab": {
          "base_uri": "https://localhost:8080/"
        },
        "id": "tWHR87bIQ2Wk",
        "outputId": "4480c7b8-1fdc-47b3-d47d-bc85f70b801a"
      },
      "execution_count": null,
      "outputs": [
        {
          "output_type": "execute_result",
          "data": {
            "text/plain": [
              "6123.547647058824"
            ]
          },
          "metadata": {},
          "execution_count": 9
        }
      ]
    },
    {
      "cell_type": "code",
      "source": [
        "# Replacing the np.nan values with its mean value\n",
        "data_falcon9['PayloadMass'].replace(np.nan, payload_mass_mean, inplace=True)\n",
        "\n",
        "# Verifying that there are no more missing values in the PayloadMass column\n",
        "print(data_falcon9['PayloadMass'].isnull().sum())\n"
      ],
      "metadata": {
        "colab": {
          "base_uri": "https://localhost:8080/"
        },
        "id": "TFawOyv3Q2mC",
        "outputId": "e71925b9-77de-42c8-dfa0-95291b6814c6"
      },
      "execution_count": null,
      "outputs": [
        {
          "output_type": "stream",
          "name": "stdout",
          "text": [
            "0\n"
          ]
        },
        {
          "output_type": "stream",
          "name": "stderr",
          "text": [
            "<ipython-input-10-7ada17af1ed0>:2: SettingWithCopyWarning: \n",
            "A value is trying to be set on a copy of a slice from a DataFrame\n",
            "\n",
            "See the caveats in the documentation: https://pandas.pydata.org/pandas-docs/stable/user_guide/indexing.html#returning-a-view-versus-a-copy\n",
            "  data_falcon9['PayloadMass'].replace(np.nan, payload_mass_mean, inplace=True)\n"
          ]
        }
      ]
    },
    {
      "cell_type": "code",
      "source": [
        "# First few rows of the final dataframe\n",
        "print(data_falcon9.head())\n"
      ],
      "metadata": {
        "colab": {
          "base_uri": "https://localhost:8080/"
        },
        "id": "Xyc3ccgqQ23N",
        "outputId": "31954f6e-8ace-48de-c10b-a9211d6585ee"
      },
      "execution_count": null,
      "outputs": [
        {
          "output_type": "stream",
          "name": "stdout",
          "text": [
            "   FlightNumber        Date BoosterVersion  PayloadMass Orbit    LaunchSite  \\\n",
            "4             1  2010-06-04       Falcon 9  6123.547647   LEO  CCSFS SLC 40   \n",
            "5             2  2012-05-22       Falcon 9   525.000000   LEO  CCSFS SLC 40   \n",
            "6             3  2013-03-01       Falcon 9   677.000000   ISS  CCSFS SLC 40   \n",
            "7             4  2013-09-29       Falcon 9   500.000000    PO   VAFB SLC 4E   \n",
            "8             5  2013-12-03       Falcon 9  3170.000000   GTO  CCSFS SLC 40   \n",
            "\n",
            "       Outcome  Flights  GridFins  Reused   Legs LandingPad  Block  \\\n",
            "4    None None        1     False   False  False       None    1.0   \n",
            "5    None None        1     False   False  False       None    1.0   \n",
            "6    None None        1     False   False  False       None    1.0   \n",
            "7  False Ocean        1     False   False  False       None    1.0   \n",
            "8    None None        1     False   False  False       None    1.0   \n",
            "\n",
            "   ReusedCount Serial   Longitude   Latitude  \n",
            "4            0  B0003  -80.577366  28.561857  \n",
            "5            0  B0005  -80.577366  28.561857  \n",
            "6            0  B0007  -80.577366  28.561857  \n",
            "7            0  B1003 -120.610829  34.632093  \n",
            "8            0  B1004  -80.577366  28.561857  \n"
          ]
        }
      ]
    },
    {
      "cell_type": "code",
      "source": [
        "data_falcon9.to_csv('dataset_part_1.csv', index=False)"
      ],
      "metadata": {
        "id": "u-uMj5WYQ3H2"
      },
      "execution_count": null,
      "outputs": []
    },
    {
      "cell_type": "markdown",
      "source": [
        "# **MODULE 1 // UAI 2**"
      ],
      "metadata": {
        "id": "BinV4wh9S7Hk"
      }
    },
    {
      "cell_type": "code",
      "source": [
        "import requests\n",
        "from bs4 import BeautifulSoup\n",
        "import pandas as pd\n",
        "import re\n",
        "import unicodedata\n",
        "\n",
        "# Helper functions\n",
        "def date_time(table_cells):\n",
        "    return [data_time.strip() for data_time in list(table_cells.strings)][0:2]\n",
        "\n",
        "def booster_version(table_cells):\n",
        "    out = ''.join([booster_version for i, booster_version in enumerate(table_cells.strings) if i % 2 == 0][0:-1])\n",
        "    return out\n",
        "\n",
        "def landing_status(table_cells):\n",
        "    return [i for i in table_cells.strings][0]\n",
        "\n",
        "def get_mass(table_cells):\n",
        "    mass = unicodedata.normalize(\"NFKD\", table_cells.text).strip()\n",
        "    if mass:\n",
        "        mass.find(\"kg\")\n",
        "        new_mass = mass[0:mass.find(\"kg\")+2]\n",
        "    else:\n",
        "        new_mass = 0\n",
        "    return new_mass\n",
        "\n",
        "def extract_column_from_header(row):\n",
        "    if (row.br):\n",
        "        row.br.extract()\n",
        "    if row.a:\n",
        "        row.a.extract()\n",
        "    if row.sup:\n",
        "        row.sup.extract()\n",
        "\n",
        "    column_name = ' '.join(row.contents)\n",
        "\n",
        "    if not(column_name.strip().isdigit()):\n",
        "        column_name = column_name.strip()\n",
        "        return column_name\n",
        "\n",
        "# Main code\n",
        "static_url = \"https://en.wikipedia.org/w/index.php?title=List_of_Falcon_9_and_Falcon_Heavy_launches&oldid=1027686922\"\n",
        "\n"
      ],
      "metadata": {
        "id": "JdPINeRVTrYH"
      },
      "execution_count": null,
      "outputs": []
    },
    {
      "cell_type": "code",
      "source": [
        "# Task 1: Request the Falcon9 Launch Wiki page\n",
        "response = requests.get(static_url)\n",
        "soup = BeautifulSoup(response.text, 'html.parser')\n",
        "\n"
      ],
      "metadata": {
        "id": "zcJjXWhOTrg7"
      },
      "execution_count": null,
      "outputs": []
    },
    {
      "cell_type": "code",
      "source": [
        "# Task 2: Extract all column/variable names from the HTML table header\n",
        "html_tables = soup.find_all('table')\n",
        "first_launch_table = html_tables[2]\n",
        "\n",
        "column_names = []\n",
        "for th in first_launch_table.find_all('th'):\n",
        "    name = extract_column_from_header(th)\n",
        "    if name is not None and len(name) > 0:\n",
        "        column_names.append(name)\n",
        "\n"
      ],
      "metadata": {
        "id": "IVdQWXVGTrma"
      },
      "execution_count": null,
      "outputs": []
    },
    {
      "cell_type": "code",
      "source": [
        "# Task 3: Create a data frame by parsing the launch HTML tables\n",
        "\n",
        "# Initializing the launch_dict with all necessary keys\n",
        "launch_dict = {}\n",
        "for col in column_names:\n",
        "    launch_dict[col] = []\n",
        "\n",
        "# Removing the 'Date and time ( )' key as it's not needed\n",
        "if 'Date and time ( )' in launch_dict:\n",
        "    del launch_dict['Date and time ( )']\n",
        "\n",
        "# Adding specific keys that might not be in column_names but are needed\n",
        "launch_dict['Date'] = []\n",
        "launch_dict['Time'] = []\n",
        "launch_dict['Version Booster'] = []\n",
        "launch_dict['Booster landing'] = []\n",
        "\n",
        "extracted_row = 0\n",
        "for table_number, table in enumerate(soup.find_all('table', \"wikitable plainrowheaders collapsible\")):\n",
        "    for rows in table.find_all(\"tr\"):\n",
        "        if rows.th:\n",
        "            if rows.th.string:\n",
        "                flight_number = rows.th.string.strip()\n",
        "                flag = flight_number.isdigit()\n",
        "        else:\n",
        "            flag = False\n",
        "        row = rows.find_all('td')\n",
        "        if flag:\n",
        "            extracted_row += 1\n",
        "\n",
        "            # Flight Number\n",
        "            launch_dict['Flight No.'].append(flight_number)\n",
        "\n",
        "            # Date and Time\n",
        "            date_time_list = date_time(row[0])\n",
        "            launch_dict['Date'].append(date_time_list[0].strip(','))\n",
        "            launch_dict['Time'].append(date_time_list[1])\n",
        "\n",
        "            # Version Booster\n",
        "            bv = booster_version(row[1])\n",
        "            if not bv:\n",
        "                bv = row[1].a.string if row[1].a else ''\n",
        "            launch_dict['Version Booster'].append(bv)\n",
        "\n",
        "            # Launch site\n",
        "            launch_dict['Launch site'].append(row[2].a.string if row[2].a else '')\n",
        "\n",
        "            # Payload\n",
        "            launch_dict['Payload'].append(row[3].a.string if row[3].a else '')\n",
        "\n",
        "            # Payload mass\n",
        "            launch_dict['Payload mass'].append(get_mass(row[4]))\n",
        "\n",
        "            # Orbit\n",
        "            launch_dict['Orbit'].append(row[5].a.string if row[5].a else '')\n",
        "\n",
        "            # Customer\n",
        "            launch_dict['Customer'].append(row[6].a.string if row[6].a else '')\n",
        "\n",
        "            # Launch outcome\n",
        "            launch_dict['Launch outcome'].append(list(row[7].strings)[0] if row[7].strings else '')\n",
        "\n",
        "            # Booster landing\n",
        "            launch_dict['Booster landing'].append(landing_status(row[8]))\n",
        "\n",
        "# Creating a DataFrame from the dictionary\n",
        "df = pd.DataFrame(launch_dict)\n",
        "\n",
        "print(df.head())\n"
      ],
      "metadata": {
        "colab": {
          "base_uri": "https://localhost:8080/"
        },
        "id": "9tRMducZTrqY",
        "outputId": "efc46567-85b5-4bd7-9841-d8bfd3a509ae"
      },
      "execution_count": null,
      "outputs": [
        {
          "output_type": "stream",
          "name": "stdout",
          "text": [
            "  Flight No. Launch site                               Payload Payload mass  \\\n",
            "0          1       CCAFS  Dragon Spacecraft Qualification Unit            0   \n",
            "1          2       CCAFS                                Dragon            0   \n",
            "2          3       CCAFS                                Dragon       525 kg   \n",
            "3          4       CCAFS                          SpaceX CRS-1     4,700 kg   \n",
            "4          5       CCAFS                          SpaceX CRS-2     4,877 kg   \n",
            "\n",
            "  Orbit Customer Launch outcome             Date   Time   Version Booster  \\\n",
            "0   LEO   SpaceX      Success\\n      4 June 2010  18:45  F9 v1.07B0003.18   \n",
            "1   LEO     NASA        Success  8 December 2010  15:43  F9 v1.07B0004.18   \n",
            "2   LEO     NASA        Success      22 May 2012  07:44  F9 v1.07B0005.18   \n",
            "3   LEO     NASA      Success\\n   8 October 2012  00:35  F9 v1.07B0006.18   \n",
            "4   LEO     NASA      Success\\n     1 March 2013  15:10  F9 v1.07B0007.18   \n",
            "\n",
            "  Booster landing  \n",
            "0         Failure  \n",
            "1         Failure  \n",
            "2    No attempt\\n  \n",
            "3      No attempt  \n",
            "4    No attempt\\n  \n"
          ]
        }
      ]
    },
    {
      "cell_type": "code",
      "source": [
        "df = pd.DataFrame({key:pd.Series(value) for key, value in launch_dict.items()})\n",
        "\n",
        "# Exporting to CSV\n",
        "df.to_csv('spacex_web_scraped.csv', index=False)"
      ],
      "metadata": {
        "id": "Z8xrybjnTruJ"
      },
      "execution_count": null,
      "outputs": []
    },
    {
      "cell_type": "markdown",
      "source": [
        "# **MODULE 1 // UAI 3 // WEB SCRAPPING**"
      ],
      "metadata": {
        "id": "vQCmpKtSeNEf"
      }
    },
    {
      "cell_type": "code",
      "source": [
        "import requests\n",
        "from bs4 import BeautifulSoup\n",
        "import pandas as pd\n",
        "import re\n",
        "import unicodedata\n",
        "\n",
        "# Helper functions\n",
        "def date_time(table_cells):\n",
        "    return [data_time.strip() for data_time in list(table_cells.strings)][0:2]\n",
        "\n",
        "def booster_version(table_cells):\n",
        "    out = ''.join([booster_version for i, booster_version in enumerate(table_cells.strings) if i % 2 == 0][0:-1])\n",
        "    return out\n",
        "\n",
        "def landing_status(table_cells):\n",
        "    return [i for i in table_cells.strings][0]\n",
        "\n",
        "def get_mass(table_cells):\n",
        "    mass = unicodedata.normalize(\"NFKD\", table_cells.text).strip()\n",
        "    if mass:\n",
        "        mass.find(\"kg\")\n",
        "        new_mass = mass[0:mass.find(\"kg\")+2]\n",
        "    else:\n",
        "        new_mass = 0\n",
        "    return new_mass\n",
        "\n",
        "def extract_column_from_header(row):\n",
        "    if (row.br):\n",
        "        row.br.extract()\n",
        "    if row.a:\n",
        "        row.a.extract()\n",
        "    if row.sup:\n",
        "        row.sup.extract()\n",
        "\n",
        "    column_name = ' '.join(row.contents)\n",
        "\n",
        "    if not(column_name.strip().isdigit()):\n",
        "        column_name = column_name.strip()\n",
        "        return column_name\n",
        "\n",
        "# URL of the Wikipedia page\n",
        "url = \"https://en.wikipedia.org/w/index.php?title=List_of_Falcon_9_and_Falcon_Heavy_launches&oldid=1027686922\"\n",
        "\n",
        "# Task 1: Request the Falcon9 Launch Wiki page\n",
        "response = requests.get(url)\n",
        "soup = BeautifulSoup(response.text, 'html.parser')\n",
        "\n",
        "# Task 2: Extract column names\n",
        "html_tables = soup.find_all('table')\n",
        "first_launch_table = html_tables[2]\n",
        "\n",
        "column_names = []\n",
        "for th in first_launch_table.find_all('th'):\n",
        "    name = extract_column_from_header(th)\n",
        "    if name is not None and len(name) > 0:\n",
        "        column_names.append(name)\n",
        "\n",
        "# Task 3: Create a data frame by parsing the launch HTML tables\n",
        "launch_dict = {}\n",
        "for col in column_names:\n",
        "    launch_dict[col] = []\n",
        "\n",
        "# Removing the 'Date and time ( )' key as it's not needed\n",
        "if 'Date and time ( )' in launch_dict:\n",
        "    del launch_dict['Date and time ( )']\n",
        "\n"
      ],
      "metadata": {
        "id": "8I7qfFIWTrxr"
      },
      "execution_count": null,
      "outputs": []
    },
    {
      "cell_type": "code",
      "source": [
        "# Adding specific keys that might not be in column_names but are needed\n",
        "launch_dict['Date'] = []\n",
        "launch_dict['Time'] = []\n",
        "launch_dict['Version Booster'] = []\n",
        "launch_dict['Booster landing'] = []\n",
        "\n",
        "extracted_row = 0\n",
        "for table_number, table in enumerate(soup.find_all('table', \"wikitable plainrowheaders collapsible\")):\n",
        "    for rows in table.find_all(\"tr\"):\n",
        "        if rows.th:\n",
        "            if rows.th.string:\n",
        "                flight_number = rows.th.string.strip()\n",
        "                flag = flight_number.isdigit()\n",
        "        else:\n",
        "            flag = False\n",
        "        row = rows.find_all('td')\n",
        "        if flag:\n",
        "            extracted_row += 1\n",
        "\n",
        "            # Flight Number\n",
        "            launch_dict['Flight No.'].append(flight_number)\n",
        "\n",
        "            # Date and Time\n",
        "            date_time_list = date_time(row[0])\n",
        "            launch_dict['Date'].append(date_time_list[0].strip(','))\n",
        "            launch_dict['Time'].append(date_time_list[1])\n",
        "\n",
        "            # Version Booster\n",
        "            bv = booster_version(row[1])\n",
        "            if not bv:\n",
        "                bv = row[1].a.string if row[1].a else ''\n",
        "            launch_dict['Version Booster'].append(bv)\n",
        "\n",
        "            # Launch site\n",
        "            launch_dict['Launch site'].append(row[2].a.string if row[2].a else '')\n",
        "\n",
        "            # Payload\n",
        "            launch_dict['Payload'].append(row[3].a.string if row[3].a else '')\n",
        "\n",
        "            # Payload mass\n",
        "            launch_dict['Payload mass'].append(get_mass(row[4]))\n",
        "\n",
        "            # Orbit\n",
        "            launch_dict['Orbit'].append(row[5].a.string if row[5].a else '')\n",
        "\n",
        "            # Customer\n",
        "            launch_dict['Customer'].append(row[6].a.string if row[6].a else '')\n",
        "\n",
        "            # Launch outcome\n",
        "            launch_dict['Launch outcome'].append(list(row[7].strings)[0] if row[7].strings else '')\n",
        "\n",
        "            # Booster landing\n",
        "            launch_dict['Booster landing'].append(landing_status(row[8]))\n",
        "\n",
        "# Creating a DataFrame from the dictionary\n",
        "df = pd.DataFrame(launch_dict)\n",
        "\n",
        "print(df.head())\n",
        "\n"
      ],
      "metadata": {
        "colab": {
          "base_uri": "https://localhost:8080/"
        },
        "id": "0cUntwM6Tr1l",
        "outputId": "cc7bf124-ca8a-4df0-a384-59392eadf731"
      },
      "execution_count": null,
      "outputs": [
        {
          "output_type": "stream",
          "name": "stdout",
          "text": [
            "  Flight No. Launch site                               Payload Payload mass  \\\n",
            "0          1       CCAFS  Dragon Spacecraft Qualification Unit            0   \n",
            "1          2       CCAFS                                Dragon            0   \n",
            "2          3       CCAFS                                Dragon       525 kg   \n",
            "3          4       CCAFS                          SpaceX CRS-1     4,700 kg   \n",
            "4          5       CCAFS                          SpaceX CRS-2     4,877 kg   \n",
            "\n",
            "  Orbit Customer Launch outcome             Date   Time   Version Booster  \\\n",
            "0   LEO   SpaceX      Success\\n      4 June 2010  18:45  F9 v1.07B0003.18   \n",
            "1   LEO     NASA        Success  8 December 2010  15:43  F9 v1.07B0004.18   \n",
            "2   LEO     NASA        Success      22 May 2012  07:44  F9 v1.07B0005.18   \n",
            "3   LEO     NASA      Success\\n   8 October 2012  00:35  F9 v1.07B0006.18   \n",
            "4   LEO     NASA      Success\\n     1 March 2013  15:10  F9 v1.07B0007.18   \n",
            "\n",
            "  Booster landing  \n",
            "0         Failure  \n",
            "1         Failure  \n",
            "2    No attempt\\n  \n",
            "3      No attempt  \n",
            "4    No attempt\\n  \n"
          ]
        }
      ]
    },
    {
      "cell_type": "code",
      "source": [
        "# Saving the DataFrame to a CSV file\n",
        "df.to_csv('spacex_web_scraped.csv', index=False)\n",
        "print(\"Data saved to 'spacex_web_scraped.csv'\")"
      ],
      "metadata": {
        "colab": {
          "base_uri": "https://localhost:8080/"
        },
        "id": "JTndBnOZTr5N",
        "outputId": "a4d57fa3-38c8-4c68-bd26-9893c556064d"
      },
      "execution_count": null,
      "outputs": [
        {
          "output_type": "stream",
          "name": "stdout",
          "text": [
            "Data saved to 'spacex_web_scraped.csv'\n"
          ]
        }
      ]
    },
    {
      "cell_type": "markdown",
      "source": [
        "# **MODULE 2 // UAI 1 // EDA**"
      ],
      "metadata": {
        "id": "PV4OR0ARCuS5"
      }
    },
    {
      "cell_type": "code",
      "source": [
        "# Setup\n",
        "%load_ext sql\n",
        "import csv, sqlite3\n",
        "import pandas as pd\n",
        "\n",
        "# Connecting to the database\n",
        "con = sqlite3.connect(\"my_data1.db\")\n",
        "cur = con.cursor()\n",
        "\n",
        "# Loading data into the database\n",
        "%sql sqlite:///my_data1.db\n",
        "\n",
        "df = pd.read_csv(\"https://cf-courses-data.s3.us.cloud-object-storage.appdomain.cloud/IBM-DS0321EN-SkillsNetwork/labs/module_2/data/Spacex.csv\")\n",
        "df.to_sql(\"SPACEXTBL\", con, if_exists='replace', index=False, method=\"multi\")\n",
        "\n"
      ],
      "metadata": {
        "id": "y5SbT2rrTr8S",
        "colab": {
          "base_uri": "https://localhost:8080/"
        },
        "outputId": "fd44cc3b-1c2b-4e90-e182-a7bbab3651d8"
      },
      "execution_count": null,
      "outputs": [
        {
          "output_type": "execute_result",
          "data": {
            "text/plain": [
              "101"
            ]
          },
          "metadata": {},
          "execution_count": 1
        }
      ]
    },
    {
      "cell_type": "code",
      "source": [
        "# Creating clean table\n",
        "%sql DROP TABLE IF EXISTS SPACEXTABLE;\n",
        "%sql create table SPACEXTABLE as select * from SPACEXTBL where Date is not null\n",
        "\n",
        "# Task 1: Display the names of the unique launch sites\n",
        "%sql SELECT DISTINCT Launch_Site FROM SPACEXTABLE;\n"
      ],
      "metadata": {
        "id": "U7XMARh3Tr_2",
        "colab": {
          "base_uri": "https://localhost:8080/",
          "height": 230
        },
        "outputId": "2e604d90-2a48-40f6-886a-20edf3e1a978"
      },
      "execution_count": null,
      "outputs": [
        {
          "output_type": "stream",
          "name": "stdout",
          "text": [
            " * sqlite:///my_data1.db\n",
            "Done.\n",
            " * sqlite:///my_data1.db\n",
            "Done.\n",
            " * sqlite:///my_data1.db\n",
            "Done.\n"
          ]
        },
        {
          "output_type": "execute_result",
          "data": {
            "text/plain": [
              "[('CCAFS LC-40',), ('VAFB SLC-4E',), ('KSC LC-39A',), ('CCAFS SLC-40',)]"
            ],
            "text/html": [
              "<table>\n",
              "    <thead>\n",
              "        <tr>\n",
              "            <th>Launch_Site</th>\n",
              "        </tr>\n",
              "    </thead>\n",
              "    <tbody>\n",
              "        <tr>\n",
              "            <td>CCAFS LC-40</td>\n",
              "        </tr>\n",
              "        <tr>\n",
              "            <td>VAFB SLC-4E</td>\n",
              "        </tr>\n",
              "        <tr>\n",
              "            <td>KSC LC-39A</td>\n",
              "        </tr>\n",
              "        <tr>\n",
              "            <td>CCAFS SLC-40</td>\n",
              "        </tr>\n",
              "    </tbody>\n",
              "</table>"
            ]
          },
          "metadata": {},
          "execution_count": 2
        }
      ]
    },
    {
      "cell_type": "code",
      "source": [
        "# Task 2: Display 5 records where launch sites begin with the string 'CCA'\n",
        "%sql SELECT * FROM SPACEXTABLE WHERE Launch_Site LIKE 'CCA%' LIMIT 5;"
      ],
      "metadata": {
        "colab": {
          "base_uri": "https://localhost:8080/",
          "height": 286
        },
        "id": "nylM52WBOqcb",
        "outputId": "3e2e9a56-4a87-4f17-c65f-79f1bde1f021"
      },
      "execution_count": null,
      "outputs": [
        {
          "output_type": "stream",
          "name": "stdout",
          "text": [
            " * sqlite:///my_data1.db\n",
            "Done.\n"
          ]
        },
        {
          "output_type": "execute_result",
          "data": {
            "text/plain": [
              "[('2010-06-04', '18:45:00', 'F9 v1.0  B0003', 'CCAFS LC-40', 'Dragon Spacecraft Qualification Unit', 0, 'LEO', 'SpaceX', 'Success', 'Failure (parachute)'),\n",
              " ('2010-12-08', '15:43:00', 'F9 v1.0  B0004', 'CCAFS LC-40', 'Dragon demo flight C1, two CubeSats, barrel of Brouere cheese', 0, 'LEO (ISS)', 'NASA (COTS) NRO', 'Success', 'Failure (parachute)'),\n",
              " ('2012-05-22', '7:44:00', 'F9 v1.0  B0005', 'CCAFS LC-40', 'Dragon demo flight C2', 525, 'LEO (ISS)', 'NASA (COTS)', 'Success', 'No attempt'),\n",
              " ('2012-10-08', '0:35:00', 'F9 v1.0  B0006', 'CCAFS LC-40', 'SpaceX CRS-1', 500, 'LEO (ISS)', 'NASA (CRS)', 'Success', 'No attempt'),\n",
              " ('2013-03-01', '15:10:00', 'F9 v1.0  B0007', 'CCAFS LC-40', 'SpaceX CRS-2', 677, 'LEO (ISS)', 'NASA (CRS)', 'Success', 'No attempt')]"
            ],
            "text/html": [
              "<table>\n",
              "    <thead>\n",
              "        <tr>\n",
              "            <th>Date</th>\n",
              "            <th>Time (UTC)</th>\n",
              "            <th>Booster_Version</th>\n",
              "            <th>Launch_Site</th>\n",
              "            <th>Payload</th>\n",
              "            <th>PAYLOAD_MASS__KG_</th>\n",
              "            <th>Orbit</th>\n",
              "            <th>Customer</th>\n",
              "            <th>Mission_Outcome</th>\n",
              "            <th>Landing_Outcome</th>\n",
              "        </tr>\n",
              "    </thead>\n",
              "    <tbody>\n",
              "        <tr>\n",
              "            <td>2010-06-04</td>\n",
              "            <td>18:45:00</td>\n",
              "            <td>F9 v1.0  B0003</td>\n",
              "            <td>CCAFS LC-40</td>\n",
              "            <td>Dragon Spacecraft Qualification Unit</td>\n",
              "            <td>0</td>\n",
              "            <td>LEO</td>\n",
              "            <td>SpaceX</td>\n",
              "            <td>Success</td>\n",
              "            <td>Failure (parachute)</td>\n",
              "        </tr>\n",
              "        <tr>\n",
              "            <td>2010-12-08</td>\n",
              "            <td>15:43:00</td>\n",
              "            <td>F9 v1.0  B0004</td>\n",
              "            <td>CCAFS LC-40</td>\n",
              "            <td>Dragon demo flight C1, two CubeSats, barrel of Brouere cheese</td>\n",
              "            <td>0</td>\n",
              "            <td>LEO (ISS)</td>\n",
              "            <td>NASA (COTS) NRO</td>\n",
              "            <td>Success</td>\n",
              "            <td>Failure (parachute)</td>\n",
              "        </tr>\n",
              "        <tr>\n",
              "            <td>2012-05-22</td>\n",
              "            <td>7:44:00</td>\n",
              "            <td>F9 v1.0  B0005</td>\n",
              "            <td>CCAFS LC-40</td>\n",
              "            <td>Dragon demo flight C2</td>\n",
              "            <td>525</td>\n",
              "            <td>LEO (ISS)</td>\n",
              "            <td>NASA (COTS)</td>\n",
              "            <td>Success</td>\n",
              "            <td>No attempt</td>\n",
              "        </tr>\n",
              "        <tr>\n",
              "            <td>2012-10-08</td>\n",
              "            <td>0:35:00</td>\n",
              "            <td>F9 v1.0  B0006</td>\n",
              "            <td>CCAFS LC-40</td>\n",
              "            <td>SpaceX CRS-1</td>\n",
              "            <td>500</td>\n",
              "            <td>LEO (ISS)</td>\n",
              "            <td>NASA (CRS)</td>\n",
              "            <td>Success</td>\n",
              "            <td>No attempt</td>\n",
              "        </tr>\n",
              "        <tr>\n",
              "            <td>2013-03-01</td>\n",
              "            <td>15:10:00</td>\n",
              "            <td>F9 v1.0  B0007</td>\n",
              "            <td>CCAFS LC-40</td>\n",
              "            <td>SpaceX CRS-2</td>\n",
              "            <td>677</td>\n",
              "            <td>LEO (ISS)</td>\n",
              "            <td>NASA (CRS)</td>\n",
              "            <td>Success</td>\n",
              "            <td>No attempt</td>\n",
              "        </tr>\n",
              "    </tbody>\n",
              "</table>"
            ]
          },
          "metadata": {},
          "execution_count": 3
        }
      ]
    },
    {
      "cell_type": "code",
      "source": [
        "# Task 3: Display the total payload mass carried by boosters launched by NASA (CRS)\n",
        "%sql SELECT SUM(PAYLOAD_MASS__KG_) as Total_Payload_Mass FROM SPACEXTABLE WHERE Customer = 'NASA (CRS)';"
      ],
      "metadata": {
        "colab": {
          "base_uri": "https://localhost:8080/",
          "height": 96
        },
        "id": "xpjm9lGUOvLS",
        "outputId": "51ac8770-596a-479a-c0c3-5de7bec08722"
      },
      "execution_count": null,
      "outputs": [
        {
          "output_type": "stream",
          "name": "stdout",
          "text": [
            " * sqlite:///my_data1.db\n",
            "Done.\n"
          ]
        },
        {
          "output_type": "execute_result",
          "data": {
            "text/plain": [
              "[(45596,)]"
            ],
            "text/html": [
              "<table>\n",
              "    <thead>\n",
              "        <tr>\n",
              "            <th>Total_Payload_Mass</th>\n",
              "        </tr>\n",
              "    </thead>\n",
              "    <tbody>\n",
              "        <tr>\n",
              "            <td>45596</td>\n",
              "        </tr>\n",
              "    </tbody>\n",
              "</table>"
            ]
          },
          "metadata": {},
          "execution_count": 4
        }
      ]
    },
    {
      "cell_type": "code",
      "source": [
        "# Task 4: Display average payload mass carried by booster version F9 v1.1\n",
        "%sql SELECT AVG(PAYLOAD_MASS__KG_) as Avg_Payload_Mass FROM SPACEXTABLE WHERE Booster_Version = 'F9 v1.1';"
      ],
      "metadata": {
        "colab": {
          "base_uri": "https://localhost:8080/",
          "height": 96
        },
        "id": "Zd2oP0hrOzXv",
        "outputId": "20131e95-4f26-4acb-a30e-cf152c1fbc96"
      },
      "execution_count": null,
      "outputs": [
        {
          "output_type": "stream",
          "name": "stdout",
          "text": [
            " * sqlite:///my_data1.db\n",
            "Done.\n"
          ]
        },
        {
          "output_type": "execute_result",
          "data": {
            "text/plain": [
              "[(2928.4,)]"
            ],
            "text/html": [
              "<table>\n",
              "    <thead>\n",
              "        <tr>\n",
              "            <th>Avg_Payload_Mass</th>\n",
              "        </tr>\n",
              "    </thead>\n",
              "    <tbody>\n",
              "        <tr>\n",
              "            <td>2928.4</td>\n",
              "        </tr>\n",
              "    </tbody>\n",
              "</table>"
            ]
          },
          "metadata": {},
          "execution_count": 5
        }
      ]
    },
    {
      "cell_type": "code",
      "source": [
        "# Task 5: List the date when the first successful landing outcome in ground pad was achieved\n",
        "%sql SELECT MIN(Date) as First_Success_Date FROM SPACEXTABLE WHERE Landing_Outcome = 'Success (ground pad)';"
      ],
      "metadata": {
        "colab": {
          "base_uri": "https://localhost:8080/",
          "height": 96
        },
        "id": "b6YPH32dO4he",
        "outputId": "d1cff35d-f88e-4a42-dc0f-e9298883658f"
      },
      "execution_count": null,
      "outputs": [
        {
          "output_type": "stream",
          "name": "stdout",
          "text": [
            " * sqlite:///my_data1.db\n",
            "Done.\n"
          ]
        },
        {
          "output_type": "execute_result",
          "data": {
            "text/plain": [
              "[('2015-12-22',)]"
            ],
            "text/html": [
              "<table>\n",
              "    <thead>\n",
              "        <tr>\n",
              "            <th>First_Success_Date</th>\n",
              "        </tr>\n",
              "    </thead>\n",
              "    <tbody>\n",
              "        <tr>\n",
              "            <td>2015-12-22</td>\n",
              "        </tr>\n",
              "    </tbody>\n",
              "</table>"
            ]
          },
          "metadata": {},
          "execution_count": 7
        }
      ]
    },
    {
      "cell_type": "code",
      "source": [
        "# Task 6: List the names of the boosters which have success in drone ship and have payload mass greater than 4000 but less than 6000\n",
        "%sql SELECT DISTINCT Booster_Version FROM SPACEXTABLE WHERE Landing_Outcome = 'Success (drone ship)' AND PAYLOAD_MASS__KG_ > 4000 AND PAYLOAD_MASS__KG_ < 6000;"
      ],
      "metadata": {
        "colab": {
          "base_uri": "https://localhost:8080/",
          "height": 160
        },
        "id": "hFir4HgoOar-",
        "outputId": "c838aa69-4d9b-4166-fc7b-40793fc7a1e6"
      },
      "execution_count": null,
      "outputs": [
        {
          "output_type": "stream",
          "name": "stdout",
          "text": [
            " * sqlite:///my_data1.db\n",
            "Done.\n"
          ]
        },
        {
          "output_type": "execute_result",
          "data": {
            "text/plain": [
              "[('F9 FT B1022',), ('F9 FT B1026',), ('F9 FT  B1021.2',), ('F9 FT  B1031.2',)]"
            ],
            "text/html": [
              "<table>\n",
              "    <thead>\n",
              "        <tr>\n",
              "            <th>Booster_Version</th>\n",
              "        </tr>\n",
              "    </thead>\n",
              "    <tbody>\n",
              "        <tr>\n",
              "            <td>F9 FT B1022</td>\n",
              "        </tr>\n",
              "        <tr>\n",
              "            <td>F9 FT B1026</td>\n",
              "        </tr>\n",
              "        <tr>\n",
              "            <td>F9 FT  B1021.2</td>\n",
              "        </tr>\n",
              "        <tr>\n",
              "            <td>F9 FT  B1031.2</td>\n",
              "        </tr>\n",
              "    </tbody>\n",
              "</table>"
            ]
          },
          "metadata": {},
          "execution_count": 8
        }
      ]
    },
    {
      "cell_type": "code",
      "source": [
        "# Task 7: List the total number of successful and failure mission outcomes\n",
        "%sql SELECT Mission_Outcome, COUNT(*) as Count FROM SPACEXTABLE GROUP BY Mission_Outcome;"
      ],
      "metadata": {
        "colab": {
          "base_uri": "https://localhost:8080/",
          "height": 160
        },
        "id": "EUyyCTH8PTvp",
        "outputId": "5a6c373d-a224-46e2-ba7f-0ed69c3af98a"
      },
      "execution_count": null,
      "outputs": [
        {
          "output_type": "stream",
          "name": "stdout",
          "text": [
            " * sqlite:///my_data1.db\n",
            "Done.\n"
          ]
        },
        {
          "output_type": "execute_result",
          "data": {
            "text/plain": [
              "[('Failure (in flight)', 1),\n",
              " ('Success', 98),\n",
              " ('Success ', 1),\n",
              " ('Success (payload status unclear)', 1)]"
            ],
            "text/html": [
              "<table>\n",
              "    <thead>\n",
              "        <tr>\n",
              "            <th>Mission_Outcome</th>\n",
              "            <th>Count</th>\n",
              "        </tr>\n",
              "    </thead>\n",
              "    <tbody>\n",
              "        <tr>\n",
              "            <td>Failure (in flight)</td>\n",
              "            <td>1</td>\n",
              "        </tr>\n",
              "        <tr>\n",
              "            <td>Success</td>\n",
              "            <td>98</td>\n",
              "        </tr>\n",
              "        <tr>\n",
              "            <td>Success </td>\n",
              "            <td>1</td>\n",
              "        </tr>\n",
              "        <tr>\n",
              "            <td>Success (payload status unclear)</td>\n",
              "            <td>1</td>\n",
              "        </tr>\n",
              "    </tbody>\n",
              "</table>"
            ]
          },
          "metadata": {},
          "execution_count": 9
        }
      ]
    },
    {
      "cell_type": "code",
      "source": [
        "# Task 8: List the names of the booster_versions which have carried the maximum payload mass\n",
        "%sql SELECT DISTINCT Booster_Version FROM SPACEXTABLE WHERE PAYLOAD_MASS__KG_ = (SELECT MAX(PAYLOAD_MASS__KG_) FROM SPACEXTABLE);"
      ],
      "metadata": {
        "colab": {
          "base_uri": "https://localhost:8080/",
          "height": 331
        },
        "id": "8DFwwoQDPYRl",
        "outputId": "d2b22df4-2412-48e2-9754-f4e2c45365ee"
      },
      "execution_count": null,
      "outputs": [
        {
          "output_type": "stream",
          "name": "stdout",
          "text": [
            " * sqlite:///my_data1.db\n",
            "Done.\n"
          ]
        },
        {
          "output_type": "execute_result",
          "data": {
            "text/plain": [
              "[('F9 B5 B1048.4',),\n",
              " ('F9 B5 B1049.4',),\n",
              " ('F9 B5 B1051.3',),\n",
              " ('F9 B5 B1056.4',),\n",
              " ('F9 B5 B1048.5',),\n",
              " ('F9 B5 B1051.4',),\n",
              " ('F9 B5 B1049.5',),\n",
              " ('F9 B5 B1060.2 ',),\n",
              " ('F9 B5 B1058.3 ',),\n",
              " ('F9 B5 B1051.6',),\n",
              " ('F9 B5 B1060.3',),\n",
              " ('F9 B5 B1049.7 ',)]"
            ],
            "text/html": [
              "<table>\n",
              "    <thead>\n",
              "        <tr>\n",
              "            <th>Booster_Version</th>\n",
              "        </tr>\n",
              "    </thead>\n",
              "    <tbody>\n",
              "        <tr>\n",
              "            <td>F9 B5 B1048.4</td>\n",
              "        </tr>\n",
              "        <tr>\n",
              "            <td>F9 B5 B1049.4</td>\n",
              "        </tr>\n",
              "        <tr>\n",
              "            <td>F9 B5 B1051.3</td>\n",
              "        </tr>\n",
              "        <tr>\n",
              "            <td>F9 B5 B1056.4</td>\n",
              "        </tr>\n",
              "        <tr>\n",
              "            <td>F9 B5 B1048.5</td>\n",
              "        </tr>\n",
              "        <tr>\n",
              "            <td>F9 B5 B1051.4</td>\n",
              "        </tr>\n",
              "        <tr>\n",
              "            <td>F9 B5 B1049.5</td>\n",
              "        </tr>\n",
              "        <tr>\n",
              "            <td>F9 B5 B1060.2 </td>\n",
              "        </tr>\n",
              "        <tr>\n",
              "            <td>F9 B5 B1058.3 </td>\n",
              "        </tr>\n",
              "        <tr>\n",
              "            <td>F9 B5 B1051.6</td>\n",
              "        </tr>\n",
              "        <tr>\n",
              "            <td>F9 B5 B1060.3</td>\n",
              "        </tr>\n",
              "        <tr>\n",
              "            <td>F9 B5 B1049.7 </td>\n",
              "        </tr>\n",
              "    </tbody>\n",
              "</table>"
            ]
          },
          "metadata": {},
          "execution_count": 10
        }
      ]
    },
    {
      "cell_type": "code",
      "source": [
        "# Task 9: List the records which will display the month names, failure landing_outcomes in drone ship, booster versions, launch_site for the months in year 2015\n",
        "%sql SELECT substr(Date, 6, 2) as Month, Landing_Outcome, Booster_Version, Launch_Site FROM SPACEXTABLE WHERE substr(Date, 0, 5) = '2015' AND Landing_Outcome LIKE 'Failure (drone ship)';\n"
      ],
      "metadata": {
        "colab": {
          "base_uri": "https://localhost:8080/",
          "height": 118
        },
        "id": "pwv6n4Y4Pc3B",
        "outputId": "96279488-41e4-49eb-ec7a-ba95d07cda3d"
      },
      "execution_count": null,
      "outputs": [
        {
          "output_type": "stream",
          "name": "stdout",
          "text": [
            " * sqlite:///my_data1.db\n",
            "Done.\n"
          ]
        },
        {
          "output_type": "execute_result",
          "data": {
            "text/plain": [
              "[('01', 'Failure (drone ship)', 'F9 v1.1 B1012', 'CCAFS LC-40'),\n",
              " ('04', 'Failure (drone ship)', 'F9 v1.1 B1015', 'CCAFS LC-40')]"
            ],
            "text/html": [
              "<table>\n",
              "    <thead>\n",
              "        <tr>\n",
              "            <th>Month</th>\n",
              "            <th>Landing_Outcome</th>\n",
              "            <th>Booster_Version</th>\n",
              "            <th>Launch_Site</th>\n",
              "        </tr>\n",
              "    </thead>\n",
              "    <tbody>\n",
              "        <tr>\n",
              "            <td>01</td>\n",
              "            <td>Failure (drone ship)</td>\n",
              "            <td>F9 v1.1 B1012</td>\n",
              "            <td>CCAFS LC-40</td>\n",
              "        </tr>\n",
              "        <tr>\n",
              "            <td>04</td>\n",
              "            <td>Failure (drone ship)</td>\n",
              "            <td>F9 v1.1 B1015</td>\n",
              "            <td>CCAFS LC-40</td>\n",
              "        </tr>\n",
              "    </tbody>\n",
              "</table>"
            ]
          },
          "metadata": {},
          "execution_count": 11
        }
      ]
    },
    {
      "cell_type": "code",
      "source": [
        "# Task 10: Rank the count of landing outcomes between the date 2010-06-04 and 2017-03-20, in descending order\n",
        "%sql SELECT Landing_Outcome, COUNT(*) as Count FROM SPACEXTABLE WHERE Date BETWEEN '2010-06-04' AND '2017-03-20' GROUP BY Landing_Outcome ORDER BY Count DESC;"
      ],
      "metadata": {
        "id": "lpV5EPfzOaXu",
        "colab": {
          "base_uri": "https://localhost:8080/",
          "height": 246
        },
        "outputId": "321ae5de-4a02-44d4-bd22-6476a5b83a1f"
      },
      "execution_count": null,
      "outputs": [
        {
          "output_type": "stream",
          "name": "stdout",
          "text": [
            " * sqlite:///my_data1.db\n",
            "Done.\n"
          ]
        },
        {
          "output_type": "execute_result",
          "data": {
            "text/plain": [
              "[('No attempt', 10),\n",
              " ('Success (drone ship)', 5),\n",
              " ('Failure (drone ship)', 5),\n",
              " ('Success (ground pad)', 3),\n",
              " ('Controlled (ocean)', 3),\n",
              " ('Uncontrolled (ocean)', 2),\n",
              " ('Failure (parachute)', 2),\n",
              " ('Precluded (drone ship)', 1)]"
            ],
            "text/html": [
              "<table>\n",
              "    <thead>\n",
              "        <tr>\n",
              "            <th>Landing_Outcome</th>\n",
              "            <th>Count</th>\n",
              "        </tr>\n",
              "    </thead>\n",
              "    <tbody>\n",
              "        <tr>\n",
              "            <td>No attempt</td>\n",
              "            <td>10</td>\n",
              "        </tr>\n",
              "        <tr>\n",
              "            <td>Success (drone ship)</td>\n",
              "            <td>5</td>\n",
              "        </tr>\n",
              "        <tr>\n",
              "            <td>Failure (drone ship)</td>\n",
              "            <td>5</td>\n",
              "        </tr>\n",
              "        <tr>\n",
              "            <td>Success (ground pad)</td>\n",
              "            <td>3</td>\n",
              "        </tr>\n",
              "        <tr>\n",
              "            <td>Controlled (ocean)</td>\n",
              "            <td>3</td>\n",
              "        </tr>\n",
              "        <tr>\n",
              "            <td>Uncontrolled (ocean)</td>\n",
              "            <td>2</td>\n",
              "        </tr>\n",
              "        <tr>\n",
              "            <td>Failure (parachute)</td>\n",
              "            <td>2</td>\n",
              "        </tr>\n",
              "        <tr>\n",
              "            <td>Precluded (drone ship)</td>\n",
              "            <td>1</td>\n",
              "        </tr>\n",
              "    </tbody>\n",
              "</table>"
            ]
          },
          "metadata": {},
          "execution_count": 12
        }
      ]
    },
    {
      "cell_type": "markdown",
      "source": [
        "# **MODULE 2 // UAI 2**"
      ],
      "metadata": {
        "id": "IiIXa-X_Pot4"
      }
    },
    {
      "cell_type": "code",
      "source": [
        "import pandas as pd\n",
        "import numpy as np\n",
        "import matplotlib.pyplot as plt\n",
        "import seaborn as sns\n",
        "\n",
        "df = pd.read_csv(\"https://cf-courses-data.s3.us.cloud-object-storage.appdomain.cloud/IBM-DS0321EN-SkillsNetwork/datasets/dataset_part_2.csv\")\n",
        "\n",
        "# TASK 1: Visualize the relationship between Flight Number and Launch Site\n",
        "plt.figure(figsize=(12, 6))\n",
        "sns.catplot(x=\"FlightNumber\", y=\"LaunchSite\", hue=\"Class\", data=df, aspect=2)\n",
        "plt.title(\"Flight Number vs Launch Site\")\n",
        "plt.show()\n"
      ],
      "metadata": {
        "colab": {
          "base_uri": "https://localhost:8080/",
          "height": 546
        },
        "id": "HLJOV3KPObKG",
        "outputId": "b1b07b1e-eac5-47b9-bcdc-e1c77e7dc1fc"
      },
      "execution_count": null,
      "outputs": [
        {
          "output_type": "display_data",
          "data": {
            "text/plain": [
              "<Figure size 1200x600 with 0 Axes>"
            ]
          },
          "metadata": {}
        },
        {
          "output_type": "display_data",
          "data": {
            "text/plain": [
              "<Figure size 1058.88x500 with 1 Axes>"
            ],
            "image/png": "[encoded data removed]"
          },
          "metadata": {}
        }
      ]
    },
    {
      "cell_type": "code",
      "source": [
        "# TASK 2: Visualize the relationship between Payload and Launch Site\n",
        "plt.figure(figsize=(12, 6))\n",
        "sns.scatterplot(x=\"PayloadMass\", y=\"LaunchSite\", hue=\"Class\", data=df)\n",
        "plt.title(\"Payload vs Launch Site\")\n",
        "plt.show()\n",
        "\n"
      ],
      "metadata": {
        "colab": {
          "base_uri": "https://localhost:8080/",
          "height": 564
        },
        "id": "yXIycnr3ObVz",
        "outputId": "2f0aa632-1d15-41dc-fdfb-f8a2b35c8a4c"
      },
      "execution_count": null,
      "outputs": [
        {
          "output_type": "display_data",
          "data": {
            "text/plain": [
              "<Figure size 1200x600 with 1 Axes>"
            ],
            "image/png": "[encoded data removed]"
          },
          "metadata": {}
        }
      ]
    },
    {
      "cell_type": "code",
      "source": [
        "# TASK 3: Visualize the relationship between success rate of each orbit type\n",
        "orbit_success = df.groupby('Orbit')['Class'].mean().sort_values(ascending=False)\n",
        "plt.figure(figsize=(10, 6))\n",
        "orbit_success.plot(kind='bar')\n",
        "plt.title(\"Success Rate by Orbit Type\")\n",
        "plt.ylabel(\"Success Rate\")\n",
        "plt.show()\n"
      ],
      "metadata": {
        "colab": {
          "base_uri": "https://localhost:8080/",
          "height": 589
        },
        "id": "qs6EOW7SObeZ",
        "outputId": "a94d2c1f-5a8e-42a2-a3c5-03779b0c0dd4"
      },
      "execution_count": null,
      "outputs": [
        {
          "output_type": "display_data",
          "data": {
            "text/plain": [
              "<Figure size 1000x600 with 1 Axes>"
            ],
            "image/png": "[encoded data removed]"
          },
          "metadata": {}
        }
      ]
    },
    {
      "cell_type": "code",
      "source": [
        "# TASK 4: Visualize the relationship between FlightNumber and Orbit type\n",
        "plt.figure(figsize=(12, 6))\n",
        "sns.scatterplot(x=\"FlightNumber\", y=\"Orbit\", hue=\"Class\", data=df)\n",
        "plt.title(\"Flight Number vs Orbit Type\")\n",
        "plt.show()\n"
      ],
      "metadata": {
        "colab": {
          "base_uri": "https://localhost:8080/",
          "height": 564
        },
        "id": "d2xRxIWUQs9r",
        "outputId": "8192500d-3541-41eb-edf9-ca02e5b4770d"
      },
      "execution_count": null,
      "outputs": [
        {
          "output_type": "display_data",
          "data": {
            "text/plain": [
              "<Figure size 1200x600 with 1 Axes>"
            ],
            "image/png": "[encoded data removed]"
          },
          "metadata": {}
        }
      ]
    },
    {
      "cell_type": "code",
      "source": [
        "# TASK 5: Visualize the relationship between Payload and Orbit type\n",
        "plt.figure(figsize=(12, 6))\n",
        "sns.scatterplot(x=\"PayloadMass\", y=\"Orbit\", hue=\"Class\", data=df)\n",
        "plt.title(\"Payload vs Orbit Type\")\n",
        "plt.show()\n"
      ],
      "metadata": {
        "colab": {
          "base_uri": "https://localhost:8080/",
          "height": 564
        },
        "id": "nF0OkvHVQtGg",
        "outputId": "4e59fc47-30a3-4736-d64a-60bde1404841"
      },
      "execution_count": null,
      "outputs": [
        {
          "output_type": "display_data",
          "data": {
            "text/plain": [
              "<Figure size 1200x600 with 1 Axes>"
            ],
            "image/png": "[encoded data removed]"
          },
          "metadata": {}
        }
      ]
    },
    {
      "cell_type": "code",
      "source": [
        "# TASK 6: Visualize the launch success yearly trend\n",
        "def Extract_year(date):\n",
        "    return date.split(\"-\")[0]\n",
        "\n",
        "df['Year'] = df['Date'].apply(Extract_year)\n",
        "yearly_success = df.groupby('Year')['Class'].mean()\n",
        "plt.figure(figsize=(10, 6))\n",
        "yearly_success.plot(kind='line', marker='o')\n",
        "plt.title(\"Launch Success Yearly Trend\")\n",
        "plt.xlabel(\"Year\")\n",
        "plt.ylabel(\"Success Rate\")\n",
        "plt.show()"
      ],
      "metadata": {
        "colab": {
          "base_uri": "https://localhost:8080/",
          "height": 564
        },
        "id": "Arti-zFJQtLW",
        "outputId": "b7cc109f-bc87-40f6-e93e-f3b35c65ccbf"
      },
      "execution_count": null,
      "outputs": [
        {
          "output_type": "display_data",
          "data": {
            "text/plain": [
              "<Figure size 1000x600 with 1 Axes>"
            ],
            "image/png": "[encoded data removed]"
          },
          "metadata": {}
        }
      ]
    },
    {
      "cell_type": "code",
      "source": [
        "# TASK 7: Create dummy variables for categorical columns\n",
        "features = df[['FlightNumber', 'PayloadMass', 'Orbit', 'LaunchSite', 'Flights', 'GridFins', 'Reused', 'Legs', 'LandingPad', 'Block', 'ReusedCount', 'Serial']]\n",
        "features_one_hot = pd.get_dummies(features, columns=['Orbit', 'LaunchSite', 'LandingPad', 'Serial'])\n",
        "print(features_one_hot.head())"
      ],
      "metadata": {
        "colab": {
          "base_uri": "https://localhost:8080/"
        },
        "id": "AlBsTnF6QtPW",
        "outputId": "21888637-c9ed-41fa-c67f-981df53449ef"
      },
      "execution_count": null,
      "outputs": [
        {
          "output_type": "stream",
          "name": "stdout",
          "text": [
            "   FlightNumber  PayloadMass  Flights  GridFins  Reused   Legs  Block  \\\n",
            "0             1  6104.959412        1     False   False  False    1.0   \n",
            "1             2   525.000000        1     False   False  False    1.0   \n",
            "2             3   677.000000        1     False   False  False    1.0   \n",
            "3             4   500.000000        1     False   False  False    1.0   \n",
            "4             5  3170.000000        1     False   False  False    1.0   \n",
            "\n",
            "   ReusedCount  Orbit_ES-L1  Orbit_GEO  ...  Serial_B1048  Serial_B1049  \\\n",
            "0            0        False      False  ...         False         False   \n",
            "1            0        False      False  ...         False         False   \n",
            "2            0        False      False  ...         False         False   \n",
            "3            0        False      False  ...         False         False   \n",
            "4            0        False      False  ...         False         False   \n",
            "\n",
            "   Serial_B1050  Serial_B1051  Serial_B1054  Serial_B1056  Serial_B1058  \\\n",
            "0         False         False         False         False         False   \n",
            "1         False         False         False         False         False   \n",
            "2         False         False         False         False         False   \n",
            "3         False         False         False         False         False   \n",
            "4         False         False         False         False         False   \n",
            "\n",
            "   Serial_B1059  Serial_B1060  Serial_B1062  \n",
            "0         False         False         False  \n",
            "1         False         False         False  \n",
            "2         False         False         False  \n",
            "3         False         False         False  \n",
            "4         False         False         False  \n",
            "\n",
            "[5 rows x 80 columns]\n"
          ]
        }
      ]
    },
    {
      "cell_type": "code",
      "source": [
        "# TASK 8: Cast all numeric columns to float64\n",
        "features_one_hot = features_one_hot.astype('float64')\n",
        "print(features_one_hot.dtypes)"
      ],
      "metadata": {
        "colab": {
          "base_uri": "https://localhost:8080/"
        },
        "id": "fKU_x4HrQtTA",
        "outputId": "c9b6009f-799f-4a78-c303-d8baba8e85e4"
      },
      "execution_count": null,
      "outputs": [
        {
          "output_type": "stream",
          "name": "stdout",
          "text": [
            "FlightNumber    float64\n",
            "PayloadMass     float64\n",
            "Flights         float64\n",
            "GridFins        float64\n",
            "Reused          float64\n",
            "                 ...   \n",
            "Serial_B1056    float64\n",
            "Serial_B1058    float64\n",
            "Serial_B1059    float64\n",
            "Serial_B1060    float64\n",
            "Serial_B1062    float64\n",
            "Length: 80, dtype: object\n"
          ]
        }
      ]
    },
    {
      "cell_type": "code",
      "source": [
        "#Exporting to CSV\n",
        "features_one_hot.to_csv('dataset_part_3.csv', index=False)"
      ],
      "metadata": {
        "id": "FbNwtxaNQtXM"
      },
      "execution_count": null,
      "outputs": []
    },
    {
      "cell_type": "markdown",
      "source": [
        "# **MODULE 3 // UAI 1 // FOLIUM**"
      ],
      "metadata": {
        "id": "4_Wngm8sRYYD"
      }
    },
    {
      "cell_type": "code",
      "source": [
        "import folium\n",
        "import wget\n",
        "import pandas as pd\n",
        "from folium.plugins import MarkerCluster, MousePosition\n",
        "from folium.features import DivIcon\n",
        "from math import sin, cos, sqrt, atan2, radians\n",
        "\n",
        "# Downloading  and reading the `spacex_launch_geo.csv`\n",
        "spacex_csv_file = wget.download('https://cf-courses-data.s3.us.cloud-object-storage.appdomain.cloud/IBM-DS0321EN-SkillsNetwork/datasets/spacex_launch_geo.csv')\n",
        "spacex_df = pd.read_csv(spacex_csv_file)\n"
      ],
      "metadata": {
        "id": "TFDqY6GuQtaR"
      },
      "execution_count": null,
      "outputs": []
    },
    {
      "cell_type": "code",
      "source": [
        "# Selecting relevant sub-columns\n",
        "spacex_df = spacex_df[['Launch Site', 'Lat', 'Long', 'class']]\n",
        "launch_sites_df = spacex_df.groupby(['Launch Site'], as_index=False).first()\n",
        "launch_sites_df = launch_sites_df[['Launch Site', 'Lat', 'Long']]\n",
        "\n",
        "# Start location is NASA Johnson Space Center\n",
        "nasa_coordinate = [29.559684888503615, -95.0830971930759]\n",
        "site_map = folium.Map(location=nasa_coordinate, zoom_start=5)\n",
        "\n",
        "# Task 1: Mark all launch sites on the map\n",
        "for index, site in launch_sites_df.iterrows():\n",
        "    coordinate = [site['Lat'], site['Long']]\n",
        "    folium.Circle(coordinate, radius=1000, color='#d35400', fill=True).add_child(folium.Popup(site['Launch Site'])).add_to(site_map)\n",
        "    folium.map.Marker(\n",
        "        coordinate,\n",
        "        icon=DivIcon(\n",
        "            icon_size=(20,20),\n",
        "            icon_anchor=(0,0),\n",
        "            html=f'<div style=\"font-size: 12; color:#d35400;\"><b>{site[\"Launch Site\"]}</b></div>'\n",
        "        )\n",
        "    ).add_to(site_map)\n"
      ],
      "metadata": {
        "id": "5jGuQZT6Qtd1"
      },
      "execution_count": null,
      "outputs": []
    },
    {
      "cell_type": "code",
      "source": [
        "# Task 2: Mark success/failed launches for each site\n",
        "marker_cluster = MarkerCluster().add_to(site_map)\n",
        "\n",
        "# Function to assign color to launch outcome\n",
        "def assign_marker_color(launch_outcome):\n",
        "    return 'green' if launch_outcome == 1 else 'red'\n",
        "\n",
        "spacex_df['marker_color'] = spacex_df['class'].apply(assign_marker_color)\n",
        "\n",
        "for index, record in spacex_df.iterrows():\n",
        "    folium.Marker(\n",
        "        [record['Lat'], record['Long']],\n",
        "        icon=folium.Icon(color='white', icon_color=record['marker_color'])\n",
        "    ).add_to(marker_cluster)\n"
      ],
      "metadata": {
        "id": "9YP_6CUDQthb"
      },
      "execution_count": null,
      "outputs": []
    },
    {
      "cell_type": "code",
      "source": [
        "# Task 3: Calculate distances and add markers\n",
        "# Adding Mouse Position\n",
        "formatter = \"function(num) {return L.Util.formatNum(num, 5);};\"\n",
        "mouse_position = MousePosition(\n",
        "    position='topright',\n",
        "    separator=' Long: ',\n",
        "    empty_string='NaN',\n",
        "    lng_first=False,\n",
        "    num_digits=20,\n",
        "    prefix='Lat:',\n",
        "    lat_formatter=formatter,\n",
        "    lng_formatter=formatter,\n",
        ")\n",
        "site_map.add_child(mouse_position)\n",
        "\n",
        "def calculate_distance(lat1, lon1, lat2, lon2):\n",
        "    R = 6373.0\n",
        "    lat1, lon1, lat2, lon2 = map(radians, [lat1, lon1, lat2, lon2])\n",
        "    dlon = lon2 - lon1\n",
        "    dlat = lat2 - lat1\n",
        "    a = sin(dlat / 2)**2 + cos(lat1) * cos(lat2) * sin(dlon / 2)**2\n",
        "    c = 2 * atan2(sqrt(a), sqrt(1 - a))\n",
        "    return R * c\n"
      ],
      "metadata": {
        "id": "rWbYXhOEQtlB"
      },
      "execution_count": null,
      "outputs": []
    },
    {
      "cell_type": "code",
      "source": [
        "# Example for CCAFS LC-40 launch site\n",
        "launch_site = launch_sites_df.iloc[0]\n",
        "launch_site_lat, launch_site_lon = launch_site['Lat'], launch_site['Long']\n"
      ],
      "metadata": {
        "id": "IrY77JaCObo-"
      },
      "execution_count": null,
      "outputs": []
    },
    {
      "cell_type": "code",
      "source": [
        "# Closest coastline point (example coordinates, you should find the actual ones)\n",
        "coastline_lat, coastline_lon = 28.56367, -80.57163\n",
        "\n",
        "distance_coastline = calculate_distance(launch_site_lat, launch_site_lon, coastline_lat, coastline_lon)\n"
      ],
      "metadata": {
        "id": "VcsVQ3u1TsDX"
      },
      "execution_count": null,
      "outputs": []
    },
    {
      "cell_type": "code",
      "source": [
        "# Adding marker for coastline\n",
        "folium.Marker(\n",
        "    [coastline_lat, coastline_lon],\n",
        "    icon=DivIcon(\n",
        "        icon_size=(20,20),\n",
        "        icon_anchor=(0,0),\n",
        "        html=f'<div style=\"font-size: 12; color:#d35400;\"><b>{distance_coastline:.2f} KM</b></div>'\n",
        "    )\n",
        ").add_to(site_map)"
      ],
      "metadata": {
        "colab": {
          "base_uri": "https://localhost:8080/"
        },
        "id": "yuEC2nizUnoe",
        "outputId": "b9c8266c-09ff-4b93-dafb-b6126195146d"
      },
      "execution_count": null,
      "outputs": [
        {
          "output_type": "execute_result",
          "data": {
            "text/plain": [
              "<folium.map.Marker at 0x785a78fa2fe0>"
            ]
          },
          "metadata": {},
          "execution_count": 31
        }
      ]
    },
    {
      "cell_type": "code",
      "source": [
        "# Drawing a line between launch site and coastline\n",
        "folium.PolyLine(\n",
        "    locations=[[launch_site_lat, launch_site_lon], [coastline_lat, coastline_lon]],\n",
        "    weight=1,\n",
        "    color='red'\n",
        ").add_to(site_map)"
      ],
      "metadata": {
        "colab": {
          "base_uri": "https://localhost:8080/"
        },
        "id": "7kZf1ShpUnuX",
        "outputId": "93e4343f-a9d7-46a1-8e38-9aebbb5d034b"
      },
      "execution_count": null,
      "outputs": [
        {
          "output_type": "execute_result",
          "data": {
            "text/plain": [
              "<folium.vector_layers.PolyLine at 0x785a77c1ec20>"
            ]
          },
          "metadata": {},
          "execution_count": 32
        }
      ]
    },
    {
      "cell_type": "code",
      "source": [
        "# We would repeat similar steps for other points of interest (railway, highway, city)\n",
        "\n",
        "site_map"
      ],
      "metadata": {
        "colab": {
          "base_uri": "https://localhost:8080/",
          "height": 706
        },
        "id": "YEG7SlXBUnyv",
        "outputId": "56638f36-d3ed-4062-e281-d54b7bf2d362"
      },
      "execution_count": null,
      "outputs": [
        {
          "output_type": "execute_result",
          "data": {
            "text/plain": [
              "<folium.folium.Map at 0x785a788b9330>"
            ],
            "text/html": [
              "<div style=\"width:100%;\"><div style=\"position:relative;width:100%;height:0;padding-bottom:60%;\"><span style=\"color:#565656\">Make this Notebook Trusted to load map: File -> Trust Notebook</span><iframe srcdoc=\"&lt;!DOCTYPE html&gt;\n",
              "&lt;html&gt;\n",
              "&lt;head&gt;\n",
              "    \n",
              "    &lt;meta http-equiv=&quot;content-type&quot; content=&quot;text/html; charset=UTF-8&quot; /&gt;\n",
              "    \n",
              "        &lt;script&gt;\n",
              "            L_NO_TOUCH = false;\n",
              "            L_DISABLE_3D = false;\n",
              "        &lt;/script&gt;\n",
              "    \n",
              "    &lt;style&gt;html, body {width: 100%;height: 100%;margin: 0;padding: 0;}&lt;/style&gt;\n",
              "    &lt;style&gt;#map {position:absolute;top:0;bottom:0;right:0;left:0;}&lt;/style&gt;\n",
              "    &lt;script src=&quot;https://cdn.jsdelivr.net/npm/leaflet@1.9.3/dist/leaflet.js&quot;&gt;&lt;/script&gt;\n",
              "    &lt;script src=&quot;https://code.jquery.com/jquery-3.7.1.min.js&quot;&gt;&lt;/script&gt;\n",
              "    &lt;script src=&quot;https://cdn.jsdelivr.net/npm/bootstrap@5.2.2/dist/js/bootstrap.bundle.min.js&quot;&gt;&lt;/script&gt;\n",
              "    &lt;script src=&quot;https://cdnjs.cloudflare.com/ajax/libs/Leaflet.awesome-markers/2.0.2/leaflet.awesome-markers.js&quot;&gt;&lt;/script&gt;\n",
              "    &lt;link rel=&quot;stylesheet&quot; href=&quot;https://cdn.jsdelivr.net/npm/leaflet@1.9.3/dist/leaflet.css&quot;/&gt;\n",
              "    &lt;link rel=&quot;stylesheet&quot; href=&quot;https://cdn.jsdelivr.net/npm/bootstrap@5.2.2/dist/css/bootstrap.min.css&quot;/&gt;\n",
              "    &lt;link rel=&quot;stylesheet&quot; href=&quot;https://netdna.bootstrapcdn.com/bootstrap/3.0.0/css/bootstrap-glyphicons.css&quot;/&gt;\n",
              "    &lt;link rel=&quot;stylesheet&quot; href=&quot;https://cdn.jsdelivr.net/npm/@fortawesome/fontawesome-free@6.2.0/css/all.min.css&quot;/&gt;\n",
              "    &lt;link rel=&quot;stylesheet&quot; href=&quot;https://cdnjs.cloudflare.com/ajax/libs/Leaflet.awesome-markers/2.0.2/leaflet.awesome-markers.css&quot;/&gt;\n",
              "    &lt;link rel=&quot;stylesheet&quot; href=&quot;https://cdn.jsdelivr.net/gh/python-visualization/folium/folium/templates/leaflet.awesome.rotate.min.css&quot;/&gt;\n",
              "    \n",
              "            &lt;meta name=&quot;viewport&quot; content=&quot;width=device-width,\n",
              "                initial-scale=1.0, maximum-scale=1.0, user-scalable=no&quot; /&gt;\n",
              "            &lt;style&gt;\n",
              "                #map_3c39bc60bde0c4d460677b5b5f8ffec3 {\n",
              "                    position: relative;\n",
              "                    width: 100.0%;\n",
              "                    height: 100.0%;\n",
              "                    left: 0.0%;\n",
              "                    top: 0.0%;\n",
              "                }\n",
              "                .leaflet-container { font-size: 1rem; }\n",
              "            &lt;/style&gt;\n",
              "        \n",
              "    &lt;script src=&quot;https://cdn.jsdelivr.net/gh/ardhi/Leaflet.MousePosition/src/L.Control.MousePosition.min.js&quot;&gt;&lt;/script&gt;\n",
              "    &lt;link rel=&quot;stylesheet&quot; href=&quot;https://cdn.jsdelivr.net/gh/ardhi/Leaflet.MousePosition/src/L.Control.MousePosition.min.css&quot;/&gt;\n",
              "&lt;/head&gt;\n",
              "&lt;body&gt;\n",
              "    \n",
              "    \n",
              "            &lt;div class=&quot;folium-map&quot; id=&quot;map_3c39bc60bde0c4d460677b5b5f8ffec3&quot; &gt;&lt;/div&gt;\n",
              "        \n",
              "&lt;/body&gt;\n",
              "&lt;script&gt;\n",
              "    \n",
              "    \n",
              "            var map_3c39bc60bde0c4d460677b5b5f8ffec3 = L.map(\n",
              "                &quot;map_3c39bc60bde0c4d460677b5b5f8ffec3&quot;,\n",
              "                {\n",
              "                    center: [29.559684888503615, -95.0830971930759],\n",
              "                    crs: L.CRS.EPSG3857,\n",
              "                    zoom: 5,\n",
              "                    zoomControl: true,\n",
              "                    preferCanvas: false,\n",
              "                }\n",
              "            );\n",
              "\n",
              "            \n",
              "\n",
              "        \n",
              "    \n",
              "            var tile_layer_0cda49accc70d1f61c2676f116a9d81a = L.tileLayer(\n",
              "                &quot;https://tile.openstreetmap.org/{z}/{x}/{y}.png&quot;,\n",
              "                {&quot;attribution&quot;: &quot;\\u0026copy; \\u003ca href=\\&quot;https://www.openstreetmap.org/copyright\\&quot;\\u003eOpenStreetMap\\u003c/a\\u003e contributors&quot;, &quot;detectRetina&quot;: false, &quot;maxNativeZoom&quot;: 19, &quot;maxZoom&quot;: 19, &quot;minZoom&quot;: 0, &quot;noWrap&quot;: false, &quot;opacity&quot;: 1, &quot;subdomains&quot;: &quot;abc&quot;, &quot;tms&quot;: false}\n",
              "            );\n",
              "        \n",
              "    \n",
              "            tile_layer_0cda49accc70d1f61c2676f116a9d81a.addTo(map_3c39bc60bde0c4d460677b5b5f8ffec3);\n",
              "        \n",
              "    \n",
              "            var circle_9cdb0c756222e76697ff7c2412d584be = L.circle(\n",
              "                [28.56230197, -80.57735648],\n",
              "                {&quot;bubblingMouseEvents&quot;: true, &quot;color&quot;: &quot;#d35400&quot;, &quot;dashArray&quot;: null, &quot;dashOffset&quot;: null, &quot;fill&quot;: true, &quot;fillColor&quot;: &quot;#d35400&quot;, &quot;fillOpacity&quot;: 0.2, &quot;fillRule&quot;: &quot;evenodd&quot;, &quot;lineCap&quot;: &quot;round&quot;, &quot;lineJoin&quot;: &quot;round&quot;, &quot;opacity&quot;: 1.0, &quot;radius&quot;: 1000, &quot;stroke&quot;: true, &quot;weight&quot;: 3}\n",
              "            ).addTo(map_3c39bc60bde0c4d460677b5b5f8ffec3);\n",
              "        \n",
              "    \n",
              "        var popup_5c2e4688850c71b2776527761492f1ba = L.popup({&quot;maxWidth&quot;: &quot;100%&quot;});\n",
              "\n",
              "        \n",
              "            \n",
              "                var html_ce4217aa06754b63b2a67a9be768093c = $(`&lt;div id=&quot;html_ce4217aa06754b63b2a67a9be768093c&quot; style=&quot;width: 100.0%; height: 100.0%;&quot;&gt;CCAFS LC-40&lt;/div&gt;`)[0];\n",
              "                popup_5c2e4688850c71b2776527761492f1ba.setContent(html_ce4217aa06754b63b2a67a9be768093c);\n",
              "            \n",
              "        \n",
              "\n",
              "        circle_9cdb0c756222e76697ff7c2412d584be.bindPopup(popup_5c2e4688850c71b2776527761492f1ba)\n",
              "        ;\n",
              "\n",
              "        \n",
              "    \n",
              "    \n",
              "            var marker_de79537b8d60ce072fc2174db858ae81 = L.marker(\n",
              "                [28.56230197, -80.57735648],\n",
              "                {}\n",
              "            ).addTo(map_3c39bc60bde0c4d460677b5b5f8ffec3);\n",
              "        \n",
              "    \n",
              "            var div_icon_987c50099fea6f721dba63ee73e9e58c = L.divIcon({&quot;className&quot;: &quot;empty&quot;, &quot;html&quot;: &quot;\\u003cdiv style=\\&quot;font-size: 12; color:#d35400;\\&quot;\\u003e\\u003cb\\u003eCCAFS LC-40\\u003c/b\\u003e\\u003c/div\\u003e&quot;, &quot;iconAnchor&quot;: [0, 0], &quot;iconSize&quot;: [20, 20]});\n",
              "            marker_de79537b8d60ce072fc2174db858ae81.setIcon(div_icon_987c50099fea6f721dba63ee73e9e58c);\n",
              "        \n",
              "    \n",
              "            var circle_7542c20e76cd476bc54dcc92a8d25fde = L.circle(\n",
              "                [28.56319718, -80.57682003],\n",
              "                {&quot;bubblingMouseEvents&quot;: true, &quot;color&quot;: &quot;#d35400&quot;, &quot;dashArray&quot;: null, &quot;dashOffset&quot;: null, &quot;fill&quot;: true, &quot;fillColor&quot;: &quot;#d35400&quot;, &quot;fillOpacity&quot;: 0.2, &quot;fillRule&quot;: &quot;evenodd&quot;, &quot;lineCap&quot;: &quot;round&quot;, &quot;lineJoin&quot;: &quot;round&quot;, &quot;opacity&quot;: 1.0, &quot;radius&quot;: 1000, &quot;stroke&quot;: true, &quot;weight&quot;: 3}\n",
              "            ).addTo(map_3c39bc60bde0c4d460677b5b5f8ffec3);\n",
              "        \n",
              "    \n",
              "        var popup_12cc4490d2a77d40227d86d8b29e0817 = L.popup({&quot;maxWidth&quot;: &quot;100%&quot;});\n",
              "\n",
              "        \n",
              "            \n",
              "                var html_d28bb2f5ac0771baa16501d00a1ed590 = $(`&lt;div id=&quot;html_d28bb2f5ac0771baa16501d00a1ed590&quot; style=&quot;width: 100.0%; height: 100.0%;&quot;&gt;CCAFS SLC-40&lt;/div&gt;`)[0];\n",
              "                popup_12cc4490d2a77d40227d86d8b29e0817.setContent(html_d28bb2f5ac0771baa16501d00a1ed590);\n",
              "            \n",
              "        \n",
              "\n",
              "        circle_7542c20e76cd476bc54dcc92a8d25fde.bindPopup(popup_12cc4490d2a77d40227d86d8b29e0817)\n",
              "        ;\n",
              "\n",
              "        \n",
              "    \n",
              "    \n",
              "            var marker_8667f6b00c71b13d818ca4c3cdaa684b = L.marker(\n",
              "                [28.56319718, -80.57682003],\n",
              "                {}\n",
              "            ).addTo(map_3c39bc60bde0c4d460677b5b5f8ffec3);\n",
              "        \n",
              "    \n",
              "            var div_icon_bada5e48f671a3b45bced850cf904446 = L.divIcon({&quot;className&quot;: &quot;empty&quot;, &quot;html&quot;: &quot;\\u003cdiv style=\\&quot;font-size: 12; color:#d35400;\\&quot;\\u003e\\u003cb\\u003eCCAFS SLC-40\\u003c/b\\u003e\\u003c/div\\u003e&quot;, &quot;iconAnchor&quot;: [0, 0], &quot;iconSize&quot;: [20, 20]});\n",
              "            marker_8667f6b00c71b13d818ca4c3cdaa684b.setIcon(div_icon_bada5e48f671a3b45bced850cf904446);\n",
              "        \n",
              "    \n",
              "            var circle_06a79f2b1a63b28c493d4635815e857c = L.circle(\n",
              "                [28.57325457, -80.64689529],\n",
              "                {&quot;bubblingMouseEvents&quot;: true, &quot;color&quot;: &quot;#d35400&quot;, &quot;dashArray&quot;: null, &quot;dashOffset&quot;: null, &quot;fill&quot;: true, &quot;fillColor&quot;: &quot;#d35400&quot;, &quot;fillOpacity&quot;: 0.2, &quot;fillRule&quot;: &quot;evenodd&quot;, &quot;lineCap&quot;: &quot;round&quot;, &quot;lineJoin&quot;: &quot;round&quot;, &quot;opacity&quot;: 1.0, &quot;radius&quot;: 1000, &quot;stroke&quot;: true, &quot;weight&quot;: 3}\n",
              "            ).addTo(map_3c39bc60bde0c4d460677b5b5f8ffec3);\n",
              "        \n",
              "    \n",
              "        var popup_bb09485d310ccb3d5215734dbecb3655 = L.popup({&quot;maxWidth&quot;: &quot;100%&quot;});\n",
              "\n",
              "        \n",
              "            \n",
              "                var html_0f4b3f88090593b749210dda3f81070d = $(`&lt;div id=&quot;html_0f4b3f88090593b749210dda3f81070d&quot; style=&quot;width: 100.0%; height: 100.0%;&quot;&gt;KSC LC-39A&lt;/div&gt;`)[0];\n",
              "                popup_bb09485d310ccb3d5215734dbecb3655.setContent(html_0f4b3f88090593b749210dda3f81070d);\n",
              "            \n",
              "        \n",
              "\n",
              "        circle_06a79f2b1a63b28c493d4635815e857c.bindPopup(popup_bb09485d310ccb3d5215734dbecb3655)\n",
              "        ;\n",
              "\n",
              "        \n",
              "    \n",
              "    \n",
              "            var marker_83fe4c8a392ec365ed9850e91e769528 = L.marker(\n",
              "                [28.57325457, -80.64689529],\n",
              "                {}\n",
              "            ).addTo(map_3c39bc60bde0c4d460677b5b5f8ffec3);\n",
              "        \n",
              "    \n",
              "            var div_icon_d0675bfdda8a6ba37fb60ed05afc6d07 = L.divIcon({&quot;className&quot;: &quot;empty&quot;, &quot;html&quot;: &quot;\\u003cdiv style=\\&quot;font-size: 12; color:#d35400;\\&quot;\\u003e\\u003cb\\u003eKSC LC-39A\\u003c/b\\u003e\\u003c/div\\u003e&quot;, &quot;iconAnchor&quot;: [0, 0], &quot;iconSize&quot;: [20, 20]});\n",
              "            marker_83fe4c8a392ec365ed9850e91e769528.setIcon(div_icon_d0675bfdda8a6ba37fb60ed05afc6d07);\n",
              "        \n",
              "    \n",
              "            var circle_4174e9e00f23bb218e77900b1f1b14af = L.circle(\n",
              "                [34.63283416, -120.6107455],\n",
              "                {&quot;bubblingMouseEvents&quot;: true, &quot;color&quot;: &quot;#d35400&quot;, &quot;dashArray&quot;: null, &quot;dashOffset&quot;: null, &quot;fill&quot;: true, &quot;fillColor&quot;: &quot;#d35400&quot;, &quot;fillOpacity&quot;: 0.2, &quot;fillRule&quot;: &quot;evenodd&quot;, &quot;lineCap&quot;: &quot;round&quot;, &quot;lineJoin&quot;: &quot;round&quot;, &quot;opacity&quot;: 1.0, &quot;radius&quot;: 1000, &quot;stroke&quot;: true, &quot;weight&quot;: 3}\n",
              "            ).addTo(map_3c39bc60bde0c4d460677b5b5f8ffec3);\n",
              "        \n",
              "    \n",
              "        var popup_40537bfb705e9f577172ec229d128135 = L.popup({&quot;maxWidth&quot;: &quot;100%&quot;});\n",
              "\n",
              "        \n",
              "            \n",
              "                var html_de7c9f71562923737481b2f672b1f98d = $(`&lt;div id=&quot;html_de7c9f71562923737481b2f672b1f98d&quot; style=&quot;width: 100.0%; height: 100.0%;&quot;&gt;VAFB SLC-4E&lt;/div&gt;`)[0];\n",
              "                popup_40537bfb705e9f577172ec229d128135.setContent(html_de7c9f71562923737481b2f672b1f98d);\n",
              "            \n",
              "        \n",
              "\n",
              "        circle_4174e9e00f23bb218e77900b1f1b14af.bindPopup(popup_40537bfb705e9f577172ec229d128135)\n",
              "        ;\n",
              "\n",
              "        \n",
              "    \n",
              "    \n",
              "            var marker_39759f7b0603d19e64eb7fcb6799225a = L.marker(\n",
              "                [34.63283416, -120.6107455],\n",
              "                {}\n",
              "            ).addTo(map_3c39bc60bde0c4d460677b5b5f8ffec3);\n",
              "        \n",
              "    \n",
              "            var div_icon_4641094cdaaf1910faf5cb1b667abe2c = L.divIcon({&quot;className&quot;: &quot;empty&quot;, &quot;html&quot;: &quot;\\u003cdiv style=\\&quot;font-size: 12; color:#d35400;\\&quot;\\u003e\\u003cb\\u003eVAFB SLC-4E\\u003c/b\\u003e\\u003c/div\\u003e&quot;, &quot;iconAnchor&quot;: [0, 0], &quot;iconSize&quot;: [20, 20]});\n",
              "            marker_39759f7b0603d19e64eb7fcb6799225a.setIcon(div_icon_4641094cdaaf1910faf5cb1b667abe2c);\n",
              "        \n",
              "    \n",
              "            var mouse_position_ea6d42aae0c14f9a49d45d184d6d5df4 = new L.Control.MousePosition(\n",
              "                {&quot;emptyString&quot;: &quot;NaN&quot;, &quot;lngFirst&quot;: false, &quot;numDigits&quot;: 20, &quot;position&quot;: &quot;topright&quot;, &quot;prefix&quot;: &quot;Lat:&quot;, &quot;separator&quot;: &quot; Long: &quot;}\n",
              "            );\n",
              "            mouse_position_ea6d42aae0c14f9a49d45d184d6d5df4.options[&quot;latFormatter&quot;] =\n",
              "                function(num) {return L.Util.formatNum(num, 5);};;\n",
              "            mouse_position_ea6d42aae0c14f9a49d45d184d6d5df4.options[&quot;lngFormatter&quot;] =\n",
              "                function(num) {return L.Util.formatNum(num, 5);};;\n",
              "            map_3c39bc60bde0c4d460677b5b5f8ffec3.addControl(mouse_position_ea6d42aae0c14f9a49d45d184d6d5df4);\n",
              "        \n",
              "    \n",
              "            var marker_ffefc124fe4315c1b7eba5dae2ef56b8 = L.marker(\n",
              "                [28.56367, -80.57163],\n",
              "                {}\n",
              "            ).addTo(map_3c39bc60bde0c4d460677b5b5f8ffec3);\n",
              "        \n",
              "    \n",
              "            var div_icon_c96d683355003e9d0cfab27e05ad3258 = L.divIcon({&quot;className&quot;: &quot;empty&quot;, &quot;html&quot;: &quot;\\u003cdiv style=\\&quot;font-size: 12; color:#d35400;\\&quot;\\u003e\\u003cb\\u003e0.58 KM\\u003c/b\\u003e\\u003c/div\\u003e&quot;, &quot;iconAnchor&quot;: [0, 0], &quot;iconSize&quot;: [20, 20]});\n",
              "            marker_ffefc124fe4315c1b7eba5dae2ef56b8.setIcon(div_icon_c96d683355003e9d0cfab27e05ad3258);\n",
              "        \n",
              "    \n",
              "            var poly_line_6d1a06ba90740b9666b8cbcd02b4ad96 = L.polyline(\n",
              "                [[28.56230197, -80.57735648], [28.56367, -80.57163]],\n",
              "                {&quot;bubblingMouseEvents&quot;: true, &quot;color&quot;: &quot;red&quot;, &quot;dashArray&quot;: null, &quot;dashOffset&quot;: null, &quot;fill&quot;: false, &quot;fillColor&quot;: &quot;red&quot;, &quot;fillOpacity&quot;: 0.2, &quot;fillRule&quot;: &quot;evenodd&quot;, &quot;lineCap&quot;: &quot;round&quot;, &quot;lineJoin&quot;: &quot;round&quot;, &quot;noClip&quot;: false, &quot;opacity&quot;: 1.0, &quot;smoothFactor&quot;: 1.0, &quot;stroke&quot;: true, &quot;weight&quot;: 1}\n",
              "            ).addTo(map_3c39bc60bde0c4d460677b5b5f8ffec3);\n",
              "        \n",
              "&lt;/script&gt;\n",
              "&lt;/html&gt;\" style=\"position:absolute;width:100%;height:100%;left:0;top:0;border:none !important;\" allowfullscreen webkitallowfullscreen mozallowfullscreen></iframe></div></div>"
            ]
          },
          "metadata": {},
          "execution_count": 33
        }
      ]
    },
    {
      "cell_type": "markdown",
      "source": [
        "# **MODULE 3 // UAI 2 // PLOTLY DASH**"
      ],
      "metadata": {
        "id": "aSfAXNAaUn6U"
      }
    },
    {
      "cell_type": "code",
      "source": [
        "!pip install --upgrade dash plotly pandas"
      ],
      "metadata": {
        "colab": {
          "base_uri": "https://localhost:8080/"
        },
        "id": "h4OyKajD25bC",
        "outputId": "d10cf0f0-30ef-4850-d88a-cffe2b1bbfe5"
      },
      "execution_count": null,
      "outputs": [
        {
          "output_type": "stream",
          "name": "stdout",
          "text": [
            "Collecting dash\n",
            "  Downloading dash-2.18.0-py3-none-any.whl.metadata (10 kB)\n",
            "Requirement already satisfied: plotly in /usr/local/lib/python3.10/dist-packages (5.15.0)\n",
            "Collecting plotly\n",
            "  Downloading plotly-5.24.0-py3-none-any.whl.metadata (7.3 kB)\n",
            "Requirement already satisfied: pandas in /usr/local/lib/python3.10/dist-packages (2.1.4)\n",
            "Collecting pandas\n",
            "  Downloading pandas-2.2.2-cp310-cp310-manylinux_2_17_x86_64.manylinux2014_x86_64.whl.metadata (19 kB)\n",
            "Requirement already satisfied: Flask<3.1,>=1.0.4 in /usr/local/lib/python3.10/dist-packages (from dash) (2.2.5)\n",
            "Requirement already satisfied: Werkzeug<3.1 in /usr/local/lib/python3.10/dist-packages (from dash) (3.0.4)\n",
            "Collecting dash-html-components==2.0.0 (from dash)\n",
            "  Downloading dash_html_components-2.0.0-py3-none-any.whl.metadata (3.8 kB)\n",
            "Collecting dash-core-components==2.0.0 (from dash)\n",
            "  Downloading dash_core_components-2.0.0-py3-none-any.whl.metadata (2.9 kB)\n",
            "Collecting dash-table==5.0.0 (from dash)\n",
            "  Downloading dash_table-5.0.0-py3-none-any.whl.metadata (2.4 kB)\n",
            "Requirement already satisfied: importlib-metadata in /usr/local/lib/python3.10/dist-packages (from dash) (8.4.0)\n",
            "Requirement already satisfied: typing-extensions>=4.1.1 in /usr/local/lib/python3.10/dist-packages (from dash) (4.12.2)\n",
            "Requirement already satisfied: requests in /usr/local/lib/python3.10/dist-packages (from dash) (2.32.3)\n",
            "Collecting retrying (from dash)\n",
            "  Downloading retrying-1.3.4-py3-none-any.whl.metadata (6.9 kB)\n",
            "Requirement already satisfied: nest-asyncio in /usr/local/lib/python3.10/dist-packages (from dash) (1.6.0)\n",
            "Requirement already satisfied: setuptools in /usr/local/lib/python3.10/dist-packages (from dash) (71.0.4)\n",
            "Requirement already satisfied: tenacity>=6.2.0 in /usr/local/lib/python3.10/dist-packages (from plotly) (9.0.0)\n",
            "Requirement already satisfied: packaging in /usr/local/lib/python3.10/dist-packages (from plotly) (24.1)\n",
            "Requirement already satisfied: numpy>=1.22.4 in /usr/local/lib/python3.10/dist-packages (from pandas) (1.26.4)\n",
            "Requirement already satisfied: python-dateutil>=2.8.2 in /usr/local/lib/python3.10/dist-packages (from pandas) (2.8.2)\n",
            "Requirement already satisfied: pytz>=2020.1 in /usr/local/lib/python3.10/dist-packages (from pandas) (2024.1)\n",
            "Requirement already satisfied: tzdata>=2022.7 in /usr/local/lib/python3.10/dist-packages (from pandas) (2024.1)\n",
            "Requirement already satisfied: Jinja2>=3.0 in /usr/local/lib/python3.10/dist-packages (from Flask<3.1,>=1.0.4->dash) (3.1.4)\n",
            "Requirement already satisfied: itsdangerous>=2.0 in /usr/local/lib/python3.10/dist-packages (from Flask<3.1,>=1.0.4->dash) (2.2.0)\n",
            "Requirement already satisfied: click>=8.0 in /usr/local/lib/python3.10/dist-packages (from Flask<3.1,>=1.0.4->dash) (8.1.7)\n",
            "Requirement already satisfied: six>=1.5 in /usr/local/lib/python3.10/dist-packages (from python-dateutil>=2.8.2->pandas) (1.16.0)\n",
            "Requirement already satisfied: MarkupSafe>=2.1.1 in /usr/local/lib/python3.10/dist-packages (from Werkzeug<3.1->dash) (2.1.5)\n",
            "Requirement already satisfied: zipp>=0.5 in /usr/local/lib/python3.10/dist-packages (from importlib-metadata->dash) (3.20.1)\n",
            "Requirement already satisfied: charset-normalizer<4,>=2 in /usr/local/lib/python3.10/dist-packages (from requests->dash) (3.3.2)\n",
            "Requirement already satisfied: idna<4,>=2.5 in /usr/local/lib/python3.10/dist-packages (from requests->dash) (3.8)\n",
            "Requirement already satisfied: urllib3<3,>=1.21.1 in /usr/local/lib/python3.10/dist-packages (from requests->dash) (2.0.7)\n",
            "Requirement already satisfied: certifi>=2017.4.17 in /usr/local/lib/python3.10/dist-packages (from requests->dash) (2024.8.30)\n",
            "Downloading dash-2.18.0-py3-none-any.whl (7.5 MB)\n",
            "\u001b[2K   \u001b[90m━━━━━━━━━━━━━━━━━━━━━━━━━━━━━━━━━━━━━━━━\u001b[0m \u001b[32m7.5/7.5 MB\u001b[0m \u001b[31m52.0 MB/s\u001b[0m eta \u001b[36m0:00:00\u001b[0m\n",
            "\u001b[?25hDownloading dash_core_components-2.0.0-py3-none-any.whl (3.8 kB)\n",
            "Downloading dash_html_components-2.0.0-py3-none-any.whl (4.1 kB)\n",
            "Downloading dash_table-5.0.0-py3-none-any.whl (3.9 kB)\n",
            "Downloading plotly-5.24.0-py3-none-any.whl (19.0 MB)\n",
            "\u001b[2K   \u001b[90m━━━━━━━━━━━━━━━━━━━━━━━━━━━━━━━━━━━━━━━━\u001b[0m \u001b[32m19.0/19.0 MB\u001b[0m \u001b[31m77.0 MB/s\u001b[0m eta \u001b[36m0:00:00\u001b[0m\n",
            "\u001b[?25hDownloading pandas-2.2.2-cp310-cp310-manylinux_2_17_x86_64.manylinux2014_x86_64.whl (13.0 MB)\n",
            "\u001b[2K   \u001b[90m━━━━━━━━━━━━━━━━━━━━━━━━━━━━━━━━━━━━━━━━\u001b[0m \u001b[32m13.0/13.0 MB\u001b[0m \u001b[31m78.7 MB/s\u001b[0m eta \u001b[36m0:00:00\u001b[0m\n",
            "\u001b[?25hDownloading retrying-1.3.4-py3-none-any.whl (11 kB)\n",
            "Installing collected packages: dash-table, dash-html-components, dash-core-components, retrying, plotly, pandas, dash\n",
            "  Attempting uninstall: plotly\n",
            "    Found existing installation: plotly 5.15.0\n",
            "    Uninstalling plotly-5.15.0:\n",
            "      Successfully uninstalled plotly-5.15.0\n",
            "  Attempting uninstall: pandas\n",
            "    Found existing installation: pandas 2.1.4\n",
            "    Uninstalling pandas-2.1.4:\n",
            "      Successfully uninstalled pandas-2.1.4\n",
            "\u001b[31mERROR: pip's dependency resolver does not currently take into account all the packages that are installed. This behaviour is the source of the following dependency conflicts.\n",
            "cudf-cu12 24.4.1 requires pandas<2.2.2dev0,>=2.0, but you have pandas 2.2.2 which is incompatible.\n",
            "google-colab 1.0.0 requires pandas==2.1.4, but you have pandas 2.2.2 which is incompatible.\u001b[0m\u001b[31m\n",
            "\u001b[0mSuccessfully installed dash-2.18.0 dash-core-components-2.0.0 dash-html-components-2.0.0 dash-table-5.0.0 pandas-2.2.2 plotly-5.24.0 retrying-1.3.4\n"
          ]
        }
      ]
    },
    {
      "cell_type": "code",
      "source": [
        "!pip install --upgrade werkzeug"
      ],
      "metadata": {
        "colab": {
          "base_uri": "https://localhost:8080/"
        },
        "id": "uvaZ7Ysd3Crr",
        "outputId": "c96f395a-0cd1-4e42-b8a5-e87419a9e529"
      },
      "execution_count": null,
      "outputs": [
        {
          "output_type": "stream",
          "name": "stdout",
          "text": [
            "Requirement already satisfied: werkzeug in /usr/local/lib/python3.10/dist-packages (3.0.4)\n",
            "Requirement already satisfied: MarkupSafe>=2.1.1 in /usr/local/lib/python3.10/dist-packages (from werkzeug) (2.1.5)\n"
          ]
        }
      ]
    },
    {
      "cell_type": "code",
      "source": [
        "import dash\n",
        "from dash import dcc, html\n",
        "from dash.dependencies import Input, Output\n",
        "import plotly.express as px\n",
        "import pandas as pd"
      ],
      "metadata": {
        "id": "5FdYFR4d3Fq3"
      },
      "execution_count": null,
      "outputs": []
    },
    {
      "cell_type": "code",
      "source": [
        "df = pd.read_csv('https://cf-courses-data.s3.us.cloud-object-storage.appdomain.cloud/IBM-DS0321EN-SkillsNetwork/datasets/spacex_launch_dash.csv')\n",
        "\n",
        "print(df.columns)"
      ],
      "metadata": {
        "colab": {
          "base_uri": "https://localhost:8080/"
        },
        "id": "4LuNJfuu3Rsu",
        "outputId": "68cb74d6-9d26-4d67-86e2-88416d84fa33"
      },
      "execution_count": null,
      "outputs": [
        {
          "output_type": "stream",
          "name": "stdout",
          "text": [
            "Index(['Unnamed: 0', 'Flight Number', 'Launch Site', 'class',\n",
            "       'Payload Mass (kg)', 'Booster Version', 'Booster Version Category'],\n",
            "      dtype='object')\n"
          ]
        }
      ]
    },
    {
      "cell_type": "code",
      "source": [
        "import plotly.graph_objects as go\n",
        "import plotly.express as px\n",
        "import pandas as pd\n",
        "from ipywidgets import interact, widgets\n",
        "\n",
        "# Loading the data\n",
        "df = pd.read_csv('https://cf-courses-data.s3.us.cloud-object-storage.appdomain.cloud/IBM-DS0321EN-SkillsNetwork/datasets/spacex_launch_dash.csv')\n",
        "max_payload = df['Payload Mass (kg)'].max()\n",
        "min_payload = df['Payload Mass (kg)'].min()\n",
        "\n",
        "# Creating pie chart\n",
        "def create_pie_chart(site):\n",
        "    if site == 'ALL':\n",
        "        fig = px.pie(df, values='class', names='Launch Site', title='Total Success Launches By Site')\n",
        "    else:\n",
        "        filtered_df = df[df['Launch Site'] == site]\n",
        "        fig = px.pie(filtered_df, names='class', title=f'Total Success Launches for site {site}')\n",
        "    return fig\n",
        "\n"
      ],
      "metadata": {
        "id": "Dek4y8lQ4Ub1"
      },
      "execution_count": null,
      "outputs": []
    },
    {
      "cell_type": "code",
      "source": [
        "# Creating scatter plot\n",
        "def create_scatter_plot(site, payload_range):\n",
        "    low, high = payload_range\n",
        "    mask = (df['Payload Mass (kg)'] > low) & (df['Payload Mass (kg)'] < high)\n",
        "\n",
        "    if site == 'ALL':\n",
        "        fig = px.scatter(df[mask], x=\"Payload Mass (kg)\", y=\"class\", color=\"Booster Version\",\n",
        "                         title='Correlation between Payload and Success for all Sites')\n",
        "    else:\n",
        "        filtered_df = df[mask & (df['Launch Site'] == site)]\n",
        "        fig = px.scatter(filtered_df, x=\"Payload Mass (kg)\", y=\"class\", color=\"Booster Version\",\n",
        "                         title=f'Correlation between Payload and Success for site {site}')\n",
        "    return fig"
      ],
      "metadata": {
        "id": "7YGgIHcKShPo"
      },
      "execution_count": null,
      "outputs": []
    },
    {
      "cell_type": "code",
      "source": [
        "# Interactive widgets\n",
        "site_dropdown = widgets.Dropdown(\n",
        "    options=[('All Sites', 'ALL')] + [(site, site) for site in df['Launch Site'].unique()],\n",
        "    value='ALL',\n",
        "    description='Launch Site:',\n",
        ")\n",
        "\n",
        "payload_slider = widgets.IntRangeSlider(\n",
        "    value=[int(min_payload), int(max_payload)],\n",
        "    min=0,\n",
        "    max=int(max_payload),\n",
        "    step=1000,\n",
        "    description='Payload range:',\n",
        "    disabled=False,\n",
        "    continuous_update=False,\n",
        "    orientation='horizontal',\n",
        "    readout=True\n",
        ")\n",
        "\n",
        "# Interactive function\n",
        "@interact(site=site_dropdown, payload_range=payload_slider)\n",
        "def update_charts(site, payload_range):\n",
        "    pie_fig = create_pie_chart(site)\n",
        "    scatter_fig = create_scatter_plot(site, payload_range)\n",
        "\n",
        "    pie_fig.show()\n",
        "    scatter_fig.show()"
      ],
      "metadata": {
        "colab": {
          "base_uri": "https://localhost:8080/",
          "height": 606,
          "referenced_widgets": [
            "c264b8cb0a304e02a22c8773a227ec23",
            "6b20f96ee8e24b73998be48c0d2d2e6d",
            "c164f73a05c24cd1862a05a63d2dc866",
            "182f34db4ebb41eea1cf5efaae4b5999",
            "6d7c8f935c38485aa5c696eb64c6f5b4",
            "cf39d35949ba4dd0a28c3a73e0cd5c98",
            "8c923f58c6b84b4e973aee331627edf1",
            "f06a98e29027416bbab98491e8d16d07",
            "746559e722304442bf3e883284b4bfe2",
            "abb75f25f9ca44ceb37e12eb83828929"
          ]
        },
        "id": "FmrSxqfhStHO",
        "outputId": "7a3b46bc-beff-4613-c390-d6b09549450a"
      },
      "execution_count": null,
      "outputs": [
        {
          "output_type": "display_data",
          "data": {
            "text/plain": [
              "interactive(children=(Dropdown(description='Launch Site:', options=(('All Sites', 'ALL'), ('CCAFS LC-40', 'CCA…"
            ],
            "application/vnd.jupyter.widget-view+json": {
              "version_major": 2,
              "version_minor": 0,
              "model_id": "c264b8cb0a304e02a22c8773a227ec23"
            }
          },
          "metadata": {}
        }
      ]
    },
    {
      "cell_type": "code",
      "source": [
        "import dash\n",
        "from dash import dcc, html\n",
        "from dash.dependencies import Input, Output\n",
        "import plotly.express as px\n",
        "import pandas as pd\n",
        "\n",
        "# Loading the data\n",
        "df = pd.read_csv('https://cf-courses-data.s3.us.cloud-object-storage.appdomain.cloud/IBM-DS0321EN-SkillsNetwork/datasets/spacex_launch_dash.csv')\n",
        "max_payload = df['Payload Mass (kg)'].max()\n",
        "min_payload = df['Payload Mass (kg)'].min()\n",
        "\n",
        "# Initializing the Dash app\n",
        "app = dash.Dash(__name__)\n"
      ],
      "metadata": {
        "id": "J5ZVQPtjzqtl"
      },
      "execution_count": null,
      "outputs": []
    },
    {
      "cell_type": "code",
      "source": [
        "# TASK 1: Add a Launch Site Drop-down Input Component\n",
        "app.layout = html.Div([\n",
        "    html.H1('SpaceX Launch Records Dashboard', style={'textAlign': 'center', 'color': '#503D36', 'font-size': 40}),\n",
        "    dcc.Dropdown(\n",
        "        id='site-dropdown',\n",
        "        options=[{'label': 'All Sites', 'value': 'ALL'}] +\n",
        "                [{'label': site, 'value': site} for site in df['Launch Site'].unique()],\n",
        "        value='ALL',\n",
        "        placeholder=\"Select a Launch Site here\",\n",
        "        searchable=True\n",
        "    ),\n",
        "    html.Br(),\n",
        "# TASK 2: Add a pie chart to show the total successful launches count for all sites\n",
        "    html.Div(dcc.Graph(id='success-pie-chart')),\n",
        "    html.Br(),\n",
        "\n",
        "    # TASK 3: Add a Range Slider to Select Payload\n",
        "    html.P(\"Payload range (Kg):\"),\n",
        "    dcc.RangeSlider(\n",
        "        id='payload-slider',\n",
        "        min=0,\n",
        "        max=10000,\n",
        "        step=1000,\n",
        "        value=[min_payload, max_payload],\n",
        "        marks={0: '0', 2500: '2500', 5000: '5000', 7500: '7500', 10000: '10000'}\n",
        "    ),\n",
        "\n",
        "    # TASK 4: Add a scatter chart to show the correlation between payload and launch success\n",
        "    html.Div(dcc.Graph(id='success-payload-scatter-chart')),\n",
        "])\n",
        "\n",
        "# TASK 2: Add a callback function to render success-pie-chart based on selected site dropdown\n",
        "@app.callback(\n",
        "    Output(component_id='success-pie-chart', component_property='figure'),\n",
        "    Input(component_id='site-dropdown', component_property='value')\n",
        ")\n",
        "def get_pie_chart(entered_site):\n",
        "    if entered_site == 'ALL':\n",
        "        fig = px.pie(df, values='class', names='Launch Site', title='Total Success Launches By Site')\n",
        "    else:\n",
        "        filtered_df = df[df['Launch Site'] == entered_site]\n",
        "        fig = px.pie(filtered_df, names='class', title=f'Total Success Launches for site {entered_site}')\n",
        "    return fig\n",
        "\n",
        "# TASK 4: Add a callback function to render the success-payload-scatter-chart scatter plot\n",
        "@app.callback(\n",
        "    Output(component_id='success-payload-scatter-chart', component_property='figure'),\n",
        "    [Input(component_id='site-dropdown', component_property='value'),\n",
        "     Input(component_id=\"payload-slider\", component_property=\"value\")]\n",
        ")\n",
        "def get_scatter_chart(entered_site, payload_range):\n",
        "    low, high = payload_range\n",
        "    mask = (df['Payload Mass (kg)'] > low) & (df['Payload Mass (kg)'] < high)\n",
        "\n",
        "    if entered_site == 'ALL':\n",
        "        fig = px.scatter(df[mask],\n",
        "                         x=\"Payload Mass (kg)\",\n",
        "                         y=\"class\",\n",
        "                         color=\"Booster Version\",\n",
        "                         title='Correlation between Payload and Success for all Sites')\n",
        "    else:\n",
        "        filtered_df = df[mask & (df['Launch Site'] == entered_site)]\n",
        "        fig = px.scatter(filtered_df,\n",
        "                         x=\"Payload Mass (kg)\",\n",
        "                         y=\"class\",\n",
        "                         color=\"Booster Version\",\n",
        "                         title=f'Correlation between Payload and Success for site {entered_site}')\n",
        "    return fig\n",
        "\n",
        "# Run the app\n",
        "if __name__ == '__main__':\n",
        "    app.run_server(debug=True)"
      ],
      "metadata": {
        "colab": {
          "base_uri": "https://localhost:8080/",
          "height": 671
        },
        "id": "sDM3sVNcTHK7",
        "outputId": "e7ced816-4e11-4378-d421-fc665eadee92"
      },
      "execution_count": null,
      "outputs": [
        {
          "output_type": "display_data",
          "data": {
            "text/plain": [
              "<IPython.core.display.Javascript object>"
            ],
            "application/javascript": [
              "(async (port, path, width, height, cache, element) => {\n",
              "    if (!google.colab.kernel.accessAllowed && !cache) {\n",
              "      return;\n",
              "    }\n",
              "    element.appendChild(document.createTextNode(''));\n",
              "    const url = await google.colab.kernel.proxyPort(port, {cache});\n",
              "    const iframe = document.createElement('iframe');\n",
              "    iframe.src = new URL(path, url).toString();\n",
              "    iframe.height = height;\n",
              "    iframe.width = width;\n",
              "    iframe.style.border = 0;\n",
              "    iframe.allow = [\n",
              "        'accelerometer',\n",
              "        'autoplay',\n",
              "        'camera',\n",
              "        'clipboard-read',\n",
              "        'clipboard-write',\n",
              "        'gyroscope',\n",
              "        'magnetometer',\n",
              "        'microphone',\n",
              "        'serial',\n",
              "        'usb',\n",
              "        'xr-spatial-tracking',\n",
              "    ].join('; ');\n",
              "    element.appendChild(iframe);\n",
              "  })(8050, \"/\", \"100%\", 650, false, window.element)"
            ]
          },
          "metadata": {}
        }
      ]
    },
    {
      "cell_type": "code",
      "source": [
        "import pandas as pd\n",
        "import numpy as np\n",
        "\n",
        "df = pd.read_csv('https://cf-courses-data.s3.us.cloud-object-storage.appdomain.cloud/IBM-DS0321EN-SkillsNetwork/datasets/spacex_launch_dash.csv')\n",
        "\n",
        "# 1. Site with largest successful launches\n",
        "successful_launches = df[df['class'] == 1]['Launch Site'].value_counts()\n",
        "print(\"1. Site with largest successful launches:\", successful_launches.index[0])\n",
        "\n",
        "# 2. Site with highest launch success rate\n",
        "success_rate = df.groupby('Launch Site')['class'].mean()\n",
        "print(\"2. Site with highest launch success rate:\", success_rate.idxmax())\n",
        "\n",
        "# 3 & 4. Payload ranges with highest and lowest success rates\n",
        "df['payload_range'] = pd.cut(df['Payload Mass (kg)'], bins=5)\n",
        "payload_success_rate = df.groupby('payload_range')['class'].mean()\n",
        "print(\"3. Payload range with highest success rate:\", payload_success_rate.idxmax())\n",
        "print(\"4. Payload range with lowest success rate:\", payload_success_rate.idxmin())\n",
        "\n",
        "# 5. F9 Booster version with highest success rate\n",
        "booster_success_rate = df.groupby('Booster Version')['class'].mean()\n",
        "print(\"5. F9 Booster version with highest success rate:\", booster_success_rate.idxmax())"
      ],
      "metadata": {
        "colab": {
          "base_uri": "https://localhost:8080/"
        },
        "id": "7woVzJH5UL__",
        "outputId": "951a0f97-1951-48c6-84ce-33a0bcdda1c2"
      },
      "execution_count": null,
      "outputs": [
        {
          "output_type": "stream",
          "name": "stdout",
          "text": [
            "1. Site with largest successful launches: KSC LC-39A\n",
            "2. Site with highest launch success rate: KSC LC-39A\n",
            "3. Payload range with highest success rate: (1920.0, 3840.0]\n",
            "4. Payload range with lowest success rate: (5760.0, 7680.0]\n",
            "5. F9 Booster version with highest success rate: F9 B4 B1039.1\n"
          ]
        },
        {
          "output_type": "stream",
          "name": "stderr",
          "text": [
            "<ipython-input-13-5cba9a3685c5>:17: FutureWarning:\n",
            "\n",
            "The default of observed=False is deprecated and will be changed to True in a future version of pandas. Pass observed=False to retain current behavior or observed=True to adopt the future default and silence this warning.\n",
            "\n"
          ]
        }
      ]
    },
    {
      "cell_type": "markdown",
      "source": [
        "# **MODULE 4 // UAI 1 // ML PREDICTION**"
      ],
      "metadata": {
        "id": "iu3a7DYCVRTy"
      }
    },
    {
      "cell_type": "code",
      "source": [
        "# Pandas is a software library written for the Python programming language for data manipulation and analysis.\n",
        "import pandas as pd\n",
        "# NumPy is a library for the Python programming language, adding support for large, multi-dimensional arrays and matrices, along with a large collection of high-level mathematical functions to operate on these arrays\n",
        "import numpy as np\n",
        "# Matplotlib is a plotting library for python and pyplot gives us a MatLab like plotting framework. We will use this in our plotter function to plot data.\n",
        "import matplotlib.pyplot as plt\n",
        "#Seaborn is a Python data visualization library based on matplotlib. It provides a high-level interface for drawing attractive and informative statistical graphics\n",
        "import seaborn as sns\n",
        "# Preprocessing allows us to standarsize our data\n",
        "from sklearn import preprocessing\n",
        "# Allows us to split our data into training and testing data\n",
        "from sklearn.model_selection import train_test_split\n",
        "# Allows us to test parameters of classification algorithms and find the best one\n",
        "from sklearn.model_selection import GridSearchCV\n",
        "# Logistic Regression classification algorithm\n",
        "from sklearn.linear_model import LogisticRegression\n",
        "# Support Vector Machine classification algorithm\n",
        "from sklearn.svm import SVC\n",
        "# Decision Tree classification algorithm\n",
        "from sklearn.tree import DecisionTreeClassifier\n",
        "# K Nearest Neighbors classification algorithm\n",
        "from sklearn.neighbors import KNeighborsClassifier"
      ],
      "metadata": {
        "id": "sRrLggANY8vq"
      },
      "execution_count": null,
      "outputs": []
    },
    {
      "cell_type": "code",
      "source": [
        "def plot_confusion_matrix(y,y_predict):\n",
        "    \"this function plots the confusion matrix\"\n",
        "    from sklearn.metrics import confusion_matrix\n",
        "\n",
        "    cm = confusion_matrix(y, y_predict)\n",
        "    ax= plt.subplot()\n",
        "    sns.heatmap(cm, annot=True, ax = ax); #annot=True to annotate cells\n",
        "    ax.set_xlabel('Predicted labels')\n",
        "    ax.set_ylabel('True labels')\n",
        "    ax.set_title('Confusion Matrix');\n",
        "    ax.xaxis.set_ticklabels(['did not land', 'land']); ax.yaxis.set_ticklabels(['did not land', 'landed'])\n",
        "    plt.show()"
      ],
      "metadata": {
        "id": "quGtMQUvaMmD"
      },
      "execution_count": null,
      "outputs": []
    },
    {
      "cell_type": "code",
      "source": [
        "import pandas as pd\n",
        "\n",
        "# Loading the datasets\n",
        "URL1 = \"https://cf-courses-data.s3.us.cloud-object-storage.appdomain.cloud/IBM-DS0321EN-SkillsNetwork/datasets/dataset_part_2.csv\"\n",
        "URL2 = 'https://cf-courses-data.s3.us.cloud-object-storage.appdomain.cloud/IBM-DS0321EN-SkillsNetwork/datasets/dataset_part_3.csv'\n",
        "\n",
        "data = pd.read_csv(URL1)\n",
        "X = pd.read_csv(URL2)\n",
        "\n",
        "# Displaying the first few rows of each dataset\n",
        "print(data.head())\n",
        "print(X.head())"
      ],
      "metadata": {
        "colab": {
          "base_uri": "https://localhost:8080/"
        },
        "id": "QP38xg0waziI",
        "outputId": "7e8ef9b5-eecf-4435-f32c-a7ee82d1a77b"
      },
      "execution_count": null,
      "outputs": [
        {
          "output_type": "stream",
          "name": "stdout",
          "text": [
            "   FlightNumber        Date BoosterVersion  PayloadMass Orbit    LaunchSite  \\\n",
            "0             1  2010-06-04       Falcon 9  6104.959412   LEO  CCAFS SLC 40   \n",
            "1             2  2012-05-22       Falcon 9   525.000000   LEO  CCAFS SLC 40   \n",
            "2             3  2013-03-01       Falcon 9   677.000000   ISS  CCAFS SLC 40   \n",
            "3             4  2013-09-29       Falcon 9   500.000000    PO   VAFB SLC 4E   \n",
            "4             5  2013-12-03       Falcon 9  3170.000000   GTO  CCAFS SLC 40   \n",
            "\n",
            "       Outcome  Flights  GridFins  Reused   Legs LandingPad  Block  \\\n",
            "0    None None        1     False   False  False        NaN    1.0   \n",
            "1    None None        1     False   False  False        NaN    1.0   \n",
            "2    None None        1     False   False  False        NaN    1.0   \n",
            "3  False Ocean        1     False   False  False        NaN    1.0   \n",
            "4    None None        1     False   False  False        NaN    1.0   \n",
            "\n",
            "   ReusedCount Serial   Longitude   Latitude  Class  \n",
            "0            0  B0003  -80.577366  28.561857      0  \n",
            "1            0  B0005  -80.577366  28.561857      0  \n",
            "2            0  B0007  -80.577366  28.561857      0  \n",
            "3            0  B1003 -120.610829  34.632093      0  \n",
            "4            0  B1004  -80.577366  28.561857      0  \n",
            "   FlightNumber  PayloadMass  Flights  Block  ReusedCount  Orbit_ES-L1  \\\n",
            "0           1.0  6104.959412      1.0    1.0          0.0          0.0   \n",
            "1           2.0   525.000000      1.0    1.0          0.0          0.0   \n",
            "2           3.0   677.000000      1.0    1.0          0.0          0.0   \n",
            "3           4.0   500.000000      1.0    1.0          0.0          0.0   \n",
            "4           5.0  3170.000000      1.0    1.0          0.0          0.0   \n",
            "\n",
            "   Orbit_GEO  Orbit_GTO  Orbit_HEO  Orbit_ISS  ...  Serial_B1058  \\\n",
            "0        0.0        0.0        0.0        0.0  ...           0.0   \n",
            "1        0.0        0.0        0.0        0.0  ...           0.0   \n",
            "2        0.0        0.0        0.0        1.0  ...           0.0   \n",
            "3        0.0        0.0        0.0        0.0  ...           0.0   \n",
            "4        0.0        1.0        0.0        0.0  ...           0.0   \n",
            "\n",
            "   Serial_B1059  Serial_B1060  Serial_B1062  GridFins_False  GridFins_True  \\\n",
            "0           0.0           0.0           0.0             1.0            0.0   \n",
            "1           0.0           0.0           0.0             1.0            0.0   \n",
            "2           0.0           0.0           0.0             1.0            0.0   \n",
            "3           0.0           0.0           0.0             1.0            0.0   \n",
            "4           0.0           0.0           0.0             1.0            0.0   \n",
            "\n",
            "   Reused_False  Reused_True  Legs_False  Legs_True  \n",
            "0           1.0          0.0         1.0        0.0  \n",
            "1           1.0          0.0         1.0        0.0  \n",
            "2           1.0          0.0         1.0        0.0  \n",
            "3           1.0          0.0         1.0        0.0  \n",
            "4           1.0          0.0         1.0        0.0  \n",
            "\n",
            "[5 rows x 83 columns]\n"
          ]
        }
      ]
    },
    {
      "cell_type": "code",
      "source": [
        "import numpy as np\n",
        "\n",
        "# TASK 1\n",
        "# Create a NumPy array from the column 'Class' in 'data',\n",
        "# making sure the output is a Pandas series (only one bracket df['name of column'])\n",
        "Y = data['Class'].to_numpy()\n",
        "\n",
        "# Verifying the result\n",
        "print(\"Shape of Y:\", Y.shape)\n",
        "print(\"First few elements of Y:\", Y[:5])\n",
        "print(\"Data type of Y:\", Y.dtype)"
      ],
      "metadata": {
        "colab": {
          "base_uri": "https://localhost:8080/"
        },
        "id": "pHzkVIxObC35",
        "outputId": "0e4b9616-698e-4279-abaf-d5f38ec67802"
      },
      "execution_count": null,
      "outputs": [
        {
          "output_type": "stream",
          "name": "stdout",
          "text": [
            "Shape of Y: (90,)\n",
            "First few elements of Y: [0 0 0 0 0]\n",
            "Data type of Y: int64\n"
          ]
        }
      ]
    },
    {
      "cell_type": "code",
      "source": [
        "from sklearn.preprocessing import StandardScaler\n",
        "\n",
        "# TASK 2\n",
        "# Standardize the data in X then reassign it to the variable X\n",
        "\n",
        "# Creating a StandardScaler object\n",
        "transform = StandardScaler()\n",
        "\n",
        "# Fit the scaler to the data and transform X\n",
        "X = transform.fit_transform(X)\n",
        "\n",
        "# Verifying the result\n",
        "print(\"Shape of X after standardization:\", X.shape)\n",
        "print(\"Mean of each feature:\\n\", X.mean(axis=0)[:5])  # Printing mean of first 5 features\n",
        "print(\"Standard deviation of each feature:\\n\", X.std(axis=0)[:5])  # Printing std of first 5 features"
      ],
      "metadata": {
        "colab": {
          "base_uri": "https://localhost:8080/"
        },
        "id": "3Ybqi9LSbYYO",
        "outputId": "2c43081c-1f44-47fe-f191-241139b9ab20"
      },
      "execution_count": null,
      "outputs": [
        {
          "output_type": "stream",
          "name": "stdout",
          "text": [
            "Shape of X after standardization: (90, 83)\n",
            "Mean of each feature:\n",
            " [ 1.48029737e-17 -1.41861831e-16 -7.27812872e-17 -1.97372982e-17\n",
            "  5.92118946e-17]\n",
            "Standard deviation of each feature:\n",
            " [1. 1. 1. 1. 1.]\n"
          ]
        }
      ]
    },
    {
      "cell_type": "code",
      "source": [
        "from sklearn.model_selection import train_test_split\n",
        "\n",
        "# TASK 3\n",
        "# Use the function train_test_split to split the data X and Y into training and test data\n",
        "# Set the parameter test_size to 0.2 and random_state to 2\n",
        "X_train, X_test, Y_train, Y_test = train_test_split(X, Y, test_size=0.2, random_state=2)\n",
        "\n",
        "# The shapes of the resulting datasets\n",
        "print(\"Shape of X_train:\", X_train.shape)\n",
        "print(\"Shape of X_test:\", X_test.shape)\n",
        "print(\"Shape of Y_train:\", Y_train.shape)\n",
        "print(\"Shape of Y_test:\", Y_test.shape)"
      ],
      "metadata": {
        "colab": {
          "base_uri": "https://localhost:8080/"
        },
        "id": "3iZ7h-SBblLX",
        "outputId": "db156b90-0a0c-4b59-b5f1-86521d3005a1"
      },
      "execution_count": null,
      "outputs": [
        {
          "output_type": "stream",
          "name": "stdout",
          "text": [
            "Shape of X_train: (72, 83)\n",
            "Shape of X_test: (18, 83)\n",
            "Shape of Y_train: (72,)\n",
            "Shape of Y_test: (18,)\n"
          ]
        }
      ]
    },
    {
      "cell_type": "code",
      "source": [
        "from sklearn.model_selection import GridSearchCV\n",
        "from sklearn.linear_model import LogisticRegression\n",
        "\n",
        "# TASK 4\n",
        "# Create a logistic regression object\n",
        "lr = LogisticRegression()\n",
        "\n",
        "# Defining the parameter grid\n",
        "parameters = {'C': [0.01, 0.1, 1],\n",
        "              'penalty': ['l2'],\n",
        "              'solver': ['lbfgs']}\n",
        "\n",
        "# Creating a GridSearchCV object\n",
        "logreg_cv = GridSearchCV(lr, parameters, cv=10)\n",
        "\n",
        "# Fit the model\n",
        "logreg_cv.fit(X_train, Y_train)\n",
        "\n",
        "# Printing the tuned parameters and score\n",
        "print(\"Tuned Logistic Regression Parameters:\", logreg_cv.best_params_)\n",
        "print(\"Best score:\", logreg_cv.best_score_)"
      ],
      "metadata": {
        "colab": {
          "base_uri": "https://localhost:8080/"
        },
        "id": "8tHbpG2vb2qP",
        "outputId": "52439fe4-3e8c-4f09-b739-bb393f753ed9"
      },
      "execution_count": null,
      "outputs": [
        {
          "output_type": "stream",
          "name": "stdout",
          "text": [
            "Tuned Logistic Regression Parameters: {'C': 0.01, 'penalty': 'l2', 'solver': 'lbfgs'}\n",
            "Best score: 0.8464285714285713\n"
          ]
        }
      ]
    },
    {
      "cell_type": "code",
      "source": [
        "# TASK 5\n",
        "# Calculate the accuracy on the test data using the method score\n",
        "test_accuracy = logreg_cv.score(X_test, Y_test)\n",
        "print(\"Accuracy on test data:\", test_accuracy)\n",
        "\n",
        "# Let's also create a confusion matrix to get more insight\n",
        "from sklearn.metrics import confusion_matrix\n",
        "import numpy as np\n",
        "\n",
        "Y_pred = logreg_cv.predict(X_test)\n",
        "conf_matrix = confusion_matrix(Y_test, Y_pred)\n",
        "\n",
        "print(\"\\nConfusion Matrix:\")\n",
        "print(conf_matrix)\n",
        "\n",
        "# Function to plot the confusion matrix\n",
        "def plot_confusion_matrix(y_true, y_predict):\n",
        "    \"This function plots the confusion matrix\"\n",
        "    from sklearn.metrics import confusion_matrix\n",
        "    import matplotlib.pyplot as plt\n",
        "    import seaborn as sns\n",
        "\n",
        "    cm = confusion_matrix(y_true, y_predict)\n",
        "    ax= plt.subplot()\n",
        "    sns.heatmap(cm, annot=True, ax = ax, fmt='g')\n",
        "    ax.set_xlabel('Predicted labels')\n",
        "    ax.set_ylabel('True labels')\n",
        "    ax.set_title('Confusion Matrix')\n",
        "    ax.xaxis.set_ticklabels(['did not land', 'land'])\n",
        "    ax.yaxis.set_ticklabels(['did not land', 'landed'])\n",
        "    plt.show()\n",
        "\n",
        "# Plotting the confusion matrix\n",
        "plot_confusion_matrix(Y_test, Y_pred)"
      ],
      "metadata": {
        "colab": {
          "base_uri": "https://localhost:8080/",
          "height": 559
        },
        "id": "Vj8mOuMscFbL",
        "outputId": "de657565-1258-428d-a292-d06d7c718360"
      },
      "execution_count": null,
      "outputs": [
        {
          "output_type": "stream",
          "name": "stdout",
          "text": [
            "Accuracy on test data: 0.8333333333333334\n",
            "\n",
            "Confusion Matrix:\n",
            "[[ 3  3]\n",
            " [ 0 12]]\n"
          ]
        },
        {
          "output_type": "display_data",
          "data": {
            "text/plain": [
              "<Figure size 640x480 with 2 Axes>"
            ],
            "image/png": "[encoded data removed]"
          },
          "metadata": {}
        }
      ]
    },
    {
      "cell_type": "code",
      "source": [
        "from sklearn.svm import SVC\n",
        "from sklearn.tree import DecisionTreeClassifier\n",
        "from sklearn.model_selection import GridSearchCV\n",
        "\n",
        "# TASK 6\n",
        "# Create and evaluate SVM model\n",
        "\n",
        "# Defining the parameter grid for SVM\n",
        "svm_parameters = {'kernel':('linear', 'rbf','poly','rbf', 'sigmoid'),\n",
        "                  'C': np.logspace(-3, 3, 5),\n",
        "                  'gamma':np.logspace(-3, 3, 5)}\n",
        "svm = SVC()\n",
        "\n",
        "# Creating a GridSearchCV object for SVM\n",
        "svm_cv = GridSearchCV(svm, svm_parameters, cv=10)\n",
        "\n",
        "# Fit the SVM model\n",
        "svm_cv.fit(X_train, Y_train)\n",
        "\n",
        "print(\"SVM Best Parameters:\", svm_cv.best_params_)\n",
        "print(\"SVM Best Score:\", svm_cv.best_score_)\n",
        "\n",
        "# Calculating accuracy on test data\n",
        "svm_test_accuracy = svm_cv.score(X_test, Y_test)\n",
        "print(\"SVM Accuracy on test data:\", svm_test_accuracy)\n",
        "\n",
        "# Creating and evaluate Decision Tree model\n",
        "\n",
        "# Defining the parameter grid for Decision Tree\n",
        "tree_parameters = {'criterion': ['gini', 'entropy'],\n",
        "                   'splitter': ['best', 'random'],\n",
        "                   'max_depth': [2*n for n in range(1,10)],\n",
        "                   'max_features': ['auto', 'sqrt'],\n",
        "                   'min_samples_leaf': [1, 2, 4],\n",
        "                   'min_samples_split': [2, 5, 10]}\n",
        "\n",
        "tree = DecisionTreeClassifier()\n",
        "\n",
        "# Creating a GridSearchCV object for Decision Tree\n",
        "tree_cv = GridSearchCV(tree, tree_parameters, cv=10)\n",
        "\n",
        "# Fit the Decision Tree model\n",
        "tree_cv.fit(X_train, Y_train)\n",
        "\n",
        "print(\"\\nDecision Tree Best Parameters:\", tree_cv.best_params_)\n",
        "print(\"Decision Tree Best Score:\", tree_cv.best_score_)\n",
        "\n",
        "# Calculating accuracy on test data\n",
        "tree_test_accuracy = tree_cv.score(X_test, Y_test)\n",
        "print(\"Decision Tree Accuracy on test data:\", tree_test_accuracy)\n",
        "\n",
        "# Comparing all models\n",
        "models = {\n",
        "    \"Logistic Regression\": logreg_cv,\n",
        "    \"SVM\": svm_cv,\n",
        "    \"Decision Tree\": tree_cv\n",
        "}\n",
        "\n",
        "print(\"\\nModel Comparison:\")\n",
        "for name, model in models.items():\n",
        "    print(f\"{name} Test Accuracy: {model.score(X_test, Y_test)}\")\n",
        "\n",
        "best_model = max(models, key=lambda x: models[x].score(X_test, Y_test))\n",
        "print(f\"\\nThe best performing model is: {best_model}\")"
      ],
      "metadata": {
        "colab": {
          "base_uri": "https://localhost:8080/"
        },
        "id": "bQfZptnicKzo",
        "outputId": "e2ecf1c3-7ce8-4d46-bc0f-f79061160c79"
      },
      "execution_count": null,
      "outputs": [
        {
          "output_type": "stream",
          "name": "stdout",
          "text": [
            "SVM Best Parameters: {'C': 1.0, 'gamma': 0.03162277660168379, 'kernel': 'sigmoid'}\n",
            "SVM Best Score: 0.8482142857142856\n",
            "SVM Accuracy on test data: 0.8333333333333334\n",
            "\n",
            "Decision Tree Best Parameters: {'criterion': 'gini', 'max_depth': 6, 'max_features': 'sqrt', 'min_samples_leaf': 1, 'min_samples_split': 10, 'splitter': 'random'}\n",
            "Decision Tree Best Score: 0.875\n",
            "Decision Tree Accuracy on test data: 0.8333333333333334\n",
            "\n",
            "Model Comparison:\n",
            "Logistic Regression Test Accuracy: 0.8333333333333334\n",
            "SVM Test Accuracy: 0.8333333333333334\n",
            "Decision Tree Test Accuracy: 0.8333333333333334\n",
            "\n",
            "The best performing model is: Logistic Regression\n"
          ]
        },
        {
          "output_type": "stream",
          "name": "stderr",
          "text": [
            "/usr/local/lib/python3.10/dist-packages/sklearn/model_selection/_validation.py:425: FitFailedWarning:\n",
            "\n",
            "\n",
            "3240 fits failed out of a total of 6480.\n",
            "The score on these train-test partitions for these parameters will be set to nan.\n",
            "If these failures are not expected, you can try to debug them by setting error_score='raise'.\n",
            "\n",
            "Below are more details about the failures:\n",
            "--------------------------------------------------------------------------------\n",
            "3240 fits failed with the following error:\n",
            "Traceback (most recent call last):\n",
            "  File \"/usr/local/lib/python3.10/dist-packages/sklearn/model_selection/_validation.py\", line 729, in _fit_and_score\n",
            "    estimator.fit(X_train, y_train, **fit_params)\n",
            "  File \"/usr/local/lib/python3.10/dist-packages/sklearn/base.py\", line 1145, in wrapper\n",
            "    estimator._validate_params()\n",
            "  File \"/usr/local/lib/python3.10/dist-packages/sklearn/base.py\", line 638, in _validate_params\n",
            "    validate_parameter_constraints(\n",
            "  File \"/usr/local/lib/python3.10/dist-packages/sklearn/utils/_param_validation.py\", line 96, in validate_parameter_constraints\n",
            "    raise InvalidParameterError(\n",
            "sklearn.utils._param_validation.InvalidParameterError: The 'max_features' parameter of DecisionTreeClassifier must be an int in the range [1, inf), a float in the range (0.0, 1.0], a str among {'log2', 'sqrt'} or None. Got 'auto' instead.\n",
            "\n",
            "\n",
            "/usr/local/lib/python3.10/dist-packages/sklearn/model_selection/_search.py:979: UserWarning:\n",
            "\n",
            "One or more of the test scores are non-finite: [       nan        nan        nan        nan        nan        nan\n",
            "        nan        nan        nan        nan        nan        nan\n",
            "        nan        nan        nan        nan        nan        nan\n",
            " 0.76607143 0.81785714 0.83392857 0.80535714 0.79107143 0.80357143\n",
            " 0.82142857 0.75357143 0.80535714 0.79642857 0.81785714 0.81785714\n",
            " 0.74642857 0.81964286 0.73392857 0.80714286 0.76071429 0.83214286\n",
            "        nan        nan        nan        nan        nan        nan\n",
            "        nan        nan        nan        nan        nan        nan\n",
            "        nan        nan        nan        nan        nan        nan\n",
            " 0.79285714 0.71785714 0.79464286 0.82142857 0.81785714 0.80535714\n",
            " 0.75       0.81785714 0.83392857 0.76428571 0.775      0.81964286\n",
            " 0.77678571 0.70714286 0.81785714 0.78928571 0.80357143 0.80357143\n",
            "        nan        nan        nan        nan        nan        nan\n",
            "        nan        nan        nan        nan        nan        nan\n",
            "        nan        nan        nan        nan        nan        nan\n",
            " 0.80357143 0.79285714 0.80178571 0.85       0.71964286 0.875\n",
            " 0.7875     0.775      0.80714286 0.79285714 0.80357143 0.7875\n",
            " 0.80535714 0.775      0.75178571 0.81964286 0.80357143 0.81964286\n",
            "        nan        nan        nan        nan        nan        nan\n",
            "        nan        nan        nan        nan        nan        nan\n",
            "        nan        nan        nan        nan        nan        nan\n",
            " 0.74821429 0.82142857 0.75       0.80892857 0.7625     0.82142857\n",
            " 0.74821429 0.69285714 0.75       0.79107143 0.70714286 0.83392857\n",
            " 0.69821429 0.75178571 0.79107143 0.79107143 0.73928571 0.775\n",
            "        nan        nan        nan        nan        nan        nan\n",
            "        nan        nan        nan        nan        nan        nan\n",
            "        nan        nan        nan        nan        nan        nan\n",
            " 0.78928571 0.83214286 0.76071429 0.73392857 0.77857143 0.81785714\n",
            " 0.71785714 0.77857143 0.67678571 0.74821429 0.83392857 0.80535714\n",
            " 0.775      0.81785714 0.66785714 0.79107143 0.7625     0.80535714\n",
            "        nan        nan        nan        nan        nan        nan\n",
            "        nan        nan        nan        nan        nan        nan\n",
            "        nan        nan        nan        nan        nan        nan\n",
            " 0.79464286 0.83392857 0.73571429 0.79285714 0.72142857 0.79107143\n",
            " 0.69285714 0.74821429 0.76428571 0.79285714 0.7625     0.8625\n",
            " 0.71071429 0.875      0.74821429 0.76607143 0.81785714 0.81785714\n",
            "        nan        nan        nan        nan        nan        nan\n",
            "        nan        nan        nan        nan        nan        nan\n",
            "        nan        nan        nan        nan        nan        nan\n",
            " 0.76428571 0.78928571 0.7375     0.7625     0.75357143 0.78928571\n",
            " 0.76785714 0.76428571 0.7625     0.75535714 0.68214286 0.78928571\n",
            " 0.80535714 0.80535714 0.73214286 0.71964286 0.83392857 0.76428571\n",
            "        nan        nan        nan        nan        nan        nan\n",
            "        nan        nan        nan        nan        nan        nan\n",
            "        nan        nan        nan        nan        nan        nan\n",
            " 0.78928571 0.79107143 0.71785714 0.77678571 0.71071429 0.83214286\n",
            " 0.84642857 0.74821429 0.72321429 0.80714286 0.725      0.81607143\n",
            " 0.81964286 0.76785714 0.83392857 0.83392857 0.70892857 0.84821429\n",
            "        nan        nan        nan        nan        nan        nan\n",
            "        nan        nan        nan        nan        nan        nan\n",
            "        nan        nan        nan        nan        nan        nan\n",
            " 0.80535714 0.73392857 0.76428571 0.775      0.775      0.72142857\n",
            " 0.73571429 0.7625     0.725      0.80357143 0.69464286 0.84642857\n",
            " 0.73571429 0.83392857 0.76071429 0.79107143 0.79107143 0.83392857\n",
            "        nan        nan        nan        nan        nan        nan\n",
            "        nan        nan        nan        nan        nan        nan\n",
            "        nan        nan        nan        nan        nan        nan\n",
            " 0.80357143 0.80357143 0.73392857 0.79107143 0.73571429 0.79107143\n",
            " 0.76428571 0.8375     0.70357143 0.76785714 0.79464286 0.84642857\n",
            " 0.78928571 0.77678571 0.80535714 0.7375     0.7625     0.77857143\n",
            "        nan        nan        nan        nan        nan        nan\n",
            "        nan        nan        nan        nan        nan        nan\n",
            "        nan        nan        nan        nan        nan        nan\n",
            " 0.76071429 0.78035714 0.76071429 0.79285714 0.79464286 0.75178571\n",
            " 0.81785714 0.83571429 0.76785714 0.81964286 0.84642857 0.78928571\n",
            " 0.83392857 0.66785714 0.81964286 0.79464286 0.80357143 0.81785714\n",
            "        nan        nan        nan        nan        nan        nan\n",
            "        nan        nan        nan        nan        nan        nan\n",
            "        nan        nan        nan        nan        nan        nan\n",
            " 0.80357143 0.8625     0.80714286 0.84821429 0.76428571 0.83214286\n",
            " 0.72142857 0.84821429 0.77857143 0.66428571 0.775      0.77678571\n",
            " 0.80535714 0.78928571 0.77857143 0.76607143 0.67678571 0.80714286\n",
            "        nan        nan        nan        nan        nan        nan\n",
            "        nan        nan        nan        nan        nan        nan\n",
            "        nan        nan        nan        nan        nan        nan\n",
            " 0.7625     0.80535714 0.78928571 0.79285714 0.76071429 0.79107143\n",
            " 0.73571429 0.77857143 0.80535714 0.79642857 0.7875     0.76428571\n",
            " 0.80535714 0.79107143 0.77678571 0.81785714 0.77678571 0.7625\n",
            "        nan        nan        nan        nan        nan        nan\n",
            "        nan        nan        nan        nan        nan        nan\n",
            "        nan        nan        nan        nan        nan        nan\n",
            " 0.76071429 0.80714286 0.70892857 0.78035714 0.79107143 0.74642857\n",
            " 0.81785714 0.79285714 0.7625     0.70535714 0.74821429 0.77857143\n",
            " 0.70178571 0.81785714 0.7625     0.78928571 0.70357143 0.71071429\n",
            "        nan        nan        nan        nan        nan        nan\n",
            "        nan        nan        nan        nan        nan        nan\n",
            "        nan        nan        nan        nan        nan        nan\n",
            " 0.80892857 0.80535714 0.76071429 0.82321429 0.80535714 0.775\n",
            " 0.71964286 0.7375     0.77678571 0.79285714 0.73214286 0.83392857\n",
            " 0.725      0.775      0.81785714 0.80357143 0.85714286 0.81964286\n",
            "        nan        nan        nan        nan        nan        nan\n",
            "        nan        nan        nan        nan        nan        nan\n",
            "        nan        nan        nan        nan        nan        nan\n",
            " 0.77678571 0.76607143 0.72321429 0.80714286 0.74642857 0.80357143\n",
            " 0.78928571 0.75       0.75178571 0.74821429 0.84821429 0.77678571\n",
            " 0.6625     0.81785714 0.71964286 0.79107143 0.79107143 0.80535714\n",
            "        nan        nan        nan        nan        nan        nan\n",
            "        nan        nan        nan        nan        nan        nan\n",
            "        nan        nan        nan        nan        nan        nan\n",
            " 0.74821429 0.74821429 0.80535714 0.75       0.79107143 0.81964286\n",
            " 0.81964286 0.76607143 0.70357143 0.80535714 0.80357143 0.74642857\n",
            " 0.83214286 0.83035714 0.77857143 0.79107143 0.76428571 0.79107143\n",
            "        nan        nan        nan        nan        nan        nan\n",
            "        nan        nan        nan        nan        nan        nan\n",
            "        nan        nan        nan        nan        nan        nan\n",
            " 0.64821429 0.80714286 0.74821429 0.73571429 0.70535714 0.77678571\n",
            " 0.74821429 0.79285714 0.79107143 0.80535714 0.80357143 0.80535714\n",
            " 0.69642857 0.80714286 0.69642857 0.78928571 0.72142857 0.78035714]\n",
            "\n"
          ]
        }
      ]
    },
    {
      "cell_type": "markdown",
      "source": [
        "overall findings:\n",
        "\n",
        "1. Support Vector Machine (SVM):\n",
        "\n",
        " Best Parameters: {'C': 1.0, 'gamma': 0.03162277660168379, 'kernel': 'sigmoid'}\n",
        "\n",
        " Best Cross-validation Score: 0.8482142857142856\n",
        "\n",
        " Test Accuracy: 0.8333333333333334\n",
        "\n",
        "2. Decision Tree:\n",
        "\n",
        " Best Parameters: {'criterion': 'gini', 'max_depth': 6, 'max_features': 'sqrt', 'min_samples_leaf': 1, 'min_samples_split': 10, 'splitter': 'random'}\n",
        "\n",
        " Best Cross-validation Score: 0.875\n",
        "\n",
        " Test Accuracy: 0.8333333333333334\n",
        "\n",
        " Logistic Regression (from previous task):\n",
        "Test Accuracy: 0.8333333333333334\n",
        "\n",
        "\n",
        " **Key observations:**\n",
        "All three models (SVM, Decision Tree, and Logistic Regression) achieved the same test accuracy of approximately 83.33%.\n",
        "The Decision Tree model had the highest cross-validation score (87.5%), followed by SVM (84.82%), and then Logistic Regression (84.64% from the previous task).\n",
        "Despite the differences in cross-validation scores, all models performed identically on the test set, which suggests that they generalize similarly to unseen data.\n",
        "The code identified Logistic Regression as the best performing model, likely due to its simplicity compared to the other models with equal performance.\n",
        "\n",
        "\n",
        "There were some warnings and errors during the GridSearchCV process for the Decision Tree model, particularly related to the 'max_features' parameter. This suggests that the parameter grid for the Decision Tree might need some adjustment.\n",
        "\n",
        "**Conclusions and recommendations:**\n",
        "All three models show similar performance on this dataset, with an accuracy of about 83.33% on the test set.\n",
        "Given that all models perform equally well, you might prefer the Logistic Regression model for its simplicity and interpretability.\n",
        "The high consistency between cross-validation scores and test set performance suggests that the models are not overfitting.\n",
        "To potentially improve performance:\n",
        "We can try feature engineering or selection to identify the most important predictors.\n",
        "Experiment with ensemble methods like Random Forests or Gradient Boosting.\n",
        "Collect more data if possible, as this might help the models learn more complex patterns.\n",
        "\n",
        "5. We can address the warnings for the Decision Tree model by adjusting the 'max_features' parameter in the grid search. Replace 'auto' with 'sqrt' or 'log2'.\n",
        "\n",
        "6. We can consider the business context and the cost of false positives vs. false negatives to determine if 83.33% accuracy is sufficient for your use case.\n",
        "\n",
        "Overall, we've successfully implemented and compared multiple machine learning models for this classification task. The consistent performance across different algorithms suggests that you've extracted most of the signal from the current feature set."
      ],
      "metadata": {
        "id": "5MTpfyhTctte"
      }
    },
    {
      "cell_type": "code",
      "source": [
        "# TASK 7\n",
        "# Find the method that performs best using the test data\n",
        "\n",
        "# We'll use the models we've already trained: logreg_cv, svm_cv, and tree_cv\n",
        "\n",
        "# Dictionary to store model names and their test accuracies\n",
        "model_accuracies = {\n",
        "    \"Logistic Regression\": logreg_cv.score(X_test, Y_test),\n",
        "    \"SVM\": svm_cv.score(X_test, Y_test),\n",
        "    \"Decision Tree\": tree_cv.score(X_test, Y_test)\n",
        "}\n",
        "\n",
        "# Printing accuracies for all models\n",
        "print(\"Test Accuracies:\")\n",
        "for model, accuracy in model_accuracies.items():\n",
        "    print(f\"{model}: {accuracy:.4f}\")\n",
        "\n",
        "# Finding the best performing model\n",
        "best_model = max(model_accuracies, key=model_accuracies.get)\n",
        "best_accuracy = model_accuracies[best_model]\n",
        "\n",
        "print(f\"\\nThe best performing model is: {best_model}\")\n",
        "print(f\"Best model accuracy: {best_accuracy:.4f}\")\n",
        "\n",
        "# Let's also look at the confusion matrix and classification report for the best model\n",
        "from sklearn.metrics import confusion_matrix, classification_report\n",
        "\n",
        "# Get the best model\n",
        "if best_model == \"Logistic Regression\":\n",
        "    best_model_cv = logreg_cv\n",
        "elif best_model == \"SVM\":\n",
        "    best_model_cv = svm_cv\n",
        "else:\n",
        "    best_model_cv = tree_cv\n",
        "\n",
        "# Make predictions\n",
        "Y_pred = best_model_cv.predict(X_test)\n",
        "\n",
        "# Confusion Matrix\n",
        "conf_matrix = confusion_matrix(Y_test, Y_pred)\n",
        "print(\"\\nConfusion Matrix:\")\n",
        "print(conf_matrix)\n",
        "\n",
        "# Classification Report\n",
        "class_report = classification_report(Y_test, Y_pred)\n",
        "print(\"\\nClassification Report:\")\n",
        "print(class_report)\n",
        "\n",
        "# Visualizing the confusion matrix\n",
        "import matplotlib.pyplot as plt\n",
        "import seaborn as sns\n",
        "\n",
        "plt.figure(figsize=(8, 6))\n",
        "sns.heatmap(conf_matrix, annot=True, fmt='d', cmap='Blues')\n",
        "plt.title(f'Confusion Matrix - {best_model}')\n",
        "plt.ylabel('True Label')\n",
        "plt.xlabel('Predicted Label')\n",
        "plt.show()"
      ],
      "metadata": {
        "colab": {
          "base_uri": "https://localhost:8080/",
          "height": 946
        },
        "id": "IxWc77QKehAc",
        "outputId": "22696c33-f977-4f02-c82c-c113a50dc03e"
      },
      "execution_count": null,
      "outputs": [
        {
          "output_type": "stream",
          "name": "stdout",
          "text": [
            "Test Accuracies:\n",
            "Logistic Regression: 0.8333\n",
            "SVM: 0.8333\n",
            "Decision Tree: 0.8333\n",
            "\n",
            "The best performing model is: Logistic Regression\n",
            "Best model accuracy: 0.8333\n",
            "\n",
            "Confusion Matrix:\n",
            "[[ 3  3]\n",
            " [ 0 12]]\n",
            "\n",
            "Classification Report:\n",
            "              precision    recall  f1-score   support\n",
            "\n",
            "           0       1.00      0.50      0.67         6\n",
            "           1       0.80      1.00      0.89        12\n",
            "\n",
            "    accuracy                           0.83        18\n",
            "   macro avg       0.90      0.75      0.78        18\n",
            "weighted avg       0.87      0.83      0.81        18\n",
            "\n"
          ]
        },
        {
          "output_type": "display_data",
          "data": {
            "text/plain": [
              "<Figure size 800x600 with 2 Axes>"
            ],
            "image/png": "[encoded data removed]"
          },
          "metadata": {}
        }
      ]
    },
    {
      "cell_type": "code",
      "source": [
        "# TASK 8\n",
        "# Create a decision tree classifier object\n",
        "from sklearn.tree import DecisionTreeClassifier\n",
        "\n",
        "# Defining the parameter grid\n",
        "parameters = {'criterion': ['gini', 'entropy'],\n",
        "     'splitter': ['best', 'random'],\n",
        "     'max_depth': [2*n for n in range(1,10)],\n",
        "     'max_features': ['sqrt', 'log2'],  # Changed 'auto' to 'sqrt' to avoid warnings\n",
        "     'min_samples_leaf': [1, 2, 4],\n",
        "     'min_samples_split': [2, 5, 10]}\n",
        "\n",
        "tree = DecisionTreeClassifier()\n",
        "\n",
        "# Creating a GridSearchCV object\n",
        "from sklearn.model_selection import GridSearchCV\n",
        "\n",
        "tree_cv = GridSearchCV(tree, parameters, cv=10)\n",
        "\n",
        "# Fit the model\n",
        "tree_cv.fit(X_train, Y_train)\n",
        "\n",
        "# Printing the tuned parameters and score\n",
        "print(\"Tuned Decision Tree Parameters:\", tree_cv.best_params_)\n",
        "print(\"Best score is:\", tree_cv.best_score_)\n",
        "\n",
        "# Calculating the accuracy on the test data\n",
        "test_accuracy = tree_cv.score(X_test, Y_test)\n",
        "print(\"Decision Tree Test Accuracy:\", test_accuracy)\n",
        "\n",
        "# Creating a confusion matrix\n",
        "from sklearn.metrics import confusion_matrix\n",
        "import numpy as np\n",
        "\n",
        "Y_pred = tree_cv.predict(X_test)\n",
        "conf_matrix = confusion_matrix(Y_test, Y_pred)\n",
        "\n",
        "print(\"\\nConfusion Matrix:\")\n",
        "print(conf_matrix)\n",
        "\n",
        "# Visualizing the confusion matrix\n",
        "import matplotlib.pyplot as plt\n",
        "import seaborn as sns\n",
        "\n",
        "plt.figure(figsize=(8, 6))\n",
        "sns.heatmap(conf_matrix, annot=True, fmt='d', cmap='Blues')\n",
        "plt.title('Confusion Matrix - Decision Tree')\n",
        "plt.ylabel('True Label')\n",
        "plt.xlabel('Predicted Label')\n",
        "plt.show()"
      ],
      "metadata": {
        "colab": {
          "base_uri": "https://localhost:8080/",
          "height": 705
        },
        "id": "EjT53xoWe6WS",
        "outputId": "38c0af3e-473c-4404-a660-417ad50ca368"
      },
      "execution_count": null,
      "outputs": [
        {
          "output_type": "stream",
          "name": "stdout",
          "text": [
            "Tuned Decision Tree Parameters: {'criterion': 'gini', 'max_depth': 16, 'max_features': 'sqrt', 'min_samples_leaf': 4, 'min_samples_split': 2, 'splitter': 'best'}\n",
            "Best score is: 0.9\n",
            "Decision Tree Test Accuracy: 0.6666666666666666\n",
            "\n",
            "Confusion Matrix:\n",
            "[[ 0  6]\n",
            " [ 0 12]]\n"
          ]
        },
        {
          "output_type": "display_data",
          "data": {
            "text/plain": [
              "<Figure size 800x600 with 2 Axes>"
            ],
            "image/png": "[encoded data removed]"
          },
          "metadata": {}
        }
      ]
    },
    {
      "cell_type": "code",
      "source": [
        "# TASK 9\n",
        "# Calculate the accuracy of tree_cv on the test data using the method score\n",
        "\n",
        "test_accuracy = tree_cv.score(X_test, Y_test)\n",
        "print(\"Decision Tree Test Accuracy:\", test_accuracy)\n",
        "\n",
        "# We can also create a confusion matrix for a more detailed view\n",
        "from sklearn.metrics import confusion_matrix\n",
        "import numpy as np\n",
        "\n",
        "Y_pred = tree_cv.predict(X_test)\n",
        "tree_cm = confusion_matrix(Y_test, Y_pred)\n",
        "print(\"\\nDecision Tree Confusion Matrix:\")\n",
        "print(tree_cm)\n",
        "\n",
        "# Visualizing the confusion matrix\n",
        "plot_confusion_matrix(Y_test, Y_pred)"
      ],
      "metadata": {
        "colab": {
          "base_uri": "https://localhost:8080/",
          "height": 559
        },
        "id": "dQ0Jf5L0fSfn",
        "outputId": "af557dec-9fe0-4f67-a361-75dc817445d4"
      },
      "execution_count": null,
      "outputs": [
        {
          "output_type": "stream",
          "name": "stdout",
          "text": [
            "Decision Tree Test Accuracy: 0.6666666666666666\n",
            "\n",
            "Decision Tree Confusion Matrix:\n",
            "[[ 0  6]\n",
            " [ 0 12]]\n"
          ]
        },
        {
          "output_type": "display_data",
          "data": {
            "text/plain": [
              "<Figure size 640x480 with 2 Axes>"
            ],
            "image/png": "[encoded data removed]"
          },
          "metadata": {}
        }
      ]
    },
    {
      "cell_type": "code",
      "source": [
        "# TASK 10\n",
        "# Create a k nearest neighbors object then create a GridSearchCV object knn_cv with cv = 10\n",
        "from sklearn.neighbors import KNeighborsClassifier\n",
        "from sklearn.model_selection import GridSearchCV\n",
        "\n",
        "# Defining the parameter grid\n",
        "parameters = {'n_neighbors': [1, 2, 3, 4, 5, 6, 7, 8, 9, 10],\n",
        "              'algorithm': ['auto', 'ball_tree', 'kd_tree', 'brute'],\n",
        "              'p': [1, 2]}  # p=1 for manhattan_distance, p=2 for euclidean_distance\n",
        "\n",
        "# Creating KNN classifier\n",
        "knn = KNeighborsClassifier()\n",
        "\n",
        "# Creating GridSearchCV object\n",
        "knn_cv = GridSearchCV(knn, parameters, cv=10)\n",
        "\n",
        "# Fit the model\n",
        "knn_cv.fit(X_train, Y_train)\n",
        "\n",
        "# Printing the tuned parameters and score\n",
        "print(\"Tuned KNN Parameters:\", knn_cv.best_params_)\n",
        "print(\"Best score is:\", knn_cv.best_score_)\n",
        "\n",
        "# Calculating the accuracy on the test data\n",
        "test_accuracy = knn_cv.score(X_test, Y_test)\n",
        "print(\"KNN Test Accuracy:\", test_accuracy)\n",
        "\n",
        "# Creating a confusion matrix\n",
        "from sklearn.metrics import confusion_matrix\n",
        "import numpy as np\n",
        "\n",
        "Y_pred = knn_cv.predict(X_test)\n",
        "knn_cm = confusion_matrix(Y_test, Y_pred)\n",
        "print(\"\\nKNN Confusion Matrix:\")\n",
        "print(knn_cm)\n",
        "\n",
        "# Visualizing the confusion matrix\n",
        "plot_confusion_matrix(Y_test, Y_pred)"
      ],
      "metadata": {
        "colab": {
          "base_uri": "https://localhost:8080/",
          "height": 593
        },
        "id": "CijT4Oejf-ov",
        "outputId": "9266bab1-8cce-4fcd-f56f-2d3581483a80"
      },
      "execution_count": null,
      "outputs": [
        {
          "output_type": "stream",
          "name": "stdout",
          "text": [
            "Tuned KNN Parameters: {'algorithm': 'auto', 'n_neighbors': 10, 'p': 1}\n",
            "Best score is: 0.8482142857142858\n",
            "KNN Test Accuracy: 0.8333333333333334\n",
            "\n",
            "KNN Confusion Matrix:\n",
            "[[ 3  3]\n",
            " [ 0 12]]\n"
          ]
        },
        {
          "output_type": "display_data",
          "data": {
            "text/plain": [
              "<Figure size 640x480 with 2 Axes>"
            ],
            "image/png": "[encoded data removed]"
          },
          "metadata": {}
        }
      ]
    },
    {
      "cell_type": "code",
      "source": [
        "# TASK 11\n",
        "# Calculate the accuracy of knn_cv on the test data using the method score\n",
        "\n",
        "# Calculating the accuracy on the test data\n",
        "knn_test_accuracy = knn_cv.score(X_test, Y_test)\n",
        "print(\"KNN Test Accuracy:\", knn_test_accuracy)\n",
        "\n",
        "# Making predictions on the test data\n",
        "Y_pred_knn = knn_cv.predict(X_test)\n",
        "\n",
        "# Creating a confusion matrix\n",
        "from sklearn.metrics import confusion_matrix, classification_report\n",
        "\n",
        "knn_cm = confusion_matrix(Y_test, Y_pred_knn)\n",
        "print(\"\\nKNN Confusion Matrix:\")\n",
        "print(knn_cm)\n",
        "\n",
        "# Printing classification report\n",
        "print(\"\\nKNN Classification Report:\")\n",
        "print(classification_report(Y_test, Y_pred_knn))\n",
        "\n",
        "# Visualizing the confusion matrix\n",
        "def plot_confusion_matrix(y_true, y_pred, title):\n",
        "    cm = confusion_matrix(y_true, y_pred)\n",
        "    import matplotlib.pyplot as plt\n",
        "    import seaborn as sns\n",
        "    plt.figure(figsize=(8, 6))\n",
        "    sns.heatmap(cm, annot=True, fmt='d', cmap='Blues')\n",
        "    plt.title(title)\n",
        "    plt.ylabel('True Label')\n",
        "    plt.xlabel('Predicted Label')\n",
        "    plt.show()\n",
        "\n",
        "plot_confusion_matrix(Y_test, Y_pred_knn, \"KNN Confusion Matrix\")"
      ],
      "metadata": {
        "colab": {
          "base_uri": "https://localhost:8080/",
          "height": 842
        },
        "id": "dSDTHu0zgCM-",
        "outputId": "7c3abc29-43e3-43d7-e820-62e885acf855"
      },
      "execution_count": null,
      "outputs": [
        {
          "output_type": "stream",
          "name": "stdout",
          "text": [
            "KNN Test Accuracy: 0.8333333333333334\n",
            "\n",
            "KNN Confusion Matrix:\n",
            "[[ 3  3]\n",
            " [ 0 12]]\n",
            "\n",
            "KNN Classification Report:\n",
            "              precision    recall  f1-score   support\n",
            "\n",
            "           0       1.00      0.50      0.67         6\n",
            "           1       0.80      1.00      0.89        12\n",
            "\n",
            "    accuracy                           0.83        18\n",
            "   macro avg       0.90      0.75      0.78        18\n",
            "weighted avg       0.87      0.83      0.81        18\n",
            "\n"
          ]
        },
        {
          "output_type": "display_data",
          "data": {
            "text/plain": [
              "<Figure size 800x600 with 2 Axes>"
            ],
            "image/png": "[encoded data removed]"
          },
          "metadata": {}
        }
      ]
    },
    {
      "cell_type": "code",
      "source": [
        "# TASK 12\n",
        "# Find the method that performs best\n",
        "\n",
        "# Creating a dictionary to store the model names and their test accuracies\n",
        "model_accuracies = {\n",
        "    \"Logistic Regression\": logreg_cv.score(X_test, Y_test),\n",
        "    \"Support Vector Machine\": svm_cv.score(X_test, Y_test),\n",
        "    \"Decision Tree\": tree_cv.score(X_test, Y_test),\n",
        "    \"K-Nearest Neighbors\": knn_cv.score(X_test, Y_test)\n",
        "}\n",
        "\n",
        "# Finding the best performing model\n",
        "best_model = max(model_accuracies, key=model_accuracies.get)\n",
        "best_accuracy = model_accuracies[best_model]\n",
        "\n",
        "# Printing the results\n",
        "print(\"Test Accuracies:\")\n",
        "for model, accuracy in model_accuracies.items():\n",
        "    print(f\"{model}: {accuracy:.4f}\")\n",
        "\n",
        "print(f\"\\nThe best performing model is: {best_model}\")\n",
        "print(f\"Best model accuracy: {best_accuracy:.4f}\")"
      ],
      "metadata": {
        "colab": {
          "base_uri": "https://localhost:8080/"
        },
        "id": "V5nSXMW3gMm7",
        "outputId": "2a7bf949-a3d9-4a10-c4f3-7229f8866dfa"
      },
      "execution_count": null,
      "outputs": [
        {
          "output_type": "stream",
          "name": "stdout",
          "text": [
            "Test Accuracies:\n",
            "Logistic Regression: 0.8333\n",
            "Support Vector Machine: 0.8333\n",
            "Decision Tree: 0.6667\n",
            "K-Nearest Neighbors: 0.8333\n",
            "\n",
            "The best performing model is: Logistic Regression\n",
            "Best model accuracy: 0.8333\n"
          ]
        }
      ]
    }
  ]
}